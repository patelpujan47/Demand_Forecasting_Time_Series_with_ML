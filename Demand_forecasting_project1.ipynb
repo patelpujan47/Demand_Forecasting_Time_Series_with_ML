{
 "cells": [
  {
   "cell_type": "markdown",
   "id": "13aff848",
   "metadata": {},
   "source": [
    "## Libraries"
   ]
  },
  {
   "cell_type": "code",
   "execution_count": null,
   "id": "d7ea8c9b",
   "metadata": {},
   "outputs": [],
   "source": [
    "import numpy as np\n",
    "import pandas as pd\n",
    "import matplotlib.pyplot as plt\n",
    "import seaborn as sns\n",
    "from datetime import datetime\n",
    "\n",
    "import statsmodels.api as sm\n",
    "from statsmodels.tsa.stattools import acf, pacf, adfuller\n",
    "from statsmodels.tsa.arima.model import ARIMA\n",
    "\n",
    "from sklearn.model_selection import train_test_split\n",
    "from sklearn.preprocessing import MinMaxScaler\n",
    "from sklearn.ensemble import RandomForestRegressor\n",
    "import xgboost as xgb\n",
    "from sklearn.metrics import mean_squared_error, mean_absolute_error\n",
    "\n",
    "from statsmodels.graphics.tsaplots import plot_acf, plot_pacf\n",
    "\n",
    "import tensorflow as tf\n",
    "from tensorflow.keras.models import Model, Sequential\n",
    "from tensorflow.keras.layers import Input, Bidirectional, LSTM, Conv1D, MaxPooling1D, Flatten, Concatenate, Dense, GRU\n",
    "from tensorflow.keras.optimizers import Adam\n",
    "from tensorflow.keras.callbacks import EarlyStopping, ModelCheckpoint\n",
    "\n",
    "import warnings\n",
    "warnings.filterwarnings('ignore')\n"
   ]
  },
  {
   "cell_type": "markdown",
   "id": "7353c81f",
   "metadata": {},
   "source": [
    "## Data"
   ]
  },
  {
   "cell_type": "code",
   "execution_count": 8,
   "id": "07043321",
   "metadata": {},
   "outputs": [
    {
     "data": {
      "application/vnd.microsoft.datawrangler.viewer.v0+json": {
       "columns": [
        {
         "name": "index",
         "rawType": "int64",
         "type": "integer"
        },
        {
         "name": "date",
         "rawType": "object",
         "type": "string"
        },
        {
         "name": "store",
         "rawType": "int64",
         "type": "integer"
        },
        {
         "name": "item",
         "rawType": "int64",
         "type": "integer"
        },
        {
         "name": "sales",
         "rawType": "int64",
         "type": "integer"
        }
       ],
       "conversionMethod": "pd.DataFrame",
       "ref": "b42b6655-2557-473b-a11b-34aa3ae25614",
       "rows": [
        [
         "310656",
         "2013-08-25",
         "1",
         "18",
         "97"
        ],
        [
         "813859",
         "2016-07-13",
         "6",
         "45",
         "101"
        ],
        [
         "650264",
         "2013-07-28",
         "7",
         "36",
         "71"
        ],
        [
         "228963",
         "2014-12-15",
         "6",
         "13",
         "38"
        ],
        [
         "258616",
         "2016-02-25",
         "2",
         "15",
         "82"
        ],
        [
         "188882",
         "2015-03-16",
         "4",
         "11",
         "53"
        ],
        [
         "317484",
         "2017-05-06",
         "4",
         "18",
         "134"
        ],
        [
         "169454",
         "2017-01-02",
         "3",
         "10",
         "57"
        ],
        [
         "161198",
         "2014-05-26",
         "9",
         "9",
         "36"
        ],
        [
         "342574",
         "2016-01-18",
         "8",
         "19",
         "45"
        ]
       ],
       "shape": {
        "columns": 4,
        "rows": 10
       }
      },
      "text/html": [
       "<div>\n",
       "<style scoped>\n",
       "    .dataframe tbody tr th:only-of-type {\n",
       "        vertical-align: middle;\n",
       "    }\n",
       "\n",
       "    .dataframe tbody tr th {\n",
       "        vertical-align: top;\n",
       "    }\n",
       "\n",
       "    .dataframe thead th {\n",
       "        text-align: right;\n",
       "    }\n",
       "</style>\n",
       "<table border=\"1\" class=\"dataframe\">\n",
       "  <thead>\n",
       "    <tr style=\"text-align: right;\">\n",
       "      <th></th>\n",
       "      <th>date</th>\n",
       "      <th>store</th>\n",
       "      <th>item</th>\n",
       "      <th>sales</th>\n",
       "    </tr>\n",
       "  </thead>\n",
       "  <tbody>\n",
       "    <tr>\n",
       "      <th>310656</th>\n",
       "      <td>2013-08-25</td>\n",
       "      <td>1</td>\n",
       "      <td>18</td>\n",
       "      <td>97</td>\n",
       "    </tr>\n",
       "    <tr>\n",
       "      <th>813859</th>\n",
       "      <td>2016-07-13</td>\n",
       "      <td>6</td>\n",
       "      <td>45</td>\n",
       "      <td>101</td>\n",
       "    </tr>\n",
       "    <tr>\n",
       "      <th>650264</th>\n",
       "      <td>2013-07-28</td>\n",
       "      <td>7</td>\n",
       "      <td>36</td>\n",
       "      <td>71</td>\n",
       "    </tr>\n",
       "    <tr>\n",
       "      <th>228963</th>\n",
       "      <td>2014-12-15</td>\n",
       "      <td>6</td>\n",
       "      <td>13</td>\n",
       "      <td>38</td>\n",
       "    </tr>\n",
       "    <tr>\n",
       "      <th>258616</th>\n",
       "      <td>2016-02-25</td>\n",
       "      <td>2</td>\n",
       "      <td>15</td>\n",
       "      <td>82</td>\n",
       "    </tr>\n",
       "    <tr>\n",
       "      <th>188882</th>\n",
       "      <td>2015-03-16</td>\n",
       "      <td>4</td>\n",
       "      <td>11</td>\n",
       "      <td>53</td>\n",
       "    </tr>\n",
       "    <tr>\n",
       "      <th>317484</th>\n",
       "      <td>2017-05-06</td>\n",
       "      <td>4</td>\n",
       "      <td>18</td>\n",
       "      <td>134</td>\n",
       "    </tr>\n",
       "    <tr>\n",
       "      <th>169454</th>\n",
       "      <td>2017-01-02</td>\n",
       "      <td>3</td>\n",
       "      <td>10</td>\n",
       "      <td>57</td>\n",
       "    </tr>\n",
       "    <tr>\n",
       "      <th>161198</th>\n",
       "      <td>2014-05-26</td>\n",
       "      <td>9</td>\n",
       "      <td>9</td>\n",
       "      <td>36</td>\n",
       "    </tr>\n",
       "    <tr>\n",
       "      <th>342574</th>\n",
       "      <td>2016-01-18</td>\n",
       "      <td>8</td>\n",
       "      <td>19</td>\n",
       "      <td>45</td>\n",
       "    </tr>\n",
       "  </tbody>\n",
       "</table>\n",
       "</div>"
      ],
      "text/plain": [
       "              date  store  item  sales\n",
       "310656  2013-08-25      1    18     97\n",
       "813859  2016-07-13      6    45    101\n",
       "650264  2013-07-28      7    36     71\n",
       "228963  2014-12-15      6    13     38\n",
       "258616  2016-02-25      2    15     82\n",
       "188882  2015-03-16      4    11     53\n",
       "317484  2017-05-06      4    18    134\n",
       "169454  2017-01-02      3    10     57\n",
       "161198  2014-05-26      9     9     36\n",
       "342574  2016-01-18      8    19     45"
      ]
     },
     "execution_count": 8,
     "metadata": {},
     "output_type": "execute_result"
    }
   ],
   "source": [
    "df_train = pd.read_csv('data/train.csv')\n",
    "\n",
    "df_train.sample(10)"
   ]
  },
  {
   "cell_type": "code",
   "execution_count": 9,
   "id": "6c83f8b8",
   "metadata": {},
   "outputs": [
    {
     "data": {
      "application/vnd.microsoft.datawrangler.viewer.v0+json": {
       "columns": [
        {
         "name": "index",
         "rawType": "int64",
         "type": "integer"
        },
        {
         "name": "date",
         "rawType": "object",
         "type": "string"
        },
        {
         "name": "store",
         "rawType": "int64",
         "type": "integer"
        },
        {
         "name": "item",
         "rawType": "int64",
         "type": "integer"
        }
       ],
       "conversionMethod": "pd.DataFrame",
       "ref": "6a1045c2-7f35-4464-8b47-f2d667abe297",
       "rows": [
        [
         "0",
         "2018-01-01",
         "1",
         "1"
        ],
        [
         "1",
         "2018-01-02",
         "1",
         "1"
        ],
        [
         "2",
         "2018-01-03",
         "1",
         "1"
        ],
        [
         "3",
         "2018-01-04",
         "1",
         "1"
        ],
        [
         "4",
         "2018-01-05",
         "1",
         "1"
        ]
       ],
       "shape": {
        "columns": 3,
        "rows": 5
       }
      },
      "text/html": [
       "<div>\n",
       "<style scoped>\n",
       "    .dataframe tbody tr th:only-of-type {\n",
       "        vertical-align: middle;\n",
       "    }\n",
       "\n",
       "    .dataframe tbody tr th {\n",
       "        vertical-align: top;\n",
       "    }\n",
       "\n",
       "    .dataframe thead th {\n",
       "        text-align: right;\n",
       "    }\n",
       "</style>\n",
       "<table border=\"1\" class=\"dataframe\">\n",
       "  <thead>\n",
       "    <tr style=\"text-align: right;\">\n",
       "      <th></th>\n",
       "      <th>date</th>\n",
       "      <th>store</th>\n",
       "      <th>item</th>\n",
       "    </tr>\n",
       "  </thead>\n",
       "  <tbody>\n",
       "    <tr>\n",
       "      <th>0</th>\n",
       "      <td>2018-01-01</td>\n",
       "      <td>1</td>\n",
       "      <td>1</td>\n",
       "    </tr>\n",
       "    <tr>\n",
       "      <th>1</th>\n",
       "      <td>2018-01-02</td>\n",
       "      <td>1</td>\n",
       "      <td>1</td>\n",
       "    </tr>\n",
       "    <tr>\n",
       "      <th>2</th>\n",
       "      <td>2018-01-03</td>\n",
       "      <td>1</td>\n",
       "      <td>1</td>\n",
       "    </tr>\n",
       "    <tr>\n",
       "      <th>3</th>\n",
       "      <td>2018-01-04</td>\n",
       "      <td>1</td>\n",
       "      <td>1</td>\n",
       "    </tr>\n",
       "    <tr>\n",
       "      <th>4</th>\n",
       "      <td>2018-01-05</td>\n",
       "      <td>1</td>\n",
       "      <td>1</td>\n",
       "    </tr>\n",
       "  </tbody>\n",
       "</table>\n",
       "</div>"
      ],
      "text/plain": [
       "         date  store  item\n",
       "0  2018-01-01      1     1\n",
       "1  2018-01-02      1     1\n",
       "2  2018-01-03      1     1\n",
       "3  2018-01-04      1     1\n",
       "4  2018-01-05      1     1"
      ]
     },
     "execution_count": 9,
     "metadata": {},
     "output_type": "execute_result"
    }
   ],
   "source": [
    "df_test = pd.read_csv('data/test.csv')\n",
    "\n",
    "df_test = df_test.drop(columns=['id'], axis=1)\n",
    "\n",
    "df_test.head()"
   ]
  },
  {
   "cell_type": "markdown",
   "id": "0975f857",
   "metadata": {},
   "source": [
    "## Data Cleaning"
   ]
  },
  {
   "cell_type": "code",
   "execution_count": 10,
   "id": "43966e05",
   "metadata": {},
   "outputs": [
    {
     "data": {
      "text/plain": [
       "date   store  item   sales\n",
       "False  False  False  False    913000\n",
       "Name: count, dtype: int64"
      ]
     },
     "execution_count": 10,
     "metadata": {},
     "output_type": "execute_result"
    }
   ],
   "source": [
    "# Null values\n",
    "df_train.isnull().value_counts()"
   ]
  },
  {
   "cell_type": "code",
   "execution_count": 11,
   "id": "7b721ad7",
   "metadata": {},
   "outputs": [
    {
     "data": {
      "text/plain": [
       "date     0\n",
       "store    0\n",
       "item     0\n",
       "sales    0\n",
       "dtype: int64"
      ]
     },
     "execution_count": 11,
     "metadata": {},
     "output_type": "execute_result"
    }
   ],
   "source": [
    "# NA values\n",
    "df_train.isna().sum()"
   ]
  },
  {
   "cell_type": "code",
   "execution_count": 12,
   "id": "3dcb2bd6",
   "metadata": {},
   "outputs": [
    {
     "data": {
      "text/plain": [
       "0"
      ]
     },
     "execution_count": 12,
     "metadata": {},
     "output_type": "execute_result"
    }
   ],
   "source": [
    "# Duplicates\n",
    "df_train.duplicated().sum()"
   ]
  },
  {
   "cell_type": "code",
   "execution_count": 13,
   "id": "136b4bee",
   "metadata": {},
   "outputs": [
    {
     "data": {
      "text/plain": [
       "date     object\n",
       "store     int64\n",
       "item      int64\n",
       "sales     int64\n",
       "dtype: object"
      ]
     },
     "execution_count": 13,
     "metadata": {},
     "output_type": "execute_result"
    }
   ],
   "source": [
    "df_train.dtypes"
   ]
  },
  {
   "cell_type": "markdown",
   "id": "e99f5652",
   "metadata": {},
   "source": [
    "Since date column is object - convert it to date format"
   ]
  },
  {
   "cell_type": "code",
   "execution_count": 14,
   "id": "4165d3cf",
   "metadata": {},
   "outputs": [
    {
     "data": {
      "application/vnd.microsoft.datawrangler.viewer.v0+json": {
       "columns": [
        {
         "name": "index",
         "rawType": "int64",
         "type": "integer"
        },
        {
         "name": "date",
         "rawType": "datetime64[ns]",
         "type": "datetime"
        },
        {
         "name": "store",
         "rawType": "int64",
         "type": "integer"
        },
        {
         "name": "item",
         "rawType": "int64",
         "type": "integer"
        },
        {
         "name": "sales",
         "rawType": "int64",
         "type": "integer"
        }
       ],
       "conversionMethod": "pd.DataFrame",
       "ref": "d62de61c-9125-438d-802a-ec86f437d150",
       "rows": [
        [
         "0",
         "2013-01-01 00:00:00",
         "1",
         "1",
         "13"
        ],
        [
         "1",
         "2013-01-02 00:00:00",
         "1",
         "1",
         "11"
        ],
        [
         "2",
         "2013-01-03 00:00:00",
         "1",
         "1",
         "14"
        ],
        [
         "3",
         "2013-01-04 00:00:00",
         "1",
         "1",
         "13"
        ],
        [
         "4",
         "2013-01-05 00:00:00",
         "1",
         "1",
         "10"
        ]
       ],
       "shape": {
        "columns": 4,
        "rows": 5
       }
      },
      "text/html": [
       "<div>\n",
       "<style scoped>\n",
       "    .dataframe tbody tr th:only-of-type {\n",
       "        vertical-align: middle;\n",
       "    }\n",
       "\n",
       "    .dataframe tbody tr th {\n",
       "        vertical-align: top;\n",
       "    }\n",
       "\n",
       "    .dataframe thead th {\n",
       "        text-align: right;\n",
       "    }\n",
       "</style>\n",
       "<table border=\"1\" class=\"dataframe\">\n",
       "  <thead>\n",
       "    <tr style=\"text-align: right;\">\n",
       "      <th></th>\n",
       "      <th>date</th>\n",
       "      <th>store</th>\n",
       "      <th>item</th>\n",
       "      <th>sales</th>\n",
       "    </tr>\n",
       "  </thead>\n",
       "  <tbody>\n",
       "    <tr>\n",
       "      <th>0</th>\n",
       "      <td>2013-01-01</td>\n",
       "      <td>1</td>\n",
       "      <td>1</td>\n",
       "      <td>13</td>\n",
       "    </tr>\n",
       "    <tr>\n",
       "      <th>1</th>\n",
       "      <td>2013-01-02</td>\n",
       "      <td>1</td>\n",
       "      <td>1</td>\n",
       "      <td>11</td>\n",
       "    </tr>\n",
       "    <tr>\n",
       "      <th>2</th>\n",
       "      <td>2013-01-03</td>\n",
       "      <td>1</td>\n",
       "      <td>1</td>\n",
       "      <td>14</td>\n",
       "    </tr>\n",
       "    <tr>\n",
       "      <th>3</th>\n",
       "      <td>2013-01-04</td>\n",
       "      <td>1</td>\n",
       "      <td>1</td>\n",
       "      <td>13</td>\n",
       "    </tr>\n",
       "    <tr>\n",
       "      <th>4</th>\n",
       "      <td>2013-01-05</td>\n",
       "      <td>1</td>\n",
       "      <td>1</td>\n",
       "      <td>10</td>\n",
       "    </tr>\n",
       "  </tbody>\n",
       "</table>\n",
       "</div>"
      ],
      "text/plain": [
       "        date  store  item  sales\n",
       "0 2013-01-01      1     1     13\n",
       "1 2013-01-02      1     1     11\n",
       "2 2013-01-03      1     1     14\n",
       "3 2013-01-04      1     1     13\n",
       "4 2013-01-05      1     1     10"
      ]
     },
     "execution_count": 14,
     "metadata": {},
     "output_type": "execute_result"
    }
   ],
   "source": [
    "df_train['date'] = pd.to_datetime(df_train['date'], format=\"%Y-%m-%d\")\n",
    "\n",
    "df_train.head()"
   ]
  },
  {
   "cell_type": "code",
   "execution_count": 15,
   "id": "61d24c87",
   "metadata": {},
   "outputs": [
    {
     "data": {
      "text/plain": [
       "date     datetime64[ns]\n",
       "store             int64\n",
       "item              int64\n",
       "sales             int64\n",
       "dtype: object"
      ]
     },
     "execution_count": 15,
     "metadata": {},
     "output_type": "execute_result"
    }
   ],
   "source": [
    "df_train.dtypes"
   ]
  },
  {
   "cell_type": "markdown",
   "id": "3321cf54",
   "metadata": {},
   "source": [
    "Make sure the data is sorted as per date"
   ]
  },
  {
   "cell_type": "code",
   "execution_count": 16,
   "id": "561e3087",
   "metadata": {},
   "outputs": [
    {
     "data": {
      "application/vnd.microsoft.datawrangler.viewer.v0+json": {
       "columns": [
        {
         "name": "index",
         "rawType": "int64",
         "type": "integer"
        },
        {
         "name": "date",
         "rawType": "datetime64[ns]",
         "type": "datetime"
        },
        {
         "name": "store",
         "rawType": "int64",
         "type": "integer"
        },
        {
         "name": "item",
         "rawType": "int64",
         "type": "integer"
        },
        {
         "name": "sales",
         "rawType": "int64",
         "type": "integer"
        }
       ],
       "conversionMethod": "pd.DataFrame",
       "ref": "a076496a-eccc-4e8c-ba2f-b06b5b09a8ca",
       "rows": [
        [
         "0",
         "2013-01-01 00:00:00",
         "1",
         "1",
         "13"
        ],
        [
         "1",
         "2013-01-01 00:00:00",
         "1",
         "2",
         "33"
        ],
        [
         "2",
         "2013-01-01 00:00:00",
         "1",
         "3",
         "15"
        ],
        [
         "3",
         "2013-01-01 00:00:00",
         "1",
         "4",
         "10"
        ],
        [
         "4",
         "2013-01-01 00:00:00",
         "1",
         "5",
         "11"
        ]
       ],
       "shape": {
        "columns": 4,
        "rows": 5
       }
      },
      "text/html": [
       "<div>\n",
       "<style scoped>\n",
       "    .dataframe tbody tr th:only-of-type {\n",
       "        vertical-align: middle;\n",
       "    }\n",
       "\n",
       "    .dataframe tbody tr th {\n",
       "        vertical-align: top;\n",
       "    }\n",
       "\n",
       "    .dataframe thead th {\n",
       "        text-align: right;\n",
       "    }\n",
       "</style>\n",
       "<table border=\"1\" class=\"dataframe\">\n",
       "  <thead>\n",
       "    <tr style=\"text-align: right;\">\n",
       "      <th></th>\n",
       "      <th>date</th>\n",
       "      <th>store</th>\n",
       "      <th>item</th>\n",
       "      <th>sales</th>\n",
       "    </tr>\n",
       "  </thead>\n",
       "  <tbody>\n",
       "    <tr>\n",
       "      <th>0</th>\n",
       "      <td>2013-01-01</td>\n",
       "      <td>1</td>\n",
       "      <td>1</td>\n",
       "      <td>13</td>\n",
       "    </tr>\n",
       "    <tr>\n",
       "      <th>1</th>\n",
       "      <td>2013-01-01</td>\n",
       "      <td>1</td>\n",
       "      <td>2</td>\n",
       "      <td>33</td>\n",
       "    </tr>\n",
       "    <tr>\n",
       "      <th>2</th>\n",
       "      <td>2013-01-01</td>\n",
       "      <td>1</td>\n",
       "      <td>3</td>\n",
       "      <td>15</td>\n",
       "    </tr>\n",
       "    <tr>\n",
       "      <th>3</th>\n",
       "      <td>2013-01-01</td>\n",
       "      <td>1</td>\n",
       "      <td>4</td>\n",
       "      <td>10</td>\n",
       "    </tr>\n",
       "    <tr>\n",
       "      <th>4</th>\n",
       "      <td>2013-01-01</td>\n",
       "      <td>1</td>\n",
       "      <td>5</td>\n",
       "      <td>11</td>\n",
       "    </tr>\n",
       "  </tbody>\n",
       "</table>\n",
       "</div>"
      ],
      "text/plain": [
       "        date  store  item  sales\n",
       "0 2013-01-01      1     1     13\n",
       "1 2013-01-01      1     2     33\n",
       "2 2013-01-01      1     3     15\n",
       "3 2013-01-01      1     4     10\n",
       "4 2013-01-01      1     5     11"
      ]
     },
     "execution_count": 16,
     "metadata": {},
     "output_type": "execute_result"
    }
   ],
   "source": [
    "df_train = df_train.sort_values(by=['date', 'store', 'item']).reset_index(drop=True)\n",
    "\n",
    "df_train.head()"
   ]
  },
  {
   "cell_type": "markdown",
   "id": "40657e80",
   "metadata": {},
   "source": [
    "## EDA"
   ]
  },
  {
   "cell_type": "code",
   "execution_count": 17,
   "id": "34874674",
   "metadata": {},
   "outputs": [
    {
     "data": {
      "text/plain": [
       "<Axes: xlabel='date', ylabel='sales'>"
      ]
     },
     "execution_count": 17,
     "metadata": {},
     "output_type": "execute_result"
    },
    {
     "data": {
      "image/png": "[encoded data removed]",
      "text/plain": [
       "<Figure size 640x480 with 1 Axes>"
      ]
     },
     "metadata": {},
     "output_type": "display_data"
    }
   ],
   "source": [
    "sns.scatterplot(data=df_train, x='date', y='sales')"
   ]
  },
  {
   "cell_type": "markdown",
   "id": "15d8dead",
   "metadata": {},
   "source": [
    "Sales increases per year - positive trend"
   ]
  },
  {
   "cell_type": "code",
   "execution_count": 18,
   "id": "62635385",
   "metadata": {},
   "outputs": [
    {
     "data": {
      "text/plain": [
       "<Axes: xlabel='store', ylabel='sales'>"
      ]
     },
     "execution_count": 18,
     "metadata": {},
     "output_type": "execute_result"
    },
    {
     "data": {
      "image/png": "[encoded data removed]",
      "text/plain": [
       "<Figure size 640x480 with 1 Axes>"
      ]
     },
     "metadata": {},
     "output_type": "display_data"
    }
   ],
   "source": [
    "sns.barplot(data=df_train, x='store', y='sales')"
   ]
  },
  {
   "cell_type": "code",
   "execution_count": 19,
   "id": "90921c4e",
   "metadata": {},
   "outputs": [
    {
     "data": {
      "text/plain": [
       "<Axes: xlabel='item', ylabel='sales'>"
      ]
     },
     "execution_count": 19,
     "metadata": {},
     "output_type": "execute_result"
    },
    {
     "data": {
      "image/png": "[encoded data removed]",
      "text/plain": [
       "<Figure size 2000x800 with 1 Axes>"
      ]
     },
     "metadata": {},
     "output_type": "display_data"
    }
   ],
   "source": [
    "fig = plt.figure(figsize=(20,8))\n",
    "sns.barplot(data=df_train, x='item', y='sales')"
   ]
  },
  {
   "cell_type": "markdown",
   "id": "c3d037fc",
   "metadata": {},
   "source": [
    "Each store has different demand and each item has a different demand - so each store item pair will have a different demand"
   ]
  },
  {
   "cell_type": "code",
   "execution_count": 20,
   "id": "b5425578",
   "metadata": {},
   "outputs": [
    {
     "data": {
      "application/vnd.microsoft.datawrangler.viewer.v0+json": {
       "columns": [
        {
         "name": "date",
         "rawType": "datetime64[ns]",
         "type": "datetime"
        },
        {
         "name": "(1, 1)",
         "rawType": "int64",
         "type": "integer"
        },
        {
         "name": "(1, 2)",
         "rawType": "int64",
         "type": "integer"
        },
        {
         "name": "(1, 3)",
         "rawType": "int64",
         "type": "integer"
        },
        {
         "name": "(1, 4)",
         "rawType": "int64",
         "type": "integer"
        },
        {
         "name": "(1, 5)",
         "rawType": "int64",
         "type": "integer"
        },
        {
         "name": "(1, 6)",
         "rawType": "int64",
         "type": "integer"
        },
        {
         "name": "(1, 7)",
         "rawType": "int64",
         "type": "integer"
        },
        {
         "name": "(1, 8)",
         "rawType": "int64",
         "type": "integer"
        },
        {
         "name": "(1, 9)",
         "rawType": "int64",
         "type": "integer"
        },
        {
         "name": "(1, 10)",
         "rawType": "int64",
         "type": "integer"
        },
        {
         "name": "(1, 11)",
         "rawType": "int64",
         "type": "integer"
        },
        {
         "name": "(1, 12)",
         "rawType": "int64",
         "type": "integer"
        },
        {
         "name": "(1, 13)",
         "rawType": "int64",
         "type": "integer"
        },
        {
         "name": "(1, 14)",
         "rawType": "int64",
         "type": "integer"
        },
        {
         "name": "(1, 15)",
         "rawType": "int64",
         "type": "integer"
        },
        {
         "name": "(1, 16)",
         "rawType": "int64",
         "type": "integer"
        },
        {
         "name": "(1, 17)",
         "rawType": "int64",
         "type": "integer"
        },
        {
         "name": "(1, 18)",
         "rawType": "int64",
         "type": "integer"
        },
        {
         "name": "(1, 19)",
         "rawType": "int64",
         "type": "integer"
        },
        {
         "name": "(1, 20)",
         "rawType": "int64",
         "type": "integer"
        },
        {
         "name": "(1, 21)",
         "rawType": "int64",
         "type": "integer"
        },
        {
         "name": "(1, 22)",
         "rawType": "int64",
         "type": "integer"
        },
        {
         "name": "(1, 23)",
         "rawType": "int64",
         "type": "integer"
        },
        {
         "name": "(1, 24)",
         "rawType": "int64",
         "type": "integer"
        },
        {
         "name": "(1, 25)",
         "rawType": "int64",
         "type": "integer"
        },
        {
         "name": "(1, 26)",
         "rawType": "int64",
         "type": "integer"
        },
        {
         "name": "(1, 27)",
         "rawType": "int64",
         "type": "integer"
        },
        {
         "name": "(1, 28)",
         "rawType": "int64",
         "type": "integer"
        },
        {
         "name": "(1, 29)",
         "rawType": "int64",
         "type": "integer"
        },
        {
         "name": "(1, 30)",
         "rawType": "int64",
         "type": "integer"
        },
        {
         "name": "(1, 31)",
         "rawType": "int64",
         "type": "integer"
        },
        {
         "name": "(1, 32)",
         "rawType": "int64",
         "type": "integer"
        },
        {
         "name": "(1, 33)",
         "rawType": "int64",
         "type": "integer"
        },
        {
         "name": "(1, 34)",
         "rawType": "int64",
         "type": "integer"
        },
        {
         "name": "(1, 35)",
         "rawType": "int64",
         "type": "integer"
        },
        {
         "name": "(1, 36)",
         "rawType": "int64",
         "type": "integer"
        },
        {
         "name": "(1, 37)",
         "rawType": "int64",
         "type": "integer"
        },
        {
         "name": "(1, 38)",
         "rawType": "int64",
         "type": "integer"
        },
        {
         "name": "(1, 39)",
         "rawType": "int64",
         "type": "integer"
        },
        {
         "name": "(1, 40)",
         "rawType": "int64",
         "type": "integer"
        },
        {
         "name": "(1, 41)",
         "rawType": "int64",
         "type": "integer"
        },
        {
         "name": "(1, 42)",
         "rawType": "int64",
         "type": "integer"
        },
        {
         "name": "(1, 43)",
         "rawType": "int64",
         "type": "integer"
        },
        {
         "name": "(1, 44)",
         "rawType": "int64",
         "type": "integer"
        },
        {
         "name": "(1, 45)",
         "rawType": "int64",
         "type": "integer"
        },
        {
         "name": "(1, 46)",
         "rawType": "int64",
         "type": "integer"
        },
        {
         "name": "(1, 47)",
         "rawType": "int64",
         "type": "integer"
        },
        {
         "name": "(1, 48)",
         "rawType": "int64",
         "type": "integer"
        },
        {
         "name": "(1, 49)",
         "rawType": "int64",
         "type": "integer"
        },
        {
         "name": "(1, 50)",
         "rawType": "int64",
         "type": "integer"
        },
        {
         "name": "(2, 1)",
         "rawType": "int64",
         "type": "integer"
        },
        {
         "name": "(2, 2)",
         "rawType": "int64",
         "type": "integer"
        },
        {
         "name": "(2, 3)",
         "rawType": "int64",
         "type": "integer"
        },
        {
         "name": "(2, 4)",
         "rawType": "int64",
         "type": "integer"
        },
        {
         "name": "(2, 5)",
         "rawType": "int64",
         "type": "integer"
        },
        {
         "name": "(2, 6)",
         "rawType": "int64",
         "type": "integer"
        },
        {
         "name": "(2, 7)",
         "rawType": "int64",
         "type": "integer"
        },
        {
         "name": "(2, 8)",
         "rawType": "int64",
         "type": "integer"
        },
        {
         "name": "(2, 9)",
         "rawType": "int64",
         "type": "integer"
        },
        {
         "name": "(2, 10)",
         "rawType": "int64",
         "type": "integer"
        },
        {
         "name": "(2, 11)",
         "rawType": "int64",
         "type": "integer"
        },
        {
         "name": "(2, 12)",
         "rawType": "int64",
         "type": "integer"
        },
        {
         "name": "(2, 13)",
         "rawType": "int64",
         "type": "integer"
        },
        {
         "name": "(2, 14)",
         "rawType": "int64",
         "type": "integer"
        },
        {
         "name": "(2, 15)",
         "rawType": "int64",
         "type": "integer"
        },
        {
         "name": "(2, 16)",
         "rawType": "int64",
         "type": "integer"
        },
        {
         "name": "(2, 17)",
         "rawType": "int64",
         "type": "integer"
        },
        {
         "name": "(2, 18)",
         "rawType": "int64",
         "type": "integer"
        },
        {
         "name": "(2, 19)",
         "rawType": "int64",
         "type": "integer"
        },
        {
         "name": "(2, 20)",
         "rawType": "int64",
         "type": "integer"
        },
        {
         "name": "(2, 21)",
         "rawType": "int64",
         "type": "integer"
        },
        {
         "name": "(2, 22)",
         "rawType": "int64",
         "type": "integer"
        },
        {
         "name": "(2, 23)",
         "rawType": "int64",
         "type": "integer"
        },
        {
         "name": "(2, 24)",
         "rawType": "int64",
         "type": "integer"
        },
        {
         "name": "(2, 25)",
         "rawType": "int64",
         "type": "integer"
        },
        {
         "name": "(2, 26)",
         "rawType": "int64",
         "type": "integer"
        },
        {
         "name": "(2, 27)",
         "rawType": "int64",
         "type": "integer"
        },
        {
         "name": "(2, 28)",
         "rawType": "int64",
         "type": "integer"
        },
        {
         "name": "(2, 29)",
         "rawType": "int64",
         "type": "integer"
        },
        {
         "name": "(2, 30)",
         "rawType": "int64",
         "type": "integer"
        },
        {
         "name": "(2, 31)",
         "rawType": "int64",
         "type": "integer"
        },
        {
         "name": "(2, 32)",
         "rawType": "int64",
         "type": "integer"
        },
        {
         "name": "(2, 33)",
         "rawType": "int64",
         "type": "integer"
        },
        {
         "name": "(2, 34)",
         "rawType": "int64",
         "type": "integer"
        },
        {
         "name": "(2, 35)",
         "rawType": "int64",
         "type": "integer"
        },
        {
         "name": "(2, 36)",
         "rawType": "int64",
         "type": "integer"
        },
        {
         "name": "(2, 37)",
         "rawType": "int64",
         "type": "integer"
        },
        {
         "name": "(2, 38)",
         "rawType": "int64",
         "type": "integer"
        },
        {
         "name": "(2, 39)",
         "rawType": "int64",
         "type": "integer"
        },
        {
         "name": "(2, 40)",
         "rawType": "int64",
         "type": "integer"
        },
        {
         "name": "(2, 41)",
         "rawType": "int64",
         "type": "integer"
        },
        {
         "name": "(2, 42)",
         "rawType": "int64",
         "type": "integer"
        },
        {
         "name": "(2, 43)",
         "rawType": "int64",
         "type": "integer"
        },
        {
         "name": "(2, 44)",
         "rawType": "int64",
         "type": "integer"
        },
        {
         "name": "(2, 45)",
         "rawType": "int64",
         "type": "integer"
        },
        {
         "name": "(2, 46)",
         "rawType": "int64",
         "type": "integer"
        },
        {
         "name": "(2, 47)",
         "rawType": "int64",
         "type": "integer"
        },
        {
         "name": "(2, 48)",
         "rawType": "int64",
         "type": "integer"
        },
        {
         "name": "(2, 49)",
         "rawType": "int64",
         "type": "integer"
        },
        {
         "name": "(2, 50)",
         "rawType": "int64",
         "type": "integer"
        },
        {
         "name": "(3, 1)",
         "rawType": "int64",
         "type": "integer"
        },
        {
         "name": "(3, 2)",
         "rawType": "int64",
         "type": "integer"
        },
        {
         "name": "(3, 3)",
         "rawType": "int64",
         "type": "integer"
        },
        {
         "name": "(3, 4)",
         "rawType": "int64",
         "type": "integer"
        },
        {
         "name": "(3, 5)",
         "rawType": "int64",
         "type": "integer"
        },
        {
         "name": "(3, 6)",
         "rawType": "int64",
         "type": "integer"
        },
        {
         "name": "(3, 7)",
         "rawType": "int64",
         "type": "integer"
        },
        {
         "name": "(3, 8)",
         "rawType": "int64",
         "type": "integer"
        },
        {
         "name": "(3, 9)",
         "rawType": "int64",
         "type": "integer"
        },
        {
         "name": "(3, 10)",
         "rawType": "int64",
         "type": "integer"
        },
        {
         "name": "(3, 11)",
         "rawType": "int64",
         "type": "integer"
        },
        {
         "name": "(3, 12)",
         "rawType": "int64",
         "type": "integer"
        },
        {
         "name": "(3, 13)",
         "rawType": "int64",
         "type": "integer"
        },
        {
         "name": "(3, 14)",
         "rawType": "int64",
         "type": "integer"
        },
        {
         "name": "(3, 15)",
         "rawType": "int64",
         "type": "integer"
        },
        {
         "name": "(3, 16)",
         "rawType": "int64",
         "type": "integer"
        },
        {
         "name": "(3, 17)",
         "rawType": "int64",
         "type": "integer"
        },
        {
         "name": "(3, 18)",
         "rawType": "int64",
         "type": "integer"
        },
        {
         "name": "(3, 19)",
         "rawType": "int64",
         "type": "integer"
        },
        {
         "name": "(3, 20)",
         "rawType": "int64",
         "type": "integer"
        },
        {
         "name": "(3, 21)",
         "rawType": "int64",
         "type": "integer"
        },
        {
         "name": "(3, 22)",
         "rawType": "int64",
         "type": "integer"
        },
        {
         "name": "(3, 23)",
         "rawType": "int64",
         "type": "integer"
        },
        {
         "name": "(3, 24)",
         "rawType": "int64",
         "type": "integer"
        },
        {
         "name": "(3, 25)",
         "rawType": "int64",
         "type": "integer"
        },
        {
         "name": "(3, 26)",
         "rawType": "int64",
         "type": "integer"
        },
        {
         "name": "(3, 27)",
         "rawType": "int64",
         "type": "integer"
        },
        {
         "name": "(3, 28)",
         "rawType": "int64",
         "type": "integer"
        },
        {
         "name": "(3, 29)",
         "rawType": "int64",
         "type": "integer"
        },
        {
         "name": "(3, 30)",
         "rawType": "int64",
         "type": "integer"
        },
        {
         "name": "(3, 31)",
         "rawType": "int64",
         "type": "integer"
        },
        {
         "name": "(3, 32)",
         "rawType": "int64",
         "type": "integer"
        },
        {
         "name": "(3, 33)",
         "rawType": "int64",
         "type": "integer"
        },
        {
         "name": "(3, 34)",
         "rawType": "int64",
         "type": "integer"
        },
        {
         "name": "(3, 35)",
         "rawType": "int64",
         "type": "integer"
        },
        {
         "name": "(3, 36)",
         "rawType": "int64",
         "type": "integer"
        },
        {
         "name": "(3, 37)",
         "rawType": "int64",
         "type": "integer"
        },
        {
         "name": "(3, 38)",
         "rawType": "int64",
         "type": "integer"
        },
        {
         "name": "(3, 39)",
         "rawType": "int64",
         "type": "integer"
        },
        {
         "name": "(3, 40)",
         "rawType": "int64",
         "type": "integer"
        },
        {
         "name": "(3, 41)",
         "rawType": "int64",
         "type": "integer"
        },
        {
         "name": "(3, 42)",
         "rawType": "int64",
         "type": "integer"
        },
        {
         "name": "(3, 43)",
         "rawType": "int64",
         "type": "integer"
        },
        {
         "name": "(3, 44)",
         "rawType": "int64",
         "type": "integer"
        },
        {
         "name": "(3, 45)",
         "rawType": "int64",
         "type": "integer"
        },
        {
         "name": "(3, 46)",
         "rawType": "int64",
         "type": "integer"
        },
        {
         "name": "(3, 47)",
         "rawType": "int64",
         "type": "integer"
        },
        {
         "name": "(3, 48)",
         "rawType": "int64",
         "type": "integer"
        },
        {
         "name": "(3, 49)",
         "rawType": "int64",
         "type": "integer"
        },
        {
         "name": "(3, 50)",
         "rawType": "int64",
         "type": "integer"
        },
        {
         "name": "(4, 1)",
         "rawType": "int64",
         "type": "integer"
        },
        {
         "name": "(4, 2)",
         "rawType": "int64",
         "type": "integer"
        },
        {
         "name": "(4, 3)",
         "rawType": "int64",
         "type": "integer"
        },
        {
         "name": "(4, 4)",
         "rawType": "int64",
         "type": "integer"
        },
        {
         "name": "(4, 5)",
         "rawType": "int64",
         "type": "integer"
        },
        {
         "name": "(4, 6)",
         "rawType": "int64",
         "type": "integer"
        },
        {
         "name": "(4, 7)",
         "rawType": "int64",
         "type": "integer"
        },
        {
         "name": "(4, 8)",
         "rawType": "int64",
         "type": "integer"
        },
        {
         "name": "(4, 9)",
         "rawType": "int64",
         "type": "integer"
        },
        {
         "name": "(4, 10)",
         "rawType": "int64",
         "type": "integer"
        },
        {
         "name": "(4, 11)",
         "rawType": "int64",
         "type": "integer"
        },
        {
         "name": "(4, 12)",
         "rawType": "int64",
         "type": "integer"
        },
        {
         "name": "(4, 13)",
         "rawType": "int64",
         "type": "integer"
        },
        {
         "name": "(4, 14)",
         "rawType": "int64",
         "type": "integer"
        },
        {
         "name": "(4, 15)",
         "rawType": "int64",
         "type": "integer"
        },
        {
         "name": "(4, 16)",
         "rawType": "int64",
         "type": "integer"
        },
        {
         "name": "(4, 17)",
         "rawType": "int64",
         "type": "integer"
        },
        {
         "name": "(4, 18)",
         "rawType": "int64",
         "type": "integer"
        },
        {
         "name": "(4, 19)",
         "rawType": "int64",
         "type": "integer"
        },
        {
         "name": "(4, 20)",
         "rawType": "int64",
         "type": "integer"
        },
        {
         "name": "(4, 21)",
         "rawType": "int64",
         "type": "integer"
        },
        {
         "name": "(4, 22)",
         "rawType": "int64",
         "type": "integer"
        },
        {
         "name": "(4, 23)",
         "rawType": "int64",
         "type": "integer"
        },
        {
         "name": "(4, 24)",
         "rawType": "int64",
         "type": "integer"
        },
        {
         "name": "(4, 25)",
         "rawType": "int64",
         "type": "integer"
        },
        {
         "name": "(4, 26)",
         "rawType": "int64",
         "type": "integer"
        },
        {
         "name": "(4, 27)",
         "rawType": "int64",
         "type": "integer"
        },
        {
         "name": "(4, 28)",
         "rawType": "int64",
         "type": "integer"
        },
        {
         "name": "(4, 29)",
         "rawType": "int64",
         "type": "integer"
        },
        {
         "name": "(4, 30)",
         "rawType": "int64",
         "type": "integer"
        },
        {
         "name": "(4, 31)",
         "rawType": "int64",
         "type": "integer"
        },
        {
         "name": "(4, 32)",
         "rawType": "int64",
         "type": "integer"
        },
        {
         "name": "(4, 33)",
         "rawType": "int64",
         "type": "integer"
        },
        {
         "name": "(4, 34)",
         "rawType": "int64",
         "type": "integer"
        },
        {
         "name": "(4, 35)",
         "rawType": "int64",
         "type": "integer"
        },
        {
         "name": "(4, 36)",
         "rawType": "int64",
         "type": "integer"
        },
        {
         "name": "(4, 37)",
         "rawType": "int64",
         "type": "integer"
        },
        {
         "name": "(4, 38)",
         "rawType": "int64",
         "type": "integer"
        },
        {
         "name": "(4, 39)",
         "rawType": "int64",
         "type": "integer"
        },
        {
         "name": "(4, 40)",
         "rawType": "int64",
         "type": "integer"
        },
        {
         "name": "(4, 41)",
         "rawType": "int64",
         "type": "integer"
        },
        {
         "name": "(4, 42)",
         "rawType": "int64",
         "type": "integer"
        },
        {
         "name": "(4, 43)",
         "rawType": "int64",
         "type": "integer"
        },
        {
         "name": "(4, 44)",
         "rawType": "int64",
         "type": "integer"
        },
        {
         "name": "(4, 45)",
         "rawType": "int64",
         "type": "integer"
        },
        {
         "name": "(4, 46)",
         "rawType": "int64",
         "type": "integer"
        },
        {
         "name": "(4, 47)",
         "rawType": "int64",
         "type": "integer"
        },
        {
         "name": "(4, 48)",
         "rawType": "int64",
         "type": "integer"
        },
        {
         "name": "(4, 49)",
         "rawType": "int64",
         "type": "integer"
        },
        {
         "name": "(4, 50)",
         "rawType": "int64",
         "type": "integer"
        },
        {
         "name": "(5, 1)",
         "rawType": "int64",
         "type": "integer"
        },
        {
         "name": "(5, 2)",
         "rawType": "int64",
         "type": "integer"
        },
        {
         "name": "(5, 3)",
         "rawType": "int64",
         "type": "integer"
        },
        {
         "name": "(5, 4)",
         "rawType": "int64",
         "type": "integer"
        },
        {
         "name": "(5, 5)",
         "rawType": "int64",
         "type": "integer"
        },
        {
         "name": "(5, 6)",
         "rawType": "int64",
         "type": "integer"
        },
        {
         "name": "(5, 7)",
         "rawType": "int64",
         "type": "integer"
        },
        {
         "name": "(5, 8)",
         "rawType": "int64",
         "type": "integer"
        },
        {
         "name": "(5, 9)",
         "rawType": "int64",
         "type": "integer"
        },
        {
         "name": "(5, 10)",
         "rawType": "int64",
         "type": "integer"
        },
        {
         "name": "(5, 11)",
         "rawType": "int64",
         "type": "integer"
        },
        {
         "name": "(5, 12)",
         "rawType": "int64",
         "type": "integer"
        },
        {
         "name": "(5, 13)",
         "rawType": "int64",
         "type": "integer"
        },
        {
         "name": "(5, 14)",
         "rawType": "int64",
         "type": "integer"
        },
        {
         "name": "(5, 15)",
         "rawType": "int64",
         "type": "integer"
        },
        {
         "name": "(5, 16)",
         "rawType": "int64",
         "type": "integer"
        },
        {
         "name": "(5, 17)",
         "rawType": "int64",
         "type": "integer"
        },
        {
         "name": "(5, 18)",
         "rawType": "int64",
         "type": "integer"
        },
        {
         "name": "(5, 19)",
         "rawType": "int64",
         "type": "integer"
        },
        {
         "name": "(5, 20)",
         "rawType": "int64",
         "type": "integer"
        },
        {
         "name": "(5, 21)",
         "rawType": "int64",
         "type": "integer"
        },
        {
         "name": "(5, 22)",
         "rawType": "int64",
         "type": "integer"
        },
        {
         "name": "(5, 23)",
         "rawType": "int64",
         "type": "integer"
        },
        {
         "name": "(5, 24)",
         "rawType": "int64",
         "type": "integer"
        },
        {
         "name": "(5, 25)",
         "rawType": "int64",
         "type": "integer"
        },
        {
         "name": "(5, 26)",
         "rawType": "int64",
         "type": "integer"
        },
        {
         "name": "(5, 27)",
         "rawType": "int64",
         "type": "integer"
        },
        {
         "name": "(5, 28)",
         "rawType": "int64",
         "type": "integer"
        },
        {
         "name": "(5, 29)",
         "rawType": "int64",
         "type": "integer"
        },
        {
         "name": "(5, 30)",
         "rawType": "int64",
         "type": "integer"
        },
        {
         "name": "(5, 31)",
         "rawType": "int64",
         "type": "integer"
        },
        {
         "name": "(5, 32)",
         "rawType": "int64",
         "type": "integer"
        },
        {
         "name": "(5, 33)",
         "rawType": "int64",
         "type": "integer"
        },
        {
         "name": "(5, 34)",
         "rawType": "int64",
         "type": "integer"
        },
        {
         "name": "(5, 35)",
         "rawType": "int64",
         "type": "integer"
        },
        {
         "name": "(5, 36)",
         "rawType": "int64",
         "type": "integer"
        },
        {
         "name": "(5, 37)",
         "rawType": "int64",
         "type": "integer"
        },
        {
         "name": "(5, 38)",
         "rawType": "int64",
         "type": "integer"
        },
        {
         "name": "(5, 39)",
         "rawType": "int64",
         "type": "integer"
        },
        {
         "name": "(5, 40)",
         "rawType": "int64",
         "type": "integer"
        },
        {
         "name": "(5, 41)",
         "rawType": "int64",
         "type": "integer"
        },
        {
         "name": "(5, 42)",
         "rawType": "int64",
         "type": "integer"
        },
        {
         "name": "(5, 43)",
         "rawType": "int64",
         "type": "integer"
        },
        {
         "name": "(5, 44)",
         "rawType": "int64",
         "type": "integer"
        },
        {
         "name": "(5, 45)",
         "rawType": "int64",
         "type": "integer"
        },
        {
         "name": "(5, 46)",
         "rawType": "int64",
         "type": "integer"
        },
        {
         "name": "(5, 47)",
         "rawType": "int64",
         "type": "integer"
        },
        {
         "name": "(5, 48)",
         "rawType": "int64",
         "type": "integer"
        },
        {
         "name": "(5, 49)",
         "rawType": "int64",
         "type": "integer"
        },
        {
         "name": "(5, 50)",
         "rawType": "int64",
         "type": "integer"
        },
        {
         "name": "(6, 1)",
         "rawType": "int64",
         "type": "integer"
        },
        {
         "name": "(6, 2)",
         "rawType": "int64",
         "type": "integer"
        },
        {
         "name": "(6, 3)",
         "rawType": "int64",
         "type": "integer"
        },
        {
         "name": "(6, 4)",
         "rawType": "int64",
         "type": "integer"
        },
        {
         "name": "(6, 5)",
         "rawType": "int64",
         "type": "integer"
        },
        {
         "name": "(6, 6)",
         "rawType": "int64",
         "type": "integer"
        },
        {
         "name": "(6, 7)",
         "rawType": "int64",
         "type": "integer"
        },
        {
         "name": "(6, 8)",
         "rawType": "int64",
         "type": "integer"
        },
        {
         "name": "(6, 9)",
         "rawType": "int64",
         "type": "integer"
        },
        {
         "name": "(6, 10)",
         "rawType": "int64",
         "type": "integer"
        },
        {
         "name": "(6, 11)",
         "rawType": "int64",
         "type": "integer"
        },
        {
         "name": "(6, 12)",
         "rawType": "int64",
         "type": "integer"
        },
        {
         "name": "(6, 13)",
         "rawType": "int64",
         "type": "integer"
        },
        {
         "name": "(6, 14)",
         "rawType": "int64",
         "type": "integer"
        },
        {
         "name": "(6, 15)",
         "rawType": "int64",
         "type": "integer"
        },
        {
         "name": "(6, 16)",
         "rawType": "int64",
         "type": "integer"
        },
        {
         "name": "(6, 17)",
         "rawType": "int64",
         "type": "integer"
        },
        {
         "name": "(6, 18)",
         "rawType": "int64",
         "type": "integer"
        },
        {
         "name": "(6, 19)",
         "rawType": "int64",
         "type": "integer"
        },
        {
         "name": "(6, 20)",
         "rawType": "int64",
         "type": "integer"
        },
        {
         "name": "(6, 21)",
         "rawType": "int64",
         "type": "integer"
        },
        {
         "name": "(6, 22)",
         "rawType": "int64",
         "type": "integer"
        },
        {
         "name": "(6, 23)",
         "rawType": "int64",
         "type": "integer"
        },
        {
         "name": "(6, 24)",
         "rawType": "int64",
         "type": "integer"
        },
        {
         "name": "(6, 25)",
         "rawType": "int64",
         "type": "integer"
        },
        {
         "name": "(6, 26)",
         "rawType": "int64",
         "type": "integer"
        },
        {
         "name": "(6, 27)",
         "rawType": "int64",
         "type": "integer"
        },
        {
         "name": "(6, 28)",
         "rawType": "int64",
         "type": "integer"
        },
        {
         "name": "(6, 29)",
         "rawType": "int64",
         "type": "integer"
        },
        {
         "name": "(6, 30)",
         "rawType": "int64",
         "type": "integer"
        },
        {
         "name": "(6, 31)",
         "rawType": "int64",
         "type": "integer"
        },
        {
         "name": "(6, 32)",
         "rawType": "int64",
         "type": "integer"
        },
        {
         "name": "(6, 33)",
         "rawType": "int64",
         "type": "integer"
        },
        {
         "name": "(6, 34)",
         "rawType": "int64",
         "type": "integer"
        },
        {
         "name": "(6, 35)",
         "rawType": "int64",
         "type": "integer"
        },
        {
         "name": "(6, 36)",
         "rawType": "int64",
         "type": "integer"
        },
        {
         "name": "(6, 37)",
         "rawType": "int64",
         "type": "integer"
        },
        {
         "name": "(6, 38)",
         "rawType": "int64",
         "type": "integer"
        },
        {
         "name": "(6, 39)",
         "rawType": "int64",
         "type": "integer"
        },
        {
         "name": "(6, 40)",
         "rawType": "int64",
         "type": "integer"
        },
        {
         "name": "(6, 41)",
         "rawType": "int64",
         "type": "integer"
        },
        {
         "name": "(6, 42)",
         "rawType": "int64",
         "type": "integer"
        },
        {
         "name": "(6, 43)",
         "rawType": "int64",
         "type": "integer"
        },
        {
         "name": "(6, 44)",
         "rawType": "int64",
         "type": "integer"
        },
        {
         "name": "(6, 45)",
         "rawType": "int64",
         "type": "integer"
        },
        {
         "name": "(6, 46)",
         "rawType": "int64",
         "type": "integer"
        },
        {
         "name": "(6, 47)",
         "rawType": "int64",
         "type": "integer"
        },
        {
         "name": "(6, 48)",
         "rawType": "int64",
         "type": "integer"
        },
        {
         "name": "(6, 49)",
         "rawType": "int64",
         "type": "integer"
        },
        {
         "name": "(6, 50)",
         "rawType": "int64",
         "type": "integer"
        },
        {
         "name": "(7, 1)",
         "rawType": "int64",
         "type": "integer"
        },
        {
         "name": "(7, 2)",
         "rawType": "int64",
         "type": "integer"
        },
        {
         "name": "(7, 3)",
         "rawType": "int64",
         "type": "integer"
        },
        {
         "name": "(7, 4)",
         "rawType": "int64",
         "type": "integer"
        },
        {
         "name": "(7, 5)",
         "rawType": "int64",
         "type": "integer"
        },
        {
         "name": "(7, 6)",
         "rawType": "int64",
         "type": "integer"
        },
        {
         "name": "(7, 7)",
         "rawType": "int64",
         "type": "integer"
        },
        {
         "name": "(7, 8)",
         "rawType": "int64",
         "type": "integer"
        },
        {
         "name": "(7, 9)",
         "rawType": "int64",
         "type": "integer"
        },
        {
         "name": "(7, 10)",
         "rawType": "int64",
         "type": "integer"
        },
        {
         "name": "(7, 11)",
         "rawType": "int64",
         "type": "integer"
        },
        {
         "name": "(7, 12)",
         "rawType": "int64",
         "type": "integer"
        },
        {
         "name": "(7, 13)",
         "rawType": "int64",
         "type": "integer"
        },
        {
         "name": "(7, 14)",
         "rawType": "int64",
         "type": "integer"
        },
        {
         "name": "(7, 15)",
         "rawType": "int64",
         "type": "integer"
        },
        {
         "name": "(7, 16)",
         "rawType": "int64",
         "type": "integer"
        },
        {
         "name": "(7, 17)",
         "rawType": "int64",
         "type": "integer"
        },
        {
         "name": "(7, 18)",
         "rawType": "int64",
         "type": "integer"
        },
        {
         "name": "(7, 19)",
         "rawType": "int64",
         "type": "integer"
        },
        {
         "name": "(7, 20)",
         "rawType": "int64",
         "type": "integer"
        },
        {
         "name": "(7, 21)",
         "rawType": "int64",
         "type": "integer"
        },
        {
         "name": "(7, 22)",
         "rawType": "int64",
         "type": "integer"
        },
        {
         "name": "(7, 23)",
         "rawType": "int64",
         "type": "integer"
        },
        {
         "name": "(7, 24)",
         "rawType": "int64",
         "type": "integer"
        },
        {
         "name": "(7, 25)",
         "rawType": "int64",
         "type": "integer"
        },
        {
         "name": "(7, 26)",
         "rawType": "int64",
         "type": "integer"
        },
        {
         "name": "(7, 27)",
         "rawType": "int64",
         "type": "integer"
        },
        {
         "name": "(7, 28)",
         "rawType": "int64",
         "type": "integer"
        },
        {
         "name": "(7, 29)",
         "rawType": "int64",
         "type": "integer"
        },
        {
         "name": "(7, 30)",
         "rawType": "int64",
         "type": "integer"
        },
        {
         "name": "(7, 31)",
         "rawType": "int64",
         "type": "integer"
        },
        {
         "name": "(7, 32)",
         "rawType": "int64",
         "type": "integer"
        },
        {
         "name": "(7, 33)",
         "rawType": "int64",
         "type": "integer"
        },
        {
         "name": "(7, 34)",
         "rawType": "int64",
         "type": "integer"
        },
        {
         "name": "(7, 35)",
         "rawType": "int64",
         "type": "integer"
        },
        {
         "name": "(7, 36)",
         "rawType": "int64",
         "type": "integer"
        },
        {
         "name": "(7, 37)",
         "rawType": "int64",
         "type": "integer"
        },
        {
         "name": "(7, 38)",
         "rawType": "int64",
         "type": "integer"
        },
        {
         "name": "(7, 39)",
         "rawType": "int64",
         "type": "integer"
        },
        {
         "name": "(7, 40)",
         "rawType": "int64",
         "type": "integer"
        },
        {
         "name": "(7, 41)",
         "rawType": "int64",
         "type": "integer"
        },
        {
         "name": "(7, 42)",
         "rawType": "int64",
         "type": "integer"
        },
        {
         "name": "(7, 43)",
         "rawType": "int64",
         "type": "integer"
        },
        {
         "name": "(7, 44)",
         "rawType": "int64",
         "type": "integer"
        },
        {
         "name": "(7, 45)",
         "rawType": "int64",
         "type": "integer"
        },
        {
         "name": "(7, 46)",
         "rawType": "int64",
         "type": "integer"
        },
        {
         "name": "(7, 47)",
         "rawType": "int64",
         "type": "integer"
        },
        {
         "name": "(7, 48)",
         "rawType": "int64",
         "type": "integer"
        },
        {
         "name": "(7, 49)",
         "rawType": "int64",
         "type": "integer"
        },
        {
         "name": "(7, 50)",
         "rawType": "int64",
         "type": "integer"
        },
        {
         "name": "(8, 1)",
         "rawType": "int64",
         "type": "integer"
        },
        {
         "name": "(8, 2)",
         "rawType": "int64",
         "type": "integer"
        },
        {
         "name": "(8, 3)",
         "rawType": "int64",
         "type": "integer"
        },
        {
         "name": "(8, 4)",
         "rawType": "int64",
         "type": "integer"
        },
        {
         "name": "(8, 5)",
         "rawType": "int64",
         "type": "integer"
        },
        {
         "name": "(8, 6)",
         "rawType": "int64",
         "type": "integer"
        },
        {
         "name": "(8, 7)",
         "rawType": "int64",
         "type": "integer"
        },
        {
         "name": "(8, 8)",
         "rawType": "int64",
         "type": "integer"
        },
        {
         "name": "(8, 9)",
         "rawType": "int64",
         "type": "integer"
        },
        {
         "name": "(8, 10)",
         "rawType": "int64",
         "type": "integer"
        },
        {
         "name": "(8, 11)",
         "rawType": "int64",
         "type": "integer"
        },
        {
         "name": "(8, 12)",
         "rawType": "int64",
         "type": "integer"
        },
        {
         "name": "(8, 13)",
         "rawType": "int64",
         "type": "integer"
        },
        {
         "name": "(8, 14)",
         "rawType": "int64",
         "type": "integer"
        },
        {
         "name": "(8, 15)",
         "rawType": "int64",
         "type": "integer"
        },
        {
         "name": "(8, 16)",
         "rawType": "int64",
         "type": "integer"
        },
        {
         "name": "(8, 17)",
         "rawType": "int64",
         "type": "integer"
        },
        {
         "name": "(8, 18)",
         "rawType": "int64",
         "type": "integer"
        },
        {
         "name": "(8, 19)",
         "rawType": "int64",
         "type": "integer"
        },
        {
         "name": "(8, 20)",
         "rawType": "int64",
         "type": "integer"
        },
        {
         "name": "(8, 21)",
         "rawType": "int64",
         "type": "integer"
        },
        {
         "name": "(8, 22)",
         "rawType": "int64",
         "type": "integer"
        },
        {
         "name": "(8, 23)",
         "rawType": "int64",
         "type": "integer"
        },
        {
         "name": "(8, 24)",
         "rawType": "int64",
         "type": "integer"
        },
        {
         "name": "(8, 25)",
         "rawType": "int64",
         "type": "integer"
        },
        {
         "name": "(8, 26)",
         "rawType": "int64",
         "type": "integer"
        },
        {
         "name": "(8, 27)",
         "rawType": "int64",
         "type": "integer"
        },
        {
         "name": "(8, 28)",
         "rawType": "int64",
         "type": "integer"
        },
        {
         "name": "(8, 29)",
         "rawType": "int64",
         "type": "integer"
        },
        {
         "name": "(8, 30)",
         "rawType": "int64",
         "type": "integer"
        },
        {
         "name": "(8, 31)",
         "rawType": "int64",
         "type": "integer"
        },
        {
         "name": "(8, 32)",
         "rawType": "int64",
         "type": "integer"
        },
        {
         "name": "(8, 33)",
         "rawType": "int64",
         "type": "integer"
        },
        {
         "name": "(8, 34)",
         "rawType": "int64",
         "type": "integer"
        },
        {
         "name": "(8, 35)",
         "rawType": "int64",
         "type": "integer"
        },
        {
         "name": "(8, 36)",
         "rawType": "int64",
         "type": "integer"
        },
        {
         "name": "(8, 37)",
         "rawType": "int64",
         "type": "integer"
        },
        {
         "name": "(8, 38)",
         "rawType": "int64",
         "type": "integer"
        },
        {
         "name": "(8, 39)",
         "rawType": "int64",
         "type": "integer"
        },
        {
         "name": "(8, 40)",
         "rawType": "int64",
         "type": "integer"
        },
        {
         "name": "(8, 41)",
         "rawType": "int64",
         "type": "integer"
        },
        {
         "name": "(8, 42)",
         "rawType": "int64",
         "type": "integer"
        },
        {
         "name": "(8, 43)",
         "rawType": "int64",
         "type": "integer"
        },
        {
         "name": "(8, 44)",
         "rawType": "int64",
         "type": "integer"
        },
        {
         "name": "(8, 45)",
         "rawType": "int64",
         "type": "integer"
        },
        {
         "name": "(8, 46)",
         "rawType": "int64",
         "type": "integer"
        },
        {
         "name": "(8, 47)",
         "rawType": "int64",
         "type": "integer"
        },
        {
         "name": "(8, 48)",
         "rawType": "int64",
         "type": "integer"
        },
        {
         "name": "(8, 49)",
         "rawType": "int64",
         "type": "integer"
        },
        {
         "name": "(8, 50)",
         "rawType": "int64",
         "type": "integer"
        },
        {
         "name": "(9, 1)",
         "rawType": "int64",
         "type": "integer"
        },
        {
         "name": "(9, 2)",
         "rawType": "int64",
         "type": "integer"
        },
        {
         "name": "(9, 3)",
         "rawType": "int64",
         "type": "integer"
        },
        {
         "name": "(9, 4)",
         "rawType": "int64",
         "type": "integer"
        },
        {
         "name": "(9, 5)",
         "rawType": "int64",
         "type": "integer"
        },
        {
         "name": "(9, 6)",
         "rawType": "int64",
         "type": "integer"
        },
        {
         "name": "(9, 7)",
         "rawType": "int64",
         "type": "integer"
        },
        {
         "name": "(9, 8)",
         "rawType": "int64",
         "type": "integer"
        },
        {
         "name": "(9, 9)",
         "rawType": "int64",
         "type": "integer"
        },
        {
         "name": "(9, 10)",
         "rawType": "int64",
         "type": "integer"
        },
        {
         "name": "(9, 11)",
         "rawType": "int64",
         "type": "integer"
        },
        {
         "name": "(9, 12)",
         "rawType": "int64",
         "type": "integer"
        },
        {
         "name": "(9, 13)",
         "rawType": "int64",
         "type": "integer"
        },
        {
         "name": "(9, 14)",
         "rawType": "int64",
         "type": "integer"
        },
        {
         "name": "(9, 15)",
         "rawType": "int64",
         "type": "integer"
        },
        {
         "name": "(9, 16)",
         "rawType": "int64",
         "type": "integer"
        },
        {
         "name": "(9, 17)",
         "rawType": "int64",
         "type": "integer"
        },
        {
         "name": "(9, 18)",
         "rawType": "int64",
         "type": "integer"
        },
        {
         "name": "(9, 19)",
         "rawType": "int64",
         "type": "integer"
        },
        {
         "name": "(9, 20)",
         "rawType": "int64",
         "type": "integer"
        },
        {
         "name": "(9, 21)",
         "rawType": "int64",
         "type": "integer"
        },
        {
         "name": "(9, 22)",
         "rawType": "int64",
         "type": "integer"
        },
        {
         "name": "(9, 23)",
         "rawType": "int64",
         "type": "integer"
        },
        {
         "name": "(9, 24)",
         "rawType": "int64",
         "type": "integer"
        },
        {
         "name": "(9, 25)",
         "rawType": "int64",
         "type": "integer"
        },
        {
         "name": "(9, 26)",
         "rawType": "int64",
         "type": "integer"
        },
        {
         "name": "(9, 27)",
         "rawType": "int64",
         "type": "integer"
        },
        {
         "name": "(9, 28)",
         "rawType": "int64",
         "type": "integer"
        },
        {
         "name": "(9, 29)",
         "rawType": "int64",
         "type": "integer"
        },
        {
         "name": "(9, 30)",
         "rawType": "int64",
         "type": "integer"
        },
        {
         "name": "(9, 31)",
         "rawType": "int64",
         "type": "integer"
        },
        {
         "name": "(9, 32)",
         "rawType": "int64",
         "type": "integer"
        },
        {
         "name": "(9, 33)",
         "rawType": "int64",
         "type": "integer"
        },
        {
         "name": "(9, 34)",
         "rawType": "int64",
         "type": "integer"
        },
        {
         "name": "(9, 35)",
         "rawType": "int64",
         "type": "integer"
        },
        {
         "name": "(9, 36)",
         "rawType": "int64",
         "type": "integer"
        },
        {
         "name": "(9, 37)",
         "rawType": "int64",
         "type": "integer"
        },
        {
         "name": "(9, 38)",
         "rawType": "int64",
         "type": "integer"
        },
        {
         "name": "(9, 39)",
         "rawType": "int64",
         "type": "integer"
        },
        {
         "name": "(9, 40)",
         "rawType": "int64",
         "type": "integer"
        },
        {
         "name": "(9, 41)",
         "rawType": "int64",
         "type": "integer"
        },
        {
         "name": "(9, 42)",
         "rawType": "int64",
         "type": "integer"
        },
        {
         "name": "(9, 43)",
         "rawType": "int64",
         "type": "integer"
        },
        {
         "name": "(9, 44)",
         "rawType": "int64",
         "type": "integer"
        },
        {
         "name": "(9, 45)",
         "rawType": "int64",
         "type": "integer"
        },
        {
         "name": "(9, 46)",
         "rawType": "int64",
         "type": "integer"
        },
        {
         "name": "(9, 47)",
         "rawType": "int64",
         "type": "integer"
        },
        {
         "name": "(9, 48)",
         "rawType": "int64",
         "type": "integer"
        },
        {
         "name": "(9, 49)",
         "rawType": "int64",
         "type": "integer"
        },
        {
         "name": "(9, 50)",
         "rawType": "int64",
         "type": "integer"
        },
        {
         "name": "(10, 1)",
         "rawType": "int64",
         "type": "integer"
        },
        {
         "name": "(10, 2)",
         "rawType": "int64",
         "type": "integer"
        },
        {
         "name": "(10, 3)",
         "rawType": "int64",
         "type": "integer"
        },
        {
         "name": "(10, 4)",
         "rawType": "int64",
         "type": "integer"
        },
        {
         "name": "(10, 5)",
         "rawType": "int64",
         "type": "integer"
        },
        {
         "name": "(10, 6)",
         "rawType": "int64",
         "type": "integer"
        },
        {
         "name": "(10, 7)",
         "rawType": "int64",
         "type": "integer"
        },
        {
         "name": "(10, 8)",
         "rawType": "int64",
         "type": "integer"
        },
        {
         "name": "(10, 9)",
         "rawType": "int64",
         "type": "integer"
        },
        {
         "name": "(10, 10)",
         "rawType": "int64",
         "type": "integer"
        },
        {
         "name": "(10, 11)",
         "rawType": "int64",
         "type": "integer"
        },
        {
         "name": "(10, 12)",
         "rawType": "int64",
         "type": "integer"
        },
        {
         "name": "(10, 13)",
         "rawType": "int64",
         "type": "integer"
        },
        {
         "name": "(10, 14)",
         "rawType": "int64",
         "type": "integer"
        },
        {
         "name": "(10, 15)",
         "rawType": "int64",
         "type": "integer"
        },
        {
         "name": "(10, 16)",
         "rawType": "int64",
         "type": "integer"
        },
        {
         "name": "(10, 17)",
         "rawType": "int64",
         "type": "integer"
        },
        {
         "name": "(10, 18)",
         "rawType": "int64",
         "type": "integer"
        },
        {
         "name": "(10, 19)",
         "rawType": "int64",
         "type": "integer"
        },
        {
         "name": "(10, 20)",
         "rawType": "int64",
         "type": "integer"
        },
        {
         "name": "(10, 21)",
         "rawType": "int64",
         "type": "integer"
        },
        {
         "name": "(10, 22)",
         "rawType": "int64",
         "type": "integer"
        },
        {
         "name": "(10, 23)",
         "rawType": "int64",
         "type": "integer"
        },
        {
         "name": "(10, 24)",
         "rawType": "int64",
         "type": "integer"
        },
        {
         "name": "(10, 25)",
         "rawType": "int64",
         "type": "integer"
        },
        {
         "name": "(10, 26)",
         "rawType": "int64",
         "type": "integer"
        },
        {
         "name": "(10, 27)",
         "rawType": "int64",
         "type": "integer"
        },
        {
         "name": "(10, 28)",
         "rawType": "int64",
         "type": "integer"
        },
        {
         "name": "(10, 29)",
         "rawType": "int64",
         "type": "integer"
        },
        {
         "name": "(10, 30)",
         "rawType": "int64",
         "type": "integer"
        },
        {
         "name": "(10, 31)",
         "rawType": "int64",
         "type": "integer"
        },
        {
         "name": "(10, 32)",
         "rawType": "int64",
         "type": "integer"
        },
        {
         "name": "(10, 33)",
         "rawType": "int64",
         "type": "integer"
        },
        {
         "name": "(10, 34)",
         "rawType": "int64",
         "type": "integer"
        },
        {
         "name": "(10, 35)",
         "rawType": "int64",
         "type": "integer"
        },
        {
         "name": "(10, 36)",
         "rawType": "int64",
         "type": "integer"
        },
        {
         "name": "(10, 37)",
         "rawType": "int64",
         "type": "integer"
        },
        {
         "name": "(10, 38)",
         "rawType": "int64",
         "type": "integer"
        },
        {
         "name": "(10, 39)",
         "rawType": "int64",
         "type": "integer"
        },
        {
         "name": "(10, 40)",
         "rawType": "int64",
         "type": "integer"
        },
        {
         "name": "(10, 41)",
         "rawType": "int64",
         "type": "integer"
        },
        {
         "name": "(10, 42)",
         "rawType": "int64",
         "type": "integer"
        },
        {
         "name": "(10, 43)",
         "rawType": "int64",
         "type": "integer"
        },
        {
         "name": "(10, 44)",
         "rawType": "int64",
         "type": "integer"
        },
        {
         "name": "(10, 45)",
         "rawType": "int64",
         "type": "integer"
        },
        {
         "name": "(10, 46)",
         "rawType": "int64",
         "type": "integer"
        },
        {
         "name": "(10, 47)",
         "rawType": "int64",
         "type": "integer"
        },
        {
         "name": "(10, 48)",
         "rawType": "int64",
         "type": "integer"
        },
        {
         "name": "(10, 49)",
         "rawType": "int64",
         "type": "integer"
        },
        {
         "name": "(10, 50)",
         "rawType": "int64",
         "type": "integer"
        }
       ],
       "conversionMethod": "pd.DataFrame",
       "ref": "c6911588-ae0c-461b-aa8c-c689408c0291",
       "rows": [
        [
         "2013-01-01 00:00:00",
         "13",
         "33",
         "15",
         "10",
         "11",
         "31",
         "25",
         "33",
         "18",
         "37",
         "37",
         "33",
         "37",
         "22",
         "42",
         "14",
         "13",
         "38",
         "15",
         "22",
         "22",
         "59",
         "14",
         "41",
         "59",
         "16",
         "14",
         "49",
         "34",
         "17",
         "30",
         "22",
         "37",
         "23",
         "28",
         "49",
         "16",
         "21",
         "25",
         "19",
         "6",
         "21",
         "22",
         "20",
         "37",
         "30",
         "17",
         "21",
         "18",
         "30",
         "12",
         "41",
         "19",
         "21",
         "4",
         "34",
         "39",
         "49",
         "28",
         "51",
         "51",
         "55",
         "51",
         "33",
         "65",
         "15",
         "24",
         "51",
         "32",
         "35",
         "30",
         "64",
         "17",
         "45",
         "42",
         "35",
         "17",
         "45",
         "50",
         "32",
         "38",
         "26",
         "43",
         "18",
         "42",
         "64",
         "18",
         "50",
         "35",
         "20",
         "11",
         "25",
         "36",
         "12",
         "45",
         "43",
         "12",
         "45",
         "29",
         "43",
         "19",
         "43",
         "26",
         "9",
         "13",
         "34",
         "40",
         "54",
         "28",
         "38",
         "37",
         "38",
         "49",
         "37",
         "61",
         "15",
         "26",
         "45",
         "34",
         "29",
         "25",
         "50",
         "12",
         "36",
         "62",
         "19",
         "11",
         "42",
         "46",
         "19",
         "42",
         "31",
         "38",
         "24",
         "38",
         "51",
         "9",
         "42",
         "25",
         "16",
         "14",
         "19",
         "29",
         "19",
         "57",
         "33",
         "10",
         "28",
         "21",
         "45",
         "10",
         "30",
         "17",
         "13",
         "10",
         "24",
         "26",
         "34",
         "19",
         "30",
         "47",
         "36",
         "46",
         "43",
         "46",
         "13",
         "20",
         "49",
         "14",
         "36",
         "23",
         "44",
         "13",
         "35",
         "56",
         "22",
         "17",
         "46",
         "35",
         "29",
         "35",
         "24",
         "42",
         "11",
         "34",
         "41",
         "22",
         "40",
         "18",
         "18",
         "8",
         "24",
         "26",
         "17",
         "35",
         "38",
         "23",
         "34",
         "12",
         "38",
         "11",
         "26",
         "14",
         "4",
         "9",
         "20",
         "21",
         "30",
         "21",
         "31",
         "26",
         "22",
         "33",
         "22",
         "31",
         "10",
         "9",
         "34",
         "20",
         "20",
         "15",
         "36",
         "11",
         "26",
         "37",
         "19",
         "5",
         "41",
         "24",
         "16",
         "24",
         "20",
         "32",
         "5",
         "37",
         "28",
         "12",
         "29",
         "20",
         "18",
         "11",
         "17",
         "16",
         "13",
         "28",
         "20",
         "9",
         "21",
         "9",
         "19",
         "20",
         "27",
         "13",
         "7",
         "4",
         "27",
         "14",
         "43",
         "25",
         "29",
         "26",
         "29",
         "37",
         "28",
         "38",
         "13",
         "18",
         "32",
         "22",
         "20",
         "15",
         "32",
         "17",
         "33",
         "27",
         "11",
         "2",
         "44",
         "24",
         "25",
         "23",
         "16",
         "28",
         "9",
         "23",
         "33",
         "16",
         "31",
         "22",
         "15",
         "13",
         "15",
         "22",
         "17",
         "34",
         "23",
         "5",
         "21",
         "11",
         "20",
         "7",
         "21",
         "9",
         "6",
         "5",
         "21",
         "21",
         "29",
         "27",
         "25",
         "26",
         "26",
         "42",
         "25",
         "27",
         "11",
         "10",
         "28",
         "6",
         "17",
         "13",
         "33",
         "7",
         "21",
         "24",
         "18",
         "9",
         "24",
         "27",
         "15",
         "23",
         "18",
         "31",
         "9",
         "27",
         "31",
         "11",
         "33",
         "18",
         "15",
         "8",
         "16",
         "12",
         "6",
         "28",
         "27",
         "4",
         "27",
         "19",
         "21",
         "16",
         "39",
         "21",
         "13",
         "10",
         "36",
         "30",
         "50",
         "29",
         "47",
         "35",
         "54",
         "56",
         "44",
         "44",
         "14",
         "13",
         "52",
         "20",
         "27",
         "21",
         "60",
         "13",
         "43",
         "47",
         "34",
         "19",
         "61",
         "42",
         "25",
         "43",
         "27",
         "49",
         "16",
         "40",
         "45",
         "12",
         "49",
         "36",
         "20",
         "11",
         "20",
         "40",
         "21",
         "47",
         "34",
         "19",
         "27",
         "12",
         "45",
         "11",
         "31",
         "20",
         "10",
         "9",
         "29",
         "30",
         "45",
         "27",
         "45",
         "35",
         "35",
         "47",
         "26",
         "48",
         "19",
         "18",
         "41",
         "24",
         "28",
         "25",
         "47",
         "20",
         "34",
         "45",
         "15",
         "8",
         "50",
         "34",
         "20",
         "37",
         "23",
         "37",
         "19",
         "36",
         "34",
         "22",
         "39",
         "19",
         "21",
         "9",
         "18",
         "26",
         "12",
         "40",
         "34",
         "6",
         "28",
         "11",
         "36",
         "14",
         "36",
         "18",
         "9",
         "8",
         "32",
         "32",
         "49",
         "23",
         "45",
         "49",
         "41",
         "46",
         "30",
         "51",
         "20",
         "20",
         "45",
         "21",
         "31",
         "33",
         "34",
         "22",
         "35",
         "48",
         "22",
         "9",
         "54",
         "35",
         "21",
         "42",
         "30",
         "47",
         "15",
         "45",
         "55",
         "19",
         "47",
         "30",
         "17",
         "12",
         "20",
         "24",
         "17",
         "45",
         "37",
         "11",
         "25",
         "17",
         "33"
        ],
        [
         "2013-01-02 00:00:00",
         "11",
         "43",
         "30",
         "11",
         "6",
         "36",
         "23",
         "37",
         "23",
         "34",
         "43",
         "35",
         "31",
         "35",
         "33",
         "11",
         "18",
         "51",
         "18",
         "16",
         "28",
         "29",
         "17",
         "25",
         "26",
         "26",
         "10",
         "39",
         "30",
         "25",
         "19",
         "22",
         "30",
         "6",
         "26",
         "48",
         "13",
         "28",
         "23",
         "15",
         "15",
         "24",
         "27",
         "15",
         "40",
         "30",
         "15",
         "26",
         "10",
         "32",
         "16",
         "33",
         "32",
         "14",
         "6",
         "40",
         "47",
         "42",
         "21",
         "56",
         "56",
         "26",
         "58",
         "56",
         "71",
         "14",
         "32",
         "65",
         "34",
         "25",
         "27",
         "53",
         "24",
         "51",
         "57",
         "32",
         "24",
         "53",
         "54",
         "16",
         "37",
         "23",
         "49",
         "20",
         "46",
         "46",
         "15",
         "58",
         "26",
         "19",
         "19",
         "21",
         "35",
         "25",
         "50",
         "52",
         "13",
         "37",
         "25",
         "57",
         "8",
         "27",
         "16",
         "15",
         "9",
         "38",
         "36",
         "34",
         "16",
         "60",
         "43",
         "54",
         "47",
         "35",
         "44",
         "18",
         "17",
         "35",
         "24",
         "23",
         "28",
         "53",
         "21",
         "31",
         "56",
         "26",
         "17",
         "60",
         "39",
         "23",
         "32",
         "29",
         "36",
         "11",
         "40",
         "51",
         "22",
         "58",
         "18",
         "12",
         "12",
         "20",
         "32",
         "22",
         "39",
         "46",
         "12",
         "32",
         "14",
         "47",
         "12",
         "28",
         "23",
         "16",
         "5",
         "35",
         "35",
         "44",
         "21",
         "29",
         "48",
         "39",
         "46",
         "39",
         "50",
         "15",
         "17",
         "37",
         "20",
         "31",
         "23",
         "51",
         "15",
         "34",
         "45",
         "31",
         "13",
         "45",
         "39",
         "29",
         "35",
         "29",
         "49",
         "12",
         "34",
         "29",
         "20",
         "42",
         "26",
         "15",
         "9",
         "24",
         "21",
         "14",
         "40",
         "28",
         "11",
         "26",
         "18",
         "35",
         "9",
         "22",
         "16",
         "5",
         "5",
         "15",
         "16",
         "23",
         "20",
         "28",
         "21",
         "18",
         "28",
         "27",
         "31",
         "12",
         "11",
         "29",
         "12",
         "14",
         "15",
         "33",
         "13",
         "25",
         "39",
         "17",
         "11",
         "42",
         "34",
         "17",
         "28",
         "13",
         "26",
         "10",
         "26",
         "32",
         "10",
         "41",
         "17",
         "10",
         "11",
         "18",
         "24",
         "8",
         "26",
         "19",
         "10",
         "22",
         "13",
         "25",
         "6",
         "18",
         "14",
         "7",
         "9",
         "27",
         "19",
         "32",
         "17",
         "26",
         "26",
         "23",
         "33",
         "26",
         "29",
         "9",
         "20",
         "27",
         "12",
         "19",
         "16",
         "34",
         "15",
         "27",
         "38",
         "22",
         "9",
         "38",
         "29",
         "13",
         "26",
         "21",
         "18",
         "13",
         "20",
         "35",
         "16",
         "20",
         "17",
         "9",
         "12",
         "21",
         "20",
         "14",
         "32",
         "26",
         "10",
         "20",
         "10",
         "23",
         "4",
         "23",
         "11",
         "8",
         "8",
         "11",
         "23",
         "32",
         "20",
         "27",
         "25",
         "23",
         "31",
         "31",
         "29",
         "10",
         "8",
         "29",
         "13",
         "15",
         "19",
         "31",
         "11",
         "23",
         "26",
         "25",
         "4",
         "30",
         "25",
         "13",
         "28",
         "12",
         "19",
         "7",
         "27",
         "20",
         "11",
         "28",
         "18",
         "11",
         "8",
         "18",
         "17",
         "15",
         "30",
         "19",
         "4",
         "21",
         "13",
         "30",
         "10",
         "25",
         "21",
         "10",
         "9",
         "43",
         "29",
         "61",
         "28",
         "45",
         "44",
         "41",
         "56",
         "33",
         "56",
         "19",
         "22",
         "47",
         "24",
         "34",
         "30",
         "58",
         "16",
         "38",
         "53",
         "30",
         "12",
         "54",
         "50",
         "17",
         "49",
         "29",
         "50",
         "14",
         "42",
         "47",
         "24",
         "55",
         "28",
         "23",
         "23",
         "22",
         "25",
         "24",
         "50",
         "35",
         "16",
         "35",
         "27",
         "54",
         "9",
         "26",
         "22",
         "15",
         "11",
         "33",
         "24",
         "43",
         "36",
         "42",
         "43",
         "31",
         "47",
         "33",
         "40",
         "10",
         "19",
         "51",
         "25",
         "24",
         "28",
         "54",
         "16",
         "32",
         "48",
         "28",
         "15",
         "55",
         "28",
         "25",
         "37",
         "19",
         "23",
         "10",
         "46",
         "49",
         "11",
         "48",
         "25",
         "12",
         "13",
         "25",
         "25",
         "18",
         "41",
         "28",
         "14",
         "38",
         "16",
         "44",
         "14",
         "34",
         "28",
         "9",
         "13",
         "32",
         "39",
         "38",
         "23",
         "50",
         "47",
         "36",
         "57",
         "48",
         "59",
         "18",
         "17",
         "48",
         "26",
         "34",
         "28",
         "54",
         "15",
         "38",
         "44",
         "23",
         "19",
         "58",
         "32",
         "24",
         "32",
         "18",
         "45",
         "13",
         "38",
         "34",
         "9",
         "54",
         "27",
         "19",
         "10",
         "22",
         "29",
         "10",
         "45",
         "33",
         "13",
         "24",
         "13",
         "37"
        ],
        [
         "2013-01-03 00:00:00",
         "14",
         "23",
         "14",
         "8",
         "8",
         "18",
         "34",
         "38",
         "25",
         "32",
         "34",
         "41",
         "50",
         "26",
         "45",
         "12",
         "15",
         "42",
         "20",
         "24",
         "23",
         "33",
         "5",
         "32",
         "42",
         "31",
         "12",
         "57",
         "35",
         "25",
         "33",
         "30",
         "40",
         "15",
         "38",
         "45",
         "12",
         "40",
         "29",
         "12",
         "5",
         "14",
         "19",
         "11",
         "42",
         "30",
         "5",
         "25",
         "17",
         "25",
         "16",
         "46",
         "26",
         "12",
         "12",
         "41",
         "43",
         "46",
         "29",
         "46",
         "51",
         "51",
         "49",
         "57",
         "53",
         "16",
         "23",
         "63",
         "32",
         "30",
         "28",
         "65",
         "22",
         "38",
         "63",
         "44",
         "20",
         "65",
         "57",
         "26",
         "54",
         "32",
         "63",
         "23",
         "35",
         "55",
         "19",
         "52",
         "36",
         "24",
         "23",
         "20",
         "52",
         "18",
         "56",
         "30",
         "5",
         "45",
         "30",
         "45",
         "10",
         "38",
         "17",
         "9",
         "10",
         "32",
         "36",
         "61",
         "32",
         "50",
         "36",
         "33",
         "52",
         "39",
         "67",
         "18",
         "26",
         "53",
         "24",
         "24",
         "25",
         "51",
         "14",
         "40",
         "44",
         "30",
         "14",
         "61",
         "47",
         "28",
         "30",
         "30",
         "42",
         "16",
         "37",
         "43",
         "14",
         "37",
         "26",
         "26",
         "14",
         "29",
         "36",
         "18",
         "65",
         "37",
         "13",
         "40",
         "22",
         "39",
         "8",
         "37",
         "27",
         "12",
         "12",
         "34",
         "31",
         "41",
         "25",
         "37",
         "58",
         "38",
         "57",
         "32",
         "46",
         "9",
         "18",
         "46",
         "26",
         "28",
         "30",
         "47",
         "16",
         "36",
         "41",
         "24",
         "11",
         "45",
         "56",
         "30",
         "27",
         "22",
         "51",
         "12",
         "27",
         "48",
         "17",
         "53",
         "27",
         "14",
         "18",
         "18",
         "25",
         "20",
         "53",
         "46",
         "11",
         "33",
         "22",
         "32",
         "12",
         "26",
         "15",
         "8",
         "3",
         "37",
         "25",
         "37",
         "15",
         "23",
         "28",
         "32",
         "36",
         "17",
         "32",
         "11",
         "16",
         "52",
         "17",
         "29",
         "19",
         "37",
         "7",
         "21",
         "40",
         "26",
         "5",
         "36",
         "25",
         "18",
         "24",
         "18",
         "24",
         "19",
         "23",
         "38",
         "16",
         "45",
         "22",
         "14",
         "8",
         "21",
         "14",
         "9",
         "35",
         "13",
         "14",
         "24",
         "16",
         "28",
         "11",
         "20",
         "13",
         "17",
         "10",
         "17",
         "19",
         "36",
         "28",
         "34",
         "31",
         "33",
         "35",
         "24",
         "37",
         "13",
         "17",
         "36",
         "19",
         "15",
         "23",
         "31",
         "7",
         "19",
         "44",
         "24",
         "8",
         "44",
         "30",
         "16",
         "16",
         "21",
         "29",
         "9",
         "27",
         "29",
         "10",
         "37",
         "22",
         "12",
         "9",
         "14",
         "28",
         "15",
         "33",
         "36",
         "10",
         "27",
         "16",
         "38",
         "8",
         "13",
         "14",
         "9",
         "9",
         "29",
         "25",
         "30",
         "18",
         "26",
         "26",
         "19",
         "36",
         "23",
         "35",
         "9",
         "13",
         "25",
         "10",
         "22",
         "19",
         "27",
         "10",
         "24",
         "34",
         "16",
         "7",
         "42",
         "26",
         "14",
         "13",
         "25",
         "25",
         "15",
         "28",
         "30",
         "5",
         "28",
         "18",
         "12",
         "7",
         "11",
         "21",
         "7",
         "33",
         "26",
         "4",
         "11",
         "9",
         "20",
         "12",
         "34",
         "21",
         "16",
         "14",
         "39",
         "38",
         "38",
         "31",
         "46",
         "42",
         "60",
         "47",
         "39",
         "59",
         "22",
         "28",
         "51",
         "26",
         "25",
         "24",
         "49",
         "17",
         "43",
         "63",
         "37",
         "19",
         "65",
         "48",
         "31",
         "47",
         "34",
         "39",
         "21",
         "36",
         "60",
         "20",
         "46",
         "32",
         "24",
         "17",
         "33",
         "38",
         "25",
         "42",
         "38",
         "8",
         "22",
         "16",
         "54",
         "20",
         "33",
         "20",
         "7",
         "8",
         "19",
         "35",
         "34",
         "25",
         "41",
         "32",
         "38",
         "57",
         "35",
         "64",
         "17",
         "26",
         "52",
         "31",
         "28",
         "34",
         "35",
         "11",
         "26",
         "50",
         "34",
         "10",
         "45",
         "53",
         "20",
         "28",
         "21",
         "36",
         "15",
         "34",
         "41",
         "22",
         "44",
         "21",
         "16",
         "13",
         "28",
         "30",
         "27",
         "44",
         "41",
         "18",
         "24",
         "20",
         "29",
         "16",
         "34",
         "26",
         "14",
         "10",
         "43",
         "38",
         "37",
         "37",
         "53",
         "60",
         "39",
         "36",
         "45",
         "49",
         "10",
         "25",
         "50",
         "25",
         "35",
         "18",
         "56",
         "12",
         "38",
         "60",
         "30",
         "14",
         "59",
         "36",
         "29",
         "33",
         "26",
         "39",
         "19",
         "31",
         "54",
         "23",
         "55",
         "21",
         "18",
         "17",
         "27",
         "43",
         "20",
         "56",
         "28",
         "16",
         "29",
         "19",
         "46"
        ],
        [
         "2013-01-04 00:00:00",
         "13",
         "18",
         "10",
         "19",
         "9",
         "19",
         "36",
         "54",
         "22",
         "45",
         "52",
         "45",
         "45",
         "32",
         "39",
         "15",
         "19",
         "50",
         "16",
         "24",
         "15",
         "45",
         "16",
         "36",
         "35",
         "25",
         "18",
         "46",
         "46",
         "27",
         "24",
         "24",
         "48",
         "13",
         "38",
         "41",
         "23",
         "45",
         "31",
         "13",
         "9",
         "22",
         "29",
         "22",
         "49",
         "37",
         "13",
         "26",
         "22",
         "32",
         "20",
         "50",
         "34",
         "17",
         "16",
         "41",
         "44",
         "55",
         "32",
         "56",
         "47",
         "51",
         "53",
         "53",
         "68",
         "14",
         "29",
         "57",
         "30",
         "29",
         "27",
         "70",
         "15",
         "62",
         "56",
         "33",
         "14",
         "66",
         "64",
         "31",
         "47",
         "34",
         "52",
         "14",
         "53",
         "55",
         "28",
         "57",
         "38",
         "35",
         "15",
         "28",
         "50",
         "24",
         "57",
         "46",
         "19",
         "32",
         "20",
         "45",
         "15",
         "35",
         "25",
         "16",
         "20",
         "36",
         "38",
         "38",
         "40",
         "46",
         "43",
         "51",
         "46",
         "41",
         "61",
         "18",
         "20",
         "47",
         "22",
         "25",
         "41",
         "45",
         "21",
         "35",
         "54",
         "29",
         "16",
         "61",
         "45",
         "29",
         "57",
         "27",
         "45",
         "22",
         "45",
         "55",
         "17",
         "69",
         "30",
         "21",
         "19",
         "20",
         "35",
         "20",
         "50",
         "32",
         "5",
         "39",
         "26",
         "48",
         "15",
         "44",
         "27",
         "19",
         "7",
         "42",
         "34",
         "44",
         "37",
         "45",
         "47",
         "46",
         "48",
         "49",
         "58",
         "18",
         "19",
         "68",
         "25",
         "29",
         "25",
         "58",
         "20",
         "37",
         "47",
         "32",
         "13",
         "60",
         "44",
         "28",
         "44",
         "28",
         "39",
         "11",
         "40",
         "52",
         "21",
         "47",
         "27",
         "17",
         "14",
         "25",
         "40",
         "20",
         "51",
         "27",
         "18",
         "26",
         "17",
         "36",
         "8",
         "23",
         "15",
         "7",
         "12",
         "33",
         "28",
         "39",
         "20",
         "32",
         "43",
         "34",
         "45",
         "29",
         "37",
         "12",
         "20",
         "35",
         "24",
         "16",
         "17",
         "38",
         "13",
         "36",
         "38",
         "19",
         "9",
         "29",
         "32",
         "19",
         "26",
         "24",
         "33",
         "8",
         "38",
         "35",
         "8",
         "42",
         "25",
         "10",
         "15",
         "24",
         "37",
         "16",
         "43",
         "29",
         "10",
         "34",
         "12",
         "27",
         "7",
         "24",
         "17",
         "10",
         "5",
         "22",
         "14",
         "31",
         "33",
         "42",
         "39",
         "30",
         "39",
         "31",
         "46",
         "9",
         "16",
         "40",
         "14",
         "18",
         "12",
         "35",
         "18",
         "32",
         "36",
         "38",
         "12",
         "45",
         "24",
         "21",
         "24",
         "18",
         "31",
         "15",
         "28",
         "31",
         "9",
         "41",
         "29",
         "15",
         "10",
         "21",
         "22",
         "12",
         "24",
         "28",
         "11",
         "21",
         "18",
         "33",
         "7",
         "34",
         "15",
         "2",
         "4",
         "18",
         "26",
         "28",
         "24",
         "37",
         "33",
         "25",
         "38",
         "24",
         "43",
         "8",
         "13",
         "41",
         "19",
         "18",
         "28",
         "38",
         "13",
         "17",
         "39",
         "14",
         "10",
         "35",
         "23",
         "22",
         "23",
         "13",
         "24",
         "15",
         "28",
         "36",
         "8",
         "24",
         "20",
         "7",
         "5",
         "12",
         "13",
         "8",
         "18",
         "28",
         "9",
         "17",
         "9",
         "27",
         "21",
         "39",
         "19",
         "13",
         "10",
         "49",
         "47",
         "56",
         "46",
         "62",
         "67",
         "55",
         "54",
         "52",
         "66",
         "18",
         "26",
         "61",
         "28",
         "44",
         "30",
         "46",
         "17",
         "52",
         "51",
         "44",
         "9",
         "62",
         "38",
         "38",
         "53",
         "39",
         "59",
         "22",
         "42",
         "74",
         "19",
         "62",
         "27",
         "25",
         "9",
         "25",
         "31",
         "34",
         "67",
         "39",
         "17",
         "32",
         "18",
         "52",
         "22",
         "42",
         "25",
         "19",
         "15",
         "33",
         "35",
         "41",
         "31",
         "46",
         "42",
         "46",
         "52",
         "30",
         "60",
         "15",
         "17",
         "60",
         "30",
         "32",
         "21",
         "44",
         "21",
         "33",
         "38",
         "28",
         "20",
         "60",
         "45",
         "24",
         "41",
         "23",
         "36",
         "14",
         "29",
         "41",
         "18",
         "51",
         "27",
         "20",
         "13",
         "23",
         "39",
         "21",
         "41",
         "41",
         "15",
         "30",
         "19",
         "43",
         "17",
         "50",
         "31",
         "16",
         "10",
         "50",
         "33",
         "44",
         "28",
         "51",
         "47",
         "52",
         "54",
         "30",
         "55",
         "14",
         "16",
         "54",
         "30",
         "34",
         "30",
         "46",
         "19",
         "28",
         "56",
         "41",
         "14",
         "63",
         "45",
         "39",
         "29",
         "31",
         "48",
         "16",
         "48",
         "46",
         "23",
         "56",
         "30",
         "21",
         "13",
         "24",
         "27",
         "12",
         "50",
         "44",
         "11",
         "39",
         "23",
         "51"
        ],
        [
         "2013-01-05 00:00:00",
         "10",
         "34",
         "23",
         "12",
         "8",
         "31",
         "38",
         "51",
         "29",
         "35",
         "45",
         "46",
         "49",
         "31",
         "47",
         "22",
         "16",
         "56",
         "19",
         "36",
         "18",
         "32",
         "23",
         "31",
         "45",
         "27",
         "13",
         "45",
         "43",
         "22",
         "32",
         "28",
         "31",
         "15",
         "45",
         "48",
         "23",
         "38",
         "29",
         "19",
         "13",
         "18",
         "34",
         "19",
         "52",
         "28",
         "12",
         "28",
         "15",
         "35",
         "16",
         "44",
         "25",
         "14",
         "9",
         "47",
         "55",
         "64",
         "45",
         "53",
         "62",
         "62",
         "67",
         "45",
         "77",
         "15",
         "23",
         "76",
         "23",
         "29",
         "37",
         "64",
         "18",
         "42",
         "61",
         "43",
         "16",
         "97",
         "56",
         "30",
         "45",
         "35",
         "56",
         "18",
         "48",
         "53",
         "18",
         "61",
         "37",
         "18",
         "19",
         "39",
         "41",
         "19",
         "78",
         "41",
         "18",
         "53",
         "20",
         "55",
         "22",
         "47",
         "34",
         "16",
         "13",
         "36",
         "31",
         "54",
         "44",
         "46",
         "43",
         "51",
         "58",
         "50",
         "76",
         "14",
         "20",
         "50",
         "30",
         "31",
         "25",
         "46",
         "23",
         "58",
         "64",
         "30",
         "11",
         "69",
         "54",
         "39",
         "39",
         "37",
         "45",
         "19",
         "58",
         "40",
         "32",
         "54",
         "30",
         "17",
         "19",
         "21",
         "40",
         "24",
         "57",
         "41",
         "14",
         "47",
         "22",
         "46",
         "19",
         "36",
         "19",
         "13",
         "5",
         "41",
         "44",
         "34",
         "37",
         "52",
         "49",
         "45",
         "45",
         "30",
         "61",
         "13",
         "12",
         "56",
         "23",
         "35",
         "33",
         "55",
         "29",
         "34",
         "52",
         "30",
         "16",
         "52",
         "42",
         "29",
         "44",
         "24",
         "47",
         "11",
         "47",
         "36",
         "10",
         "56",
         "22",
         "18",
         "18",
         "29",
         "24",
         "23",
         "49",
         "33",
         "18",
         "33",
         "19",
         "47",
         "13",
         "22",
         "10",
         "7",
         "8",
         "20",
         "32",
         "37",
         "23",
         "30",
         "25",
         "31",
         "40",
         "28",
         "43",
         "18",
         "10",
         "36",
         "17",
         "14",
         "15",
         "38",
         "11",
         "31",
         "32",
         "19",
         "10",
         "36",
         "41",
         "9",
         "21",
         "20",
         "25",
         "10",
         "36",
         "31",
         "24",
         "36",
         "16",
         "9",
         "11",
         "17",
         "16",
         "17",
         "53",
         "25",
         "7",
         "24",
         "19",
         "31",
         "12",
         "32",
         "21",
         "14",
         "8",
         "32",
         "26",
         "32",
         "27",
         "45",
         "33",
         "29",
         "43",
         "31",
         "55",
         "6",
         "15",
         "46",
         "21",
         "23",
         "22",
         "28",
         "17",
         "24",
         "32",
         "28",
         "7",
         "33",
         "30",
         "20",
         "27",
         "18",
         "47",
         "8",
         "38",
         "46",
         "17",
         "50",
         "21",
         "12",
         "12",
         "27",
         "24",
         "10",
         "37",
         "21",
         "9",
         "24",
         "13",
         "33",
         "8",
         "25",
         "14",
         "15",
         "9",
         "16",
         "26",
         "42",
         "14",
         "31",
         "34",
         "34",
         "29",
         "24",
         "24",
         "11",
         "14",
         "36",
         "23",
         "18",
         "19",
         "32",
         "10",
         "26",
         "40",
         "22",
         "7",
         "45",
         "40",
         "14",
         "24",
         "15",
         "27",
         "13",
         "32",
         "31",
         "15",
         "37",
         "23",
         "18",
         "8",
         "17",
         "23",
         "15",
         "29",
         "36",
         "8",
         "28",
         "12",
         "18",
         "15",
         "45",
         "24",
         "18",
         "14",
         "41",
         "51",
         "60",
         "35",
         "51",
         "50",
         "51",
         "51",
         "49",
         "83",
         "20",
         "26",
         "74",
         "36",
         "37",
         "23",
         "70",
         "36",
         "29",
         "73",
         "39",
         "14",
         "75",
         "58",
         "39",
         "43",
         "23",
         "59",
         "19",
         "42",
         "56",
         "19",
         "63",
         "27",
         "25",
         "15",
         "23",
         "36",
         "25",
         "68",
         "48",
         "18",
         "40",
         "21",
         "48",
         "22",
         "50",
         "25",
         "16",
         "13",
         "36",
         "28",
         "49",
         "30",
         "52",
         "45",
         "40",
         "56",
         "33",
         "66",
         "12",
         "20",
         "47",
         "38",
         "21",
         "20",
         "31",
         "20",
         "44",
         "61",
         "34",
         "10",
         "56",
         "55",
         "23",
         "46",
         "16",
         "39",
         "17",
         "43",
         "52",
         "12",
         "63",
         "32",
         "15",
         "13",
         "27",
         "40",
         "25",
         "48",
         "42",
         "13",
         "33",
         "16",
         "53",
         "12",
         "42",
         "22",
         "19",
         "13",
         "43",
         "46",
         "58",
         "35",
         "54",
         "31",
         "49",
         "55",
         "45",
         "72",
         "14",
         "16",
         "67",
         "30",
         "33",
         "31",
         "63",
         "25",
         "45",
         "50",
         "26",
         "14",
         "67",
         "49",
         "30",
         "35",
         "24",
         "38",
         "15",
         "59",
         "60",
         "19",
         "51",
         "46",
         "23",
         "14",
         "25",
         "31",
         "25",
         "62",
         "45",
         "16",
         "34",
         "22",
         "41"
        ]
       ],
       "shape": {
        "columns": 500,
        "rows": 5
       }
      },
      "text/html": [
       "<div>\n",
       "<style scoped>\n",
       "    .dataframe tbody tr th:only-of-type {\n",
       "        vertical-align: middle;\n",
       "    }\n",
       "\n",
       "    .dataframe tbody tr th {\n",
       "        vertical-align: top;\n",
       "    }\n",
       "\n",
       "    .dataframe thead tr th {\n",
       "        text-align: left;\n",
       "    }\n",
       "\n",
       "    .dataframe thead tr:last-of-type th {\n",
       "        text-align: right;\n",
       "    }\n",
       "</style>\n",
       "<table border=\"1\" class=\"dataframe\">\n",
       "  <thead>\n",
       "    <tr>\n",
       "      <th>store</th>\n",
       "      <th colspan=\"10\" halign=\"left\">1</th>\n",
       "      <th>...</th>\n",
       "      <th colspan=\"10\" halign=\"left\">10</th>\n",
       "    </tr>\n",
       "    <tr>\n",
       "      <th>item</th>\n",
       "      <th>1</th>\n",
       "      <th>2</th>\n",
       "      <th>3</th>\n",
       "      <th>4</th>\n",
       "      <th>5</th>\n",
       "      <th>6</th>\n",
       "      <th>7</th>\n",
       "      <th>8</th>\n",
       "      <th>9</th>\n",
       "      <th>10</th>\n",
       "      <th>...</th>\n",
       "      <th>41</th>\n",
       "      <th>42</th>\n",
       "      <th>43</th>\n",
       "      <th>44</th>\n",
       "      <th>45</th>\n",
       "      <th>46</th>\n",
       "      <th>47</th>\n",
       "      <th>48</th>\n",
       "      <th>49</th>\n",
       "      <th>50</th>\n",
       "    </tr>\n",
       "    <tr>\n",
       "      <th>date</th>\n",
       "      <th></th>\n",
       "      <th></th>\n",
       "      <th></th>\n",
       "      <th></th>\n",
       "      <th></th>\n",
       "      <th></th>\n",
       "      <th></th>\n",
       "      <th></th>\n",
       "      <th></th>\n",
       "      <th></th>\n",
       "      <th></th>\n",
       "      <th></th>\n",
       "      <th></th>\n",
       "      <th></th>\n",
       "      <th></th>\n",
       "      <th></th>\n",
       "      <th></th>\n",
       "      <th></th>\n",
       "      <th></th>\n",
       "      <th></th>\n",
       "      <th></th>\n",
       "    </tr>\n",
       "  </thead>\n",
       "  <tbody>\n",
       "    <tr>\n",
       "      <th>2013-01-01</th>\n",
       "      <td>13</td>\n",
       "      <td>33</td>\n",
       "      <td>15</td>\n",
       "      <td>10</td>\n",
       "      <td>11</td>\n",
       "      <td>31</td>\n",
       "      <td>25</td>\n",
       "      <td>33</td>\n",
       "      <td>18</td>\n",
       "      <td>37</td>\n",
       "      <td>...</td>\n",
       "      <td>12</td>\n",
       "      <td>20</td>\n",
       "      <td>24</td>\n",
       "      <td>17</td>\n",
       "      <td>45</td>\n",
       "      <td>37</td>\n",
       "      <td>11</td>\n",
       "      <td>25</td>\n",
       "      <td>17</td>\n",
       "      <td>33</td>\n",
       "    </tr>\n",
       "    <tr>\n",
       "      <th>2013-01-02</th>\n",
       "      <td>11</td>\n",
       "      <td>43</td>\n",
       "      <td>30</td>\n",
       "      <td>11</td>\n",
       "      <td>6</td>\n",
       "      <td>36</td>\n",
       "      <td>23</td>\n",
       "      <td>37</td>\n",
       "      <td>23</td>\n",
       "      <td>34</td>\n",
       "      <td>...</td>\n",
       "      <td>10</td>\n",
       "      <td>22</td>\n",
       "      <td>29</td>\n",
       "      <td>10</td>\n",
       "      <td>45</td>\n",
       "      <td>33</td>\n",
       "      <td>13</td>\n",
       "      <td>24</td>\n",
       "      <td>13</td>\n",
       "      <td>37</td>\n",
       "    </tr>\n",
       "    <tr>\n",
       "      <th>2013-01-03</th>\n",
       "      <td>14</td>\n",
       "      <td>23</td>\n",
       "      <td>14</td>\n",
       "      <td>8</td>\n",
       "      <td>8</td>\n",
       "      <td>18</td>\n",
       "      <td>34</td>\n",
       "      <td>38</td>\n",
       "      <td>25</td>\n",
       "      <td>32</td>\n",
       "      <td>...</td>\n",
       "      <td>17</td>\n",
       "      <td>27</td>\n",
       "      <td>43</td>\n",
       "      <td>20</td>\n",
       "      <td>56</td>\n",
       "      <td>28</td>\n",
       "      <td>16</td>\n",
       "      <td>29</td>\n",
       "      <td>19</td>\n",
       "      <td>46</td>\n",
       "    </tr>\n",
       "    <tr>\n",
       "      <th>2013-01-04</th>\n",
       "      <td>13</td>\n",
       "      <td>18</td>\n",
       "      <td>10</td>\n",
       "      <td>19</td>\n",
       "      <td>9</td>\n",
       "      <td>19</td>\n",
       "      <td>36</td>\n",
       "      <td>54</td>\n",
       "      <td>22</td>\n",
       "      <td>45</td>\n",
       "      <td>...</td>\n",
       "      <td>13</td>\n",
       "      <td>24</td>\n",
       "      <td>27</td>\n",
       "      <td>12</td>\n",
       "      <td>50</td>\n",
       "      <td>44</td>\n",
       "      <td>11</td>\n",
       "      <td>39</td>\n",
       "      <td>23</td>\n",
       "      <td>51</td>\n",
       "    </tr>\n",
       "    <tr>\n",
       "      <th>2013-01-05</th>\n",
       "      <td>10</td>\n",
       "      <td>34</td>\n",
       "      <td>23</td>\n",
       "      <td>12</td>\n",
       "      <td>8</td>\n",
       "      <td>31</td>\n",
       "      <td>38</td>\n",
       "      <td>51</td>\n",
       "      <td>29</td>\n",
       "      <td>35</td>\n",
       "      <td>...</td>\n",
       "      <td>14</td>\n",
       "      <td>25</td>\n",
       "      <td>31</td>\n",
       "      <td>25</td>\n",
       "      <td>62</td>\n",
       "      <td>45</td>\n",
       "      <td>16</td>\n",
       "      <td>34</td>\n",
       "      <td>22</td>\n",
       "      <td>41</td>\n",
       "    </tr>\n",
       "  </tbody>\n",
       "</table>\n",
       "<p>5 rows × 500 columns</p>\n",
       "</div>"
      ],
      "text/plain": [
       "store       1                                       ...  10                  \\\n",
       "item        1   2   3   4   5   6   7   8   9   10  ...  41  42  43  44  45   \n",
       "date                                                ...                       \n",
       "2013-01-01  13  33  15  10  11  31  25  33  18  37  ...  12  20  24  17  45   \n",
       "2013-01-02  11  43  30  11   6  36  23  37  23  34  ...  10  22  29  10  45   \n",
       "2013-01-03  14  23  14   8   8  18  34  38  25  32  ...  17  27  43  20  56   \n",
       "2013-01-04  13  18  10  19   9  19  36  54  22  45  ...  13  24  27  12  50   \n",
       "2013-01-05  10  34  23  12   8  31  38  51  29  35  ...  14  25  31  25  62   \n",
       "\n",
       "store                           \n",
       "item        46  47  48  49  50  \n",
       "date                            \n",
       "2013-01-01  37  11  25  17  33  \n",
       "2013-01-02  33  13  24  13  37  \n",
       "2013-01-03  28  16  29  19  46  \n",
       "2013-01-04  44  11  39  23  51  \n",
       "2013-01-05  45  16  34  22  41  \n",
       "\n",
       "[5 rows x 500 columns]"
      ]
     },
     "execution_count": 20,
     "metadata": {},
     "output_type": "execute_result"
    }
   ],
   "source": [
    "pivoted_sales = df_train.pivot_table(index='date', columns=['store', 'item'], values='sales', aggfunc='sum')\n",
    "\n",
    "pivoted_sales.head()"
   ]
  },
  {
   "cell_type": "markdown",
   "id": "b3bbd45a",
   "metadata": {},
   "source": [
    "## ML Models"
   ]
  },
  {
   "cell_type": "markdown",
   "id": "b656fcb3",
   "metadata": {},
   "source": [
    "### Random Forest"
   ]
  },
  {
   "cell_type": "code",
   "execution_count": null,
   "id": "382e364e",
   "metadata": {},
   "outputs": [],
   "source": [
    "X_rf = df_train.copy()"
   ]
  },
  {
   "cell_type": "code",
   "execution_count": null,
   "id": "56f1de7f",
   "metadata": {},
   "outputs": [],
   "source": [
    "y_rf = X_rf['sales']\n"
   ]
  },
  {
   "cell_type": "markdown",
   "id": "e0674b10",
   "metadata": {},
   "source": [
    "Reshaping not required for RF. Convert date to ordinal as RF doesn't understand date type - Add date related features as date is not significant when it comes to regression models"
   ]
  },
  {
   "cell_type": "code",
   "execution_count": null,
   "id": "b5ae4594",
   "metadata": {},
   "outputs": [
    {
     "data": {
      "text/plain": [
       "date     datetime64[ns]\n",
       "store             int64\n",
       "item              int64\n",
       "sales             int64\n",
       "dow               int32\n",
       "day               int32\n",
       "month             int32\n",
       "year              int32\n",
       "dtype: object"
      ]
     },
     "execution_count": 62,
     "metadata": {},
     "output_type": "execute_result"
    }
   ],
   "source": [
    "X_rf['dow'] = X_rf['date'].dt.dayofweek\n",
    "X_rf['month'] = X_rf['date'].dt.month\n",
    "X_rf['year'] = X_rf['date'].dt.year\n",
    "\n",
    "\n",
    "# Converting 'date' column to ordinal to use it as a feature\n",
    "X_rf['date'] = X_rf['date'].apply(lambda x: x.toordinal())\n",
    "\n",
    "X_rf.dtypes"
   ]
  },
  {
   "cell_type": "code",
   "execution_count": null,
   "id": "8b1ef8e6",
   "metadata": {},
   "outputs": [],
   "source": [
    "# Dropping the 'sales' column from features\n",
    "X_rf = X_rf.drop(columns=['sales'])"
   ]
  },
  {
   "cell_type": "code",
   "execution_count": null,
   "id": "babf5ea5",
   "metadata": {},
   "outputs": [],
   "source": [
    "# Splitting the data into training and testing sets\n",
    "X_train_rf, X_test_rf, y_train_rf, y_test_rf = train_test_split(X_rf, y_rf, test_size=0.2, random_state=42)"
   ]
  },
  {
   "cell_type": "code",
   "execution_count": null,
   "id": "c5145503",
   "metadata": {},
   "outputs": [],
   "source": [
    "#Model\n",
    "rf_model = RandomForestRegressor(n_estimators=100,\n",
    "                                 max_depth=10,\n",
    "                                 min_samples_split=2,\n",
    "                                 min_samples_leaf=1)"
   ]
  },
  {
   "cell_type": "code",
   "execution_count": null,
   "id": "0884ea91",
   "metadata": {},
   "outputs": [
    {
     "data": {
      "text/html": [
       "<style>#sk-container-id-2 {\n",
       "  /* Definition of color scheme common for light and dark mode */\n",
       "  --sklearn-color-text: black;\n",
       "  --sklearn-color-line: gray;\n",
       "  /* Definition of color scheme for unfitted estimators */\n",
       "  --sklearn-color-unfitted-level-0: #fff5e6;\n",
       "  --sklearn-color-unfitted-level-1: #f6e4d2;\n",
       "  --sklearn-color-unfitted-level-2: #ffe0b3;\n",
       "  --sklearn-color-unfitted-level-3: chocolate;\n",
       "  /* Definition of color scheme for fitted estimators */\n",
       "  --sklearn-color-fitted-level-0: #f0f8ff;\n",
       "  --sklearn-color-fitted-level-1: #d4ebff;\n",
       "  --sklearn-color-fitted-level-2: #b3dbfd;\n",
       "  --sklearn-color-fitted-level-3: cornflowerblue;\n",
       "\n",
       "  /* Specific color for light theme */\n",
       "  --sklearn-color-text-on-default-background: var(--sg-text-color, var(--theme-code-foreground, var(--jp-content-font-color1, black)));\n",
       "  --sklearn-color-background: var(--sg-background-color, var(--theme-background, var(--jp-layout-color0, white)));\n",
       "  --sklearn-color-border-box: var(--sg-text-color, var(--theme-code-foreground, var(--jp-content-font-color1, black)));\n",
       "  --sklearn-color-icon: #696969;\n",
       "\n",
       "  @media (prefers-color-scheme: dark) {\n",
       "    /* Redefinition of color scheme for dark theme */\n",
       "    --sklearn-color-text-on-default-background: var(--sg-text-color, var(--theme-code-foreground, var(--jp-content-font-color1, white)));\n",
       "    --sklearn-color-background: var(--sg-background-color, var(--theme-background, var(--jp-layout-color0, #111)));\n",
       "    --sklearn-color-border-box: var(--sg-text-color, var(--theme-code-foreground, var(--jp-content-font-color1, white)));\n",
       "    --sklearn-color-icon: #878787;\n",
       "  }\n",
       "}\n",
       "\n",
       "#sk-container-id-2 {\n",
       "  color: var(--sklearn-color-text);\n",
       "}\n",
       "\n",
       "#sk-container-id-2 pre {\n",
       "  padding: 0;\n",
       "}\n",
       "\n",
       "#sk-container-id-2 input.sk-hidden--visually {\n",
       "  border: 0;\n",
       "  clip: rect(1px 1px 1px 1px);\n",
       "  clip: rect(1px, 1px, 1px, 1px);\n",
       "  height: 1px;\n",
       "  margin: -1px;\n",
       "  overflow: hidden;\n",
       "  padding: 0;\n",
       "  position: absolute;\n",
       "  width: 1px;\n",
       "}\n",
       "\n",
       "#sk-container-id-2 div.sk-dashed-wrapped {\n",
       "  border: 1px dashed var(--sklearn-color-line);\n",
       "  margin: 0 0.4em 0.5em 0.4em;\n",
       "  box-sizing: border-box;\n",
       "  padding-bottom: 0.4em;\n",
       "  background-color: var(--sklearn-color-background);\n",
       "}\n",
       "\n",
       "#sk-container-id-2 div.sk-container {\n",
       "  /* jupyter's `normalize.less` sets `[hidden] { display: none; }`\n",
       "     but bootstrap.min.css set `[hidden] { display: none !important; }`\n",
       "     so we also need the `!important` here to be able to override the\n",
       "     default hidden behavior on the sphinx rendered scikit-learn.org.\n",
       "     See: https://github.com/scikit-learn/scikit-learn/issues/21755 */\n",
       "  display: inline-block !important;\n",
       "  position: relative;\n",
       "}\n",
       "\n",
       "#sk-container-id-2 div.sk-text-repr-fallback {\n",
       "  display: none;\n",
       "}\n",
       "\n",
       "div.sk-parallel-item,\n",
       "div.sk-serial,\n",
       "div.sk-item {\n",
       "  /* draw centered vertical line to link estimators */\n",
       "  background-image: linear-gradient(var(--sklearn-color-text-on-default-background), var(--sklearn-color-text-on-default-background));\n",
       "  background-size: 2px 100%;\n",
       "  background-repeat: no-repeat;\n",
       "  background-position: center center;\n",
       "}\n",
       "\n",
       "/* Parallel-specific style estimator block */\n",
       "\n",
       "#sk-container-id-2 div.sk-parallel-item::after {\n",
       "  content: \"\";\n",
       "  width: 100%;\n",
       "  border-bottom: 2px solid var(--sklearn-color-text-on-default-background);\n",
       "  flex-grow: 1;\n",
       "}\n",
       "\n",
       "#sk-container-id-2 div.sk-parallel {\n",
       "  display: flex;\n",
       "  align-items: stretch;\n",
       "  justify-content: center;\n",
       "  background-color: var(--sklearn-color-background);\n",
       "  position: relative;\n",
       "}\n",
       "\n",
       "#sk-container-id-2 div.sk-parallel-item {\n",
       "  display: flex;\n",
       "  flex-direction: column;\n",
       "}\n",
       "\n",
       "#sk-container-id-2 div.sk-parallel-item:first-child::after {\n",
       "  align-self: flex-end;\n",
       "  width: 50%;\n",
       "}\n",
       "\n",
       "#sk-container-id-2 div.sk-parallel-item:last-child::after {\n",
       "  align-self: flex-start;\n",
       "  width: 50%;\n",
       "}\n",
       "\n",
       "#sk-container-id-2 div.sk-parallel-item:only-child::after {\n",
       "  width: 0;\n",
       "}\n",
       "\n",
       "/* Serial-specific style estimator block */\n",
       "\n",
       "#sk-container-id-2 div.sk-serial {\n",
       "  display: flex;\n",
       "  flex-direction: column;\n",
       "  align-items: center;\n",
       "  background-color: var(--sklearn-color-background);\n",
       "  padding-right: 1em;\n",
       "  padding-left: 1em;\n",
       "}\n",
       "\n",
       "\n",
       "/* Toggleable style: style used for estimator/Pipeline/ColumnTransformer box that is\n",
       "clickable and can be expanded/collapsed.\n",
       "- Pipeline and ColumnTransformer use this feature and define the default style\n",
       "- Estimators will overwrite some part of the style using the `sk-estimator` class\n",
       "*/\n",
       "\n",
       "/* Pipeline and ColumnTransformer style (default) */\n",
       "\n",
       "#sk-container-id-2 div.sk-toggleable {\n",
       "  /* Default theme specific background. It is overwritten whether we have a\n",
       "  specific estimator or a Pipeline/ColumnTransformer */\n",
       "  background-color: var(--sklearn-color-background);\n",
       "}\n",
       "\n",
       "/* Toggleable label */\n",
       "#sk-container-id-2 label.sk-toggleable__label {\n",
       "  cursor: pointer;\n",
       "  display: block;\n",
       "  width: 100%;\n",
       "  margin-bottom: 0;\n",
       "  padding: 0.5em;\n",
       "  box-sizing: border-box;\n",
       "  text-align: center;\n",
       "}\n",
       "\n",
       "#sk-container-id-2 label.sk-toggleable__label-arrow:before {\n",
       "  /* Arrow on the left of the label */\n",
       "  content: \"▸\";\n",
       "  float: left;\n",
       "  margin-right: 0.25em;\n",
       "  color: var(--sklearn-color-icon);\n",
       "}\n",
       "\n",
       "#sk-container-id-2 label.sk-toggleable__label-arrow:hover:before {\n",
       "  color: var(--sklearn-color-text);\n",
       "}\n",
       "\n",
       "/* Toggleable content - dropdown */\n",
       "\n",
       "#sk-container-id-2 div.sk-toggleable__content {\n",
       "  max-height: 0;\n",
       "  max-width: 0;\n",
       "  overflow: hidden;\n",
       "  text-align: left;\n",
       "  /* unfitted */\n",
       "  background-color: var(--sklearn-color-unfitted-level-0);\n",
       "}\n",
       "\n",
       "#sk-container-id-2 div.sk-toggleable__content.fitted {\n",
       "  /* fitted */\n",
       "  background-color: var(--sklearn-color-fitted-level-0);\n",
       "}\n",
       "\n",
       "#sk-container-id-2 div.sk-toggleable__content pre {\n",
       "  margin: 0.2em;\n",
       "  border-radius: 0.25em;\n",
       "  color: var(--sklearn-color-text);\n",
       "  /* unfitted */\n",
       "  background-color: var(--sklearn-color-unfitted-level-0);\n",
       "}\n",
       "\n",
       "#sk-container-id-2 div.sk-toggleable__content.fitted pre {\n",
       "  /* unfitted */\n",
       "  background-color: var(--sklearn-color-fitted-level-0);\n",
       "}\n",
       "\n",
       "#sk-container-id-2 input.sk-toggleable__control:checked~div.sk-toggleable__content {\n",
       "  /* Expand drop-down */\n",
       "  max-height: 200px;\n",
       "  max-width: 100%;\n",
       "  overflow: auto;\n",
       "}\n",
       "\n",
       "#sk-container-id-2 input.sk-toggleable__control:checked~label.sk-toggleable__label-arrow:before {\n",
       "  content: \"▾\";\n",
       "}\n",
       "\n",
       "/* Pipeline/ColumnTransformer-specific style */\n",
       "\n",
       "#sk-container-id-2 div.sk-label input.sk-toggleable__control:checked~label.sk-toggleable__label {\n",
       "  color: var(--sklearn-color-text);\n",
       "  background-color: var(--sklearn-color-unfitted-level-2);\n",
       "}\n",
       "\n",
       "#sk-container-id-2 div.sk-label.fitted input.sk-toggleable__control:checked~label.sk-toggleable__label {\n",
       "  background-color: var(--sklearn-color-fitted-level-2);\n",
       "}\n",
       "\n",
       "/* Estimator-specific style */\n",
       "\n",
       "/* Colorize estimator box */\n",
       "#sk-container-id-2 div.sk-estimator input.sk-toggleable__control:checked~label.sk-toggleable__label {\n",
       "  /* unfitted */\n",
       "  background-color: var(--sklearn-color-unfitted-level-2);\n",
       "}\n",
       "\n",
       "#sk-container-id-2 div.sk-estimator.fitted input.sk-toggleable__control:checked~label.sk-toggleable__label {\n",
       "  /* fitted */\n",
       "  background-color: var(--sklearn-color-fitted-level-2);\n",
       "}\n",
       "\n",
       "#sk-container-id-2 div.sk-label label.sk-toggleable__label,\n",
       "#sk-container-id-2 div.sk-label label {\n",
       "  /* The background is the default theme color */\n",
       "  color: var(--sklearn-color-text-on-default-background);\n",
       "}\n",
       "\n",
       "/* On hover, darken the color of the background */\n",
       "#sk-container-id-2 div.sk-label:hover label.sk-toggleable__label {\n",
       "  color: var(--sklearn-color-text);\n",
       "  background-color: var(--sklearn-color-unfitted-level-2);\n",
       "}\n",
       "\n",
       "/* Label box, darken color on hover, fitted */\n",
       "#sk-container-id-2 div.sk-label.fitted:hover label.sk-toggleable__label.fitted {\n",
       "  color: var(--sklearn-color-text);\n",
       "  background-color: var(--sklearn-color-fitted-level-2);\n",
       "}\n",
       "\n",
       "/* Estimator label */\n",
       "\n",
       "#sk-container-id-2 div.sk-label label {\n",
       "  font-family: monospace;\n",
       "  font-weight: bold;\n",
       "  display: inline-block;\n",
       "  line-height: 1.2em;\n",
       "}\n",
       "\n",
       "#sk-container-id-2 div.sk-label-container {\n",
       "  text-align: center;\n",
       "}\n",
       "\n",
       "/* Estimator-specific */\n",
       "#sk-container-id-2 div.sk-estimator {\n",
       "  font-family: monospace;\n",
       "  border: 1px dotted var(--sklearn-color-border-box);\n",
       "  border-radius: 0.25em;\n",
       "  box-sizing: border-box;\n",
       "  margin-bottom: 0.5em;\n",
       "  /* unfitted */\n",
       "  background-color: var(--sklearn-color-unfitted-level-0);\n",
       "}\n",
       "\n",
       "#sk-container-id-2 div.sk-estimator.fitted {\n",
       "  /* fitted */\n",
       "  background-color: var(--sklearn-color-fitted-level-0);\n",
       "}\n",
       "\n",
       "/* on hover */\n",
       "#sk-container-id-2 div.sk-estimator:hover {\n",
       "  /* unfitted */\n",
       "  background-color: var(--sklearn-color-unfitted-level-2);\n",
       "}\n",
       "\n",
       "#sk-container-id-2 div.sk-estimator.fitted:hover {\n",
       "  /* fitted */\n",
       "  background-color: var(--sklearn-color-fitted-level-2);\n",
       "}\n",
       "\n",
       "/* Specification for estimator info (e.g. \"i\" and \"?\") */\n",
       "\n",
       "/* Common style for \"i\" and \"?\" */\n",
       "\n",
       ".sk-estimator-doc-link,\n",
       "a:link.sk-estimator-doc-link,\n",
       "a:visited.sk-estimator-doc-link {\n",
       "  float: right;\n",
       "  font-size: smaller;\n",
       "  line-height: 1em;\n",
       "  font-family: monospace;\n",
       "  background-color: var(--sklearn-color-background);\n",
       "  border-radius: 1em;\n",
       "  height: 1em;\n",
       "  width: 1em;\n",
       "  text-decoration: none !important;\n",
       "  margin-left: 1ex;\n",
       "  /* unfitted */\n",
       "  border: var(--sklearn-color-unfitted-level-1) 1pt solid;\n",
       "  color: var(--sklearn-color-unfitted-level-1);\n",
       "}\n",
       "\n",
       ".sk-estimator-doc-link.fitted,\n",
       "a:link.sk-estimator-doc-link.fitted,\n",
       "a:visited.sk-estimator-doc-link.fitted {\n",
       "  /* fitted */\n",
       "  border: var(--sklearn-color-fitted-level-1) 1pt solid;\n",
       "  color: var(--sklearn-color-fitted-level-1);\n",
       "}\n",
       "\n",
       "/* On hover */\n",
       "div.sk-estimator:hover .sk-estimator-doc-link:hover,\n",
       ".sk-estimator-doc-link:hover,\n",
       "div.sk-label-container:hover .sk-estimator-doc-link:hover,\n",
       ".sk-estimator-doc-link:hover {\n",
       "  /* unfitted */\n",
       "  background-color: var(--sklearn-color-unfitted-level-3);\n",
       "  color: var(--sklearn-color-background);\n",
       "  text-decoration: none;\n",
       "}\n",
       "\n",
       "div.sk-estimator.fitted:hover .sk-estimator-doc-link.fitted:hover,\n",
       ".sk-estimator-doc-link.fitted:hover,\n",
       "div.sk-label-container:hover .sk-estimator-doc-link.fitted:hover,\n",
       ".sk-estimator-doc-link.fitted:hover {\n",
       "  /* fitted */\n",
       "  background-color: var(--sklearn-color-fitted-level-3);\n",
       "  color: var(--sklearn-color-background);\n",
       "  text-decoration: none;\n",
       "}\n",
       "\n",
       "/* Span, style for the box shown on hovering the info icon */\n",
       ".sk-estimator-doc-link span {\n",
       "  display: none;\n",
       "  z-index: 9999;\n",
       "  position: relative;\n",
       "  font-weight: normal;\n",
       "  right: .2ex;\n",
       "  padding: .5ex;\n",
       "  margin: .5ex;\n",
       "  width: min-content;\n",
       "  min-width: 20ex;\n",
       "  max-width: 50ex;\n",
       "  color: var(--sklearn-color-text);\n",
       "  box-shadow: 2pt 2pt 4pt #999;\n",
       "  /* unfitted */\n",
       "  background: var(--sklearn-color-unfitted-level-0);\n",
       "  border: .5pt solid var(--sklearn-color-unfitted-level-3);\n",
       "}\n",
       "\n",
       ".sk-estimator-doc-link.fitted span {\n",
       "  /* fitted */\n",
       "  background: var(--sklearn-color-fitted-level-0);\n",
       "  border: var(--sklearn-color-fitted-level-3);\n",
       "}\n",
       "\n",
       ".sk-estimator-doc-link:hover span {\n",
       "  display: block;\n",
       "}\n",
       "\n",
       "/* \"?\"-specific style due to the `<a>` HTML tag */\n",
       "\n",
       "#sk-container-id-2 a.estimator_doc_link {\n",
       "  float: right;\n",
       "  font-size: 1rem;\n",
       "  line-height: 1em;\n",
       "  font-family: monospace;\n",
       "  background-color: var(--sklearn-color-background);\n",
       "  border-radius: 1rem;\n",
       "  height: 1rem;\n",
       "  width: 1rem;\n",
       "  text-decoration: none;\n",
       "  /* unfitted */\n",
       "  color: var(--sklearn-color-unfitted-level-1);\n",
       "  border: var(--sklearn-color-unfitted-level-1) 1pt solid;\n",
       "}\n",
       "\n",
       "#sk-container-id-2 a.estimator_doc_link.fitted {\n",
       "  /* fitted */\n",
       "  border: var(--sklearn-color-fitted-level-1) 1pt solid;\n",
       "  color: var(--sklearn-color-fitted-level-1);\n",
       "}\n",
       "\n",
       "/* On hover */\n",
       "#sk-container-id-2 a.estimator_doc_link:hover {\n",
       "  /* unfitted */\n",
       "  background-color: var(--sklearn-color-unfitted-level-3);\n",
       "  color: var(--sklearn-color-background);\n",
       "  text-decoration: none;\n",
       "}\n",
       "\n",
       "#sk-container-id-2 a.estimator_doc_link.fitted:hover {\n",
       "  /* fitted */\n",
       "  background-color: var(--sklearn-color-fitted-level-3);\n",
       "}\n",
       "</style><div id=\"sk-container-id-2\" class=\"sk-top-container\"><div class=\"sk-text-repr-fallback\"><pre>RandomForestRegressor(max_depth=10)</pre><b>In a Jupyter environment, please rerun this cell to show the HTML representation or trust the notebook. <br />On GitHub, the HTML representation is unable to render, please try loading this page with nbviewer.org.</b></div><div class=\"sk-container\" hidden><div class=\"sk-item\"><div class=\"sk-estimator fitted sk-toggleable\"><input class=\"sk-toggleable__control sk-hidden--visually\" id=\"sk-estimator-id-2\" type=\"checkbox\" checked><label for=\"sk-estimator-id-2\" class=\"sk-toggleable__label fitted sk-toggleable__label-arrow fitted\">&nbsp;&nbsp;RandomForestRegressor<a class=\"sk-estimator-doc-link fitted\" rel=\"noreferrer\" target=\"_blank\" href=\"https://scikit-learn.org/1.4/modules/generated/sklearn.ensemble.RandomForestRegressor.html\">?<span>Documentation for RandomForestRegressor</span></a><span class=\"sk-estimator-doc-link fitted\">i<span>Fitted</span></span></label><div class=\"sk-toggleable__content fitted\"><pre>RandomForestRegressor(max_depth=10)</pre></div> </div></div></div></div>"
      ],
      "text/plain": [
       "RandomForestRegressor(max_depth=10)"
      ]
     },
     "execution_count": 53,
     "metadata": {},
     "output_type": "execute_result"
    }
   ],
   "source": [
    "#RF Modeling fitting\n",
    "rf_model.fit(X_train_rf,y_train_rf)"
   ]
  },
  {
   "cell_type": "code",
   "execution_count": null,
   "id": "55b602b1",
   "metadata": {},
   "outputs": [
    {
     "name": "stdout",
     "output_type": "stream",
     "text": [
      "Mean Squared Error on Training Set: 358.8411262099781\n"
     ]
    }
   ],
   "source": [
    "#predicting on training set\n",
    "y_train_pred_rf = rf_model.predict(X_train_rf)\n",
    "\n",
    "# Calculating Mean Squared Error on training set\n",
    "mse_rf_train = mean_squared_error(y_train_rf, y_train_pred_rf)\n",
    "print(\"Mean Squared Error on Training Set:\", mse_rf_train)"
   ]
  },
  {
   "cell_type": "code",
   "execution_count": null,
   "id": "f8a1e40f",
   "metadata": {},
   "outputs": [
    {
     "name": "stdout",
     "output_type": "stream",
     "text": [
      "Mean Squared Error on Testing Set: 357.40317904439235\n"
     ]
    }
   ],
   "source": [
    "#predicting on testing set\n",
    "y_test_pred_rf = rf_model.predict(X_test_rf)\n",
    "\n",
    "# Calculating Mean Squared Error on testing set\n",
    "mse_rf_test = mean_squared_error(y_test_rf, y_test_pred_rf)\n",
    "print(\"Mean Squared Error on Testing Set:\", mse_rf_test)"
   ]
  },
  {
   "cell_type": "markdown",
   "id": "8eaf321b",
   "metadata": {},
   "source": [
    "### XGBoost"
   ]
  },
  {
   "cell_type": "code",
   "execution_count": null,
   "id": "70b2e1c0",
   "metadata": {},
   "outputs": [],
   "source": [
    "X_xgb = df_train.copy()"
   ]
  },
  {
   "cell_type": "code",
   "execution_count": null,
   "id": "0d46ee21",
   "metadata": {},
   "outputs": [],
   "source": [
    "y_xgb = X_xgb['sales']"
   ]
  },
  {
   "cell_type": "code",
   "execution_count": null,
   "id": "1dab9a39",
   "metadata": {},
   "outputs": [
    {
     "data": {
      "text/plain": [
       "date     datetime64[ns]\n",
       "store             int64\n",
       "item              int64\n",
       "sales             int64\n",
       "dow               int32\n",
       "day               int32\n",
       "month             int32\n",
       "year              int32\n",
       "dtype: object"
      ]
     },
     "execution_count": 104,
     "metadata": {},
     "output_type": "execute_result"
    }
   ],
   "source": [
    "X_xgb['dow'] = X_xgb['date'].dt.dayofweek\n",
    "X_xgb['day'] = X_xgb['date'].dt.day\n",
    "X_xgb['month'] = X_xgb['date'].dt.month\n",
    "X_xgb['year'] = X_xgb['date'].dt.year\n",
    "\n",
    "X_xgb.dtypes"
   ]
  },
  {
   "cell_type": "code",
   "execution_count": null,
   "id": "b585612a",
   "metadata": {},
   "outputs": [],
   "source": [
    "X_xgb = X_xgb.drop(columns=['sales', 'date'])"
   ]
  },
  {
   "cell_type": "code",
   "execution_count": null,
   "id": "efe63b03",
   "metadata": {},
   "outputs": [],
   "source": [
    "# Splitting the data into training and testing sets\n",
    "X_train_xgb, X_test_xgb, y_train_xgb, y_test_xgb = train_test_split(X_xgb, y_xgb, test_size=0.2, random_state=42)"
   ]
  },
  {
   "cell_type": "code",
   "execution_count": null,
   "id": "b834fd30",
   "metadata": {},
   "outputs": [],
   "source": [
    "xg_model = xgb.XGBRegressor(n_estimator=100,learning_rate=0.08, gamma=0, subsample=0.75, colsample_bytree=1, max_depth=7, booster='gbtree')"
   ]
  },
  {
   "cell_type": "code",
   "execution_count": null,
   "id": "e1f294f6",
   "metadata": {},
   "outputs": [
    {
     "data": {
      "text/html": [
       "<style>#sk-container-id-7 {\n",
       "  /* Definition of color scheme common for light and dark mode */\n",
       "  --sklearn-color-text: black;\n",
       "  --sklearn-color-line: gray;\n",
       "  /* Definition of color scheme for unfitted estimators */\n",
       "  --sklearn-color-unfitted-level-0: #fff5e6;\n",
       "  --sklearn-color-unfitted-level-1: #f6e4d2;\n",
       "  --sklearn-color-unfitted-level-2: #ffe0b3;\n",
       "  --sklearn-color-unfitted-level-3: chocolate;\n",
       "  /* Definition of color scheme for fitted estimators */\n",
       "  --sklearn-color-fitted-level-0: #f0f8ff;\n",
       "  --sklearn-color-fitted-level-1: #d4ebff;\n",
       "  --sklearn-color-fitted-level-2: #b3dbfd;\n",
       "  --sklearn-color-fitted-level-3: cornflowerblue;\n",
       "\n",
       "  /* Specific color for light theme */\n",
       "  --sklearn-color-text-on-default-background: var(--sg-text-color, var(--theme-code-foreground, var(--jp-content-font-color1, black)));\n",
       "  --sklearn-color-background: var(--sg-background-color, var(--theme-background, var(--jp-layout-color0, white)));\n",
       "  --sklearn-color-border-box: var(--sg-text-color, var(--theme-code-foreground, var(--jp-content-font-color1, black)));\n",
       "  --sklearn-color-icon: #696969;\n",
       "\n",
       "  @media (prefers-color-scheme: dark) {\n",
       "    /* Redefinition of color scheme for dark theme */\n",
       "    --sklearn-color-text-on-default-background: var(--sg-text-color, var(--theme-code-foreground, var(--jp-content-font-color1, white)));\n",
       "    --sklearn-color-background: var(--sg-background-color, var(--theme-background, var(--jp-layout-color0, #111)));\n",
       "    --sklearn-color-border-box: var(--sg-text-color, var(--theme-code-foreground, var(--jp-content-font-color1, white)));\n",
       "    --sklearn-color-icon: #878787;\n",
       "  }\n",
       "}\n",
       "\n",
       "#sk-container-id-7 {\n",
       "  color: var(--sklearn-color-text);\n",
       "}\n",
       "\n",
       "#sk-container-id-7 pre {\n",
       "  padding: 0;\n",
       "}\n",
       "\n",
       "#sk-container-id-7 input.sk-hidden--visually {\n",
       "  border: 0;\n",
       "  clip: rect(1px 1px 1px 1px);\n",
       "  clip: rect(1px, 1px, 1px, 1px);\n",
       "  height: 1px;\n",
       "  margin: -1px;\n",
       "  overflow: hidden;\n",
       "  padding: 0;\n",
       "  position: absolute;\n",
       "  width: 1px;\n",
       "}\n",
       "\n",
       "#sk-container-id-7 div.sk-dashed-wrapped {\n",
       "  border: 1px dashed var(--sklearn-color-line);\n",
       "  margin: 0 0.4em 0.5em 0.4em;\n",
       "  box-sizing: border-box;\n",
       "  padding-bottom: 0.4em;\n",
       "  background-color: var(--sklearn-color-background);\n",
       "}\n",
       "\n",
       "#sk-container-id-7 div.sk-container {\n",
       "  /* jupyter's `normalize.less` sets `[hidden] { display: none; }`\n",
       "     but bootstrap.min.css set `[hidden] { display: none !important; }`\n",
       "     so we also need the `!important` here to be able to override the\n",
       "     default hidden behavior on the sphinx rendered scikit-learn.org.\n",
       "     See: https://github.com/scikit-learn/scikit-learn/issues/21755 */\n",
       "  display: inline-block !important;\n",
       "  position: relative;\n",
       "}\n",
       "\n",
       "#sk-container-id-7 div.sk-text-repr-fallback {\n",
       "  display: none;\n",
       "}\n",
       "\n",
       "div.sk-parallel-item,\n",
       "div.sk-serial,\n",
       "div.sk-item {\n",
       "  /* draw centered vertical line to link estimators */\n",
       "  background-image: linear-gradient(var(--sklearn-color-text-on-default-background), var(--sklearn-color-text-on-default-background));\n",
       "  background-size: 2px 100%;\n",
       "  background-repeat: no-repeat;\n",
       "  background-position: center center;\n",
       "}\n",
       "\n",
       "/* Parallel-specific style estimator block */\n",
       "\n",
       "#sk-container-id-7 div.sk-parallel-item::after {\n",
       "  content: \"\";\n",
       "  width: 100%;\n",
       "  border-bottom: 2px solid var(--sklearn-color-text-on-default-background);\n",
       "  flex-grow: 1;\n",
       "}\n",
       "\n",
       "#sk-container-id-7 div.sk-parallel {\n",
       "  display: flex;\n",
       "  align-items: stretch;\n",
       "  justify-content: center;\n",
       "  background-color: var(--sklearn-color-background);\n",
       "  position: relative;\n",
       "}\n",
       "\n",
       "#sk-container-id-7 div.sk-parallel-item {\n",
       "  display: flex;\n",
       "  flex-direction: column;\n",
       "}\n",
       "\n",
       "#sk-container-id-7 div.sk-parallel-item:first-child::after {\n",
       "  align-self: flex-end;\n",
       "  width: 50%;\n",
       "}\n",
       "\n",
       "#sk-container-id-7 div.sk-parallel-item:last-child::after {\n",
       "  align-self: flex-start;\n",
       "  width: 50%;\n",
       "}\n",
       "\n",
       "#sk-container-id-7 div.sk-parallel-item:only-child::after {\n",
       "  width: 0;\n",
       "}\n",
       "\n",
       "/* Serial-specific style estimator block */\n",
       "\n",
       "#sk-container-id-7 div.sk-serial {\n",
       "  display: flex;\n",
       "  flex-direction: column;\n",
       "  align-items: center;\n",
       "  background-color: var(--sklearn-color-background);\n",
       "  padding-right: 1em;\n",
       "  padding-left: 1em;\n",
       "}\n",
       "\n",
       "\n",
       "/* Toggleable style: style used for estimator/Pipeline/ColumnTransformer box that is\n",
       "clickable and can be expanded/collapsed.\n",
       "- Pipeline and ColumnTransformer use this feature and define the default style\n",
       "- Estimators will overwrite some part of the style using the `sk-estimator` class\n",
       "*/\n",
       "\n",
       "/* Pipeline and ColumnTransformer style (default) */\n",
       "\n",
       "#sk-container-id-7 div.sk-toggleable {\n",
       "  /* Default theme specific background. It is overwritten whether we have a\n",
       "  specific estimator or a Pipeline/ColumnTransformer */\n",
       "  background-color: var(--sklearn-color-background);\n",
       "}\n",
       "\n",
       "/* Toggleable label */\n",
       "#sk-container-id-7 label.sk-toggleable__label {\n",
       "  cursor: pointer;\n",
       "  display: block;\n",
       "  width: 100%;\n",
       "  margin-bottom: 0;\n",
       "  padding: 0.5em;\n",
       "  box-sizing: border-box;\n",
       "  text-align: center;\n",
       "}\n",
       "\n",
       "#sk-container-id-7 label.sk-toggleable__label-arrow:before {\n",
       "  /* Arrow on the left of the label */\n",
       "  content: \"▸\";\n",
       "  float: left;\n",
       "  margin-right: 0.25em;\n",
       "  color: var(--sklearn-color-icon);\n",
       "}\n",
       "\n",
       "#sk-container-id-7 label.sk-toggleable__label-arrow:hover:before {\n",
       "  color: var(--sklearn-color-text);\n",
       "}\n",
       "\n",
       "/* Toggleable content - dropdown */\n",
       "\n",
       "#sk-container-id-7 div.sk-toggleable__content {\n",
       "  max-height: 0;\n",
       "  max-width: 0;\n",
       "  overflow: hidden;\n",
       "  text-align: left;\n",
       "  /* unfitted */\n",
       "  background-color: var(--sklearn-color-unfitted-level-0);\n",
       "}\n",
       "\n",
       "#sk-container-id-7 div.sk-toggleable__content.fitted {\n",
       "  /* fitted */\n",
       "  background-color: var(--sklearn-color-fitted-level-0);\n",
       "}\n",
       "\n",
       "#sk-container-id-7 div.sk-toggleable__content pre {\n",
       "  margin: 0.2em;\n",
       "  border-radius: 0.25em;\n",
       "  color: var(--sklearn-color-text);\n",
       "  /* unfitted */\n",
       "  background-color: var(--sklearn-color-unfitted-level-0);\n",
       "}\n",
       "\n",
       "#sk-container-id-7 div.sk-toggleable__content.fitted pre {\n",
       "  /* unfitted */\n",
       "  background-color: var(--sklearn-color-fitted-level-0);\n",
       "}\n",
       "\n",
       "#sk-container-id-7 input.sk-toggleable__control:checked~div.sk-toggleable__content {\n",
       "  /* Expand drop-down */\n",
       "  max-height: 200px;\n",
       "  max-width: 100%;\n",
       "  overflow: auto;\n",
       "}\n",
       "\n",
       "#sk-container-id-7 input.sk-toggleable__control:checked~label.sk-toggleable__label-arrow:before {\n",
       "  content: \"▾\";\n",
       "}\n",
       "\n",
       "/* Pipeline/ColumnTransformer-specific style */\n",
       "\n",
       "#sk-container-id-7 div.sk-label input.sk-toggleable__control:checked~label.sk-toggleable__label {\n",
       "  color: var(--sklearn-color-text);\n",
       "  background-color: var(--sklearn-color-unfitted-level-2);\n",
       "}\n",
       "\n",
       "#sk-container-id-7 div.sk-label.fitted input.sk-toggleable__control:checked~label.sk-toggleable__label {\n",
       "  background-color: var(--sklearn-color-fitted-level-2);\n",
       "}\n",
       "\n",
       "/* Estimator-specific style */\n",
       "\n",
       "/* Colorize estimator box */\n",
       "#sk-container-id-7 div.sk-estimator input.sk-toggleable__control:checked~label.sk-toggleable__label {\n",
       "  /* unfitted */\n",
       "  background-color: var(--sklearn-color-unfitted-level-2);\n",
       "}\n",
       "\n",
       "#sk-container-id-7 div.sk-estimator.fitted input.sk-toggleable__control:checked~label.sk-toggleable__label {\n",
       "  /* fitted */\n",
       "  background-color: var(--sklearn-color-fitted-level-2);\n",
       "}\n",
       "\n",
       "#sk-container-id-7 div.sk-label label.sk-toggleable__label,\n",
       "#sk-container-id-7 div.sk-label label {\n",
       "  /* The background is the default theme color */\n",
       "  color: var(--sklearn-color-text-on-default-background);\n",
       "}\n",
       "\n",
       "/* On hover, darken the color of the background */\n",
       "#sk-container-id-7 div.sk-label:hover label.sk-toggleable__label {\n",
       "  color: var(--sklearn-color-text);\n",
       "  background-color: var(--sklearn-color-unfitted-level-2);\n",
       "}\n",
       "\n",
       "/* Label box, darken color on hover, fitted */\n",
       "#sk-container-id-7 div.sk-label.fitted:hover label.sk-toggleable__label.fitted {\n",
       "  color: var(--sklearn-color-text);\n",
       "  background-color: var(--sklearn-color-fitted-level-2);\n",
       "}\n",
       "\n",
       "/* Estimator label */\n",
       "\n",
       "#sk-container-id-7 div.sk-label label {\n",
       "  font-family: monospace;\n",
       "  font-weight: bold;\n",
       "  display: inline-block;\n",
       "  line-height: 1.2em;\n",
       "}\n",
       "\n",
       "#sk-container-id-7 div.sk-label-container {\n",
       "  text-align: center;\n",
       "}\n",
       "\n",
       "/* Estimator-specific */\n",
       "#sk-container-id-7 div.sk-estimator {\n",
       "  font-family: monospace;\n",
       "  border: 1px dotted var(--sklearn-color-border-box);\n",
       "  border-radius: 0.25em;\n",
       "  box-sizing: border-box;\n",
       "  margin-bottom: 0.5em;\n",
       "  /* unfitted */\n",
       "  background-color: var(--sklearn-color-unfitted-level-0);\n",
       "}\n",
       "\n",
       "#sk-container-id-7 div.sk-estimator.fitted {\n",
       "  /* fitted */\n",
       "  background-color: var(--sklearn-color-fitted-level-0);\n",
       "}\n",
       "\n",
       "/* on hover */\n",
       "#sk-container-id-7 div.sk-estimator:hover {\n",
       "  /* unfitted */\n",
       "  background-color: var(--sklearn-color-unfitted-level-2);\n",
       "}\n",
       "\n",
       "#sk-container-id-7 div.sk-estimator.fitted:hover {\n",
       "  /* fitted */\n",
       "  background-color: var(--sklearn-color-fitted-level-2);\n",
       "}\n",
       "\n",
       "/* Specification for estimator info (e.g. \"i\" and \"?\") */\n",
       "\n",
       "/* Common style for \"i\" and \"?\" */\n",
       "\n",
       ".sk-estimator-doc-link,\n",
       "a:link.sk-estimator-doc-link,\n",
       "a:visited.sk-estimator-doc-link {\n",
       "  float: right;\n",
       "  font-size: smaller;\n",
       "  line-height: 1em;\n",
       "  font-family: monospace;\n",
       "  background-color: var(--sklearn-color-background);\n",
       "  border-radius: 1em;\n",
       "  height: 1em;\n",
       "  width: 1em;\n",
       "  text-decoration: none !important;\n",
       "  margin-left: 1ex;\n",
       "  /* unfitted */\n",
       "  border: var(--sklearn-color-unfitted-level-1) 1pt solid;\n",
       "  color: var(--sklearn-color-unfitted-level-1);\n",
       "}\n",
       "\n",
       ".sk-estimator-doc-link.fitted,\n",
       "a:link.sk-estimator-doc-link.fitted,\n",
       "a:visited.sk-estimator-doc-link.fitted {\n",
       "  /* fitted */\n",
       "  border: var(--sklearn-color-fitted-level-1) 1pt solid;\n",
       "  color: var(--sklearn-color-fitted-level-1);\n",
       "}\n",
       "\n",
       "/* On hover */\n",
       "div.sk-estimator:hover .sk-estimator-doc-link:hover,\n",
       ".sk-estimator-doc-link:hover,\n",
       "div.sk-label-container:hover .sk-estimator-doc-link:hover,\n",
       ".sk-estimator-doc-link:hover {\n",
       "  /* unfitted */\n",
       "  background-color: var(--sklearn-color-unfitted-level-3);\n",
       "  color: var(--sklearn-color-background);\n",
       "  text-decoration: none;\n",
       "}\n",
       "\n",
       "div.sk-estimator.fitted:hover .sk-estimator-doc-link.fitted:hover,\n",
       ".sk-estimator-doc-link.fitted:hover,\n",
       "div.sk-label-container:hover .sk-estimator-doc-link.fitted:hover,\n",
       ".sk-estimator-doc-link.fitted:hover {\n",
       "  /* fitted */\n",
       "  background-color: var(--sklearn-color-fitted-level-3);\n",
       "  color: var(--sklearn-color-background);\n",
       "  text-decoration: none;\n",
       "}\n",
       "\n",
       "/* Span, style for the box shown on hovering the info icon */\n",
       ".sk-estimator-doc-link span {\n",
       "  display: none;\n",
       "  z-index: 9999;\n",
       "  position: relative;\n",
       "  font-weight: normal;\n",
       "  right: .2ex;\n",
       "  padding: .5ex;\n",
       "  margin: .5ex;\n",
       "  width: min-content;\n",
       "  min-width: 20ex;\n",
       "  max-width: 50ex;\n",
       "  color: var(--sklearn-color-text);\n",
       "  box-shadow: 2pt 2pt 4pt #999;\n",
       "  /* unfitted */\n",
       "  background: var(--sklearn-color-unfitted-level-0);\n",
       "  border: .5pt solid var(--sklearn-color-unfitted-level-3);\n",
       "}\n",
       "\n",
       ".sk-estimator-doc-link.fitted span {\n",
       "  /* fitted */\n",
       "  background: var(--sklearn-color-fitted-level-0);\n",
       "  border: var(--sklearn-color-fitted-level-3);\n",
       "}\n",
       "\n",
       ".sk-estimator-doc-link:hover span {\n",
       "  display: block;\n",
       "}\n",
       "\n",
       "/* \"?\"-specific style due to the `<a>` HTML tag */\n",
       "\n",
       "#sk-container-id-7 a.estimator_doc_link {\n",
       "  float: right;\n",
       "  font-size: 1rem;\n",
       "  line-height: 1em;\n",
       "  font-family: monospace;\n",
       "  background-color: var(--sklearn-color-background);\n",
       "  border-radius: 1rem;\n",
       "  height: 1rem;\n",
       "  width: 1rem;\n",
       "  text-decoration: none;\n",
       "  /* unfitted */\n",
       "  color: var(--sklearn-color-unfitted-level-1);\n",
       "  border: var(--sklearn-color-unfitted-level-1) 1pt solid;\n",
       "}\n",
       "\n",
       "#sk-container-id-7 a.estimator_doc_link.fitted {\n",
       "  /* fitted */\n",
       "  border: var(--sklearn-color-fitted-level-1) 1pt solid;\n",
       "  color: var(--sklearn-color-fitted-level-1);\n",
       "}\n",
       "\n",
       "/* On hover */\n",
       "#sk-container-id-7 a.estimator_doc_link:hover {\n",
       "  /* unfitted */\n",
       "  background-color: var(--sklearn-color-unfitted-level-3);\n",
       "  color: var(--sklearn-color-background);\n",
       "  text-decoration: none;\n",
       "}\n",
       "\n",
       "#sk-container-id-7 a.estimator_doc_link.fitted:hover {\n",
       "  /* fitted */\n",
       "  background-color: var(--sklearn-color-fitted-level-3);\n",
       "}\n",
       "</style><div id=\"sk-container-id-7\" class=\"sk-top-container\"><div class=\"sk-text-repr-fallback\"><pre>XGBRegressor(base_score=None, booster=&#x27;gbtree&#x27;, callbacks=None,\n",
       "             colsample_bylevel=None, colsample_bynode=None, colsample_bytree=1,\n",
       "             device=None, early_stopping_rounds=None, enable_categorical=False,\n",
       "             eval_metric=None, feature_types=None, gamma=0, grow_policy=None,\n",
       "             importance_type=None, interaction_constraints=None,\n",
       "             learning_rate=0.08, max_bin=None, max_cat_threshold=None,\n",
       "             max_cat_to_onehot=None, max_delta_step=None, max_depth=7,\n",
       "             max_leaves=None, min_child_weight=None, missing=nan,\n",
       "             monotone_constraints=None, multi_strategy=None, n_estimator=100,\n",
       "             n_estimators=None, n_jobs=None, num_parallel_tree=None, ...)</pre><b>In a Jupyter environment, please rerun this cell to show the HTML representation or trust the notebook. <br />On GitHub, the HTML representation is unable to render, please try loading this page with nbviewer.org.</b></div><div class=\"sk-container\" hidden><div class=\"sk-item\"><div class=\"sk-estimator fitted sk-toggleable\"><input class=\"sk-toggleable__control sk-hidden--visually\" id=\"sk-estimator-id-7\" type=\"checkbox\" checked><label for=\"sk-estimator-id-7\" class=\"sk-toggleable__label fitted sk-toggleable__label-arrow fitted\">&nbsp;XGBRegressor<span class=\"sk-estimator-doc-link fitted\">i<span>Fitted</span></span></label><div class=\"sk-toggleable__content fitted\"><pre>XGBRegressor(base_score=None, booster=&#x27;gbtree&#x27;, callbacks=None,\n",
       "             colsample_bylevel=None, colsample_bynode=None, colsample_bytree=1,\n",
       "             device=None, early_stopping_rounds=None, enable_categorical=False,\n",
       "             eval_metric=None, feature_types=None, gamma=0, grow_policy=None,\n",
       "             importance_type=None, interaction_constraints=None,\n",
       "             learning_rate=0.08, max_bin=None, max_cat_threshold=None,\n",
       "             max_cat_to_onehot=None, max_delta_step=None, max_depth=7,\n",
       "             max_leaves=None, min_child_weight=None, missing=nan,\n",
       "             monotone_constraints=None, multi_strategy=None, n_estimator=100,\n",
       "             n_estimators=None, n_jobs=None, num_parallel_tree=None, ...)</pre></div> </div></div></div></div>"
      ],
      "text/plain": [
       "XGBRegressor(base_score=None, booster='gbtree', callbacks=None,\n",
       "             colsample_bylevel=None, colsample_bynode=None, colsample_bytree=1,\n",
       "             device=None, early_stopping_rounds=None, enable_categorical=False,\n",
       "             eval_metric=None, feature_types=None, gamma=0, grow_policy=None,\n",
       "             importance_type=None, interaction_constraints=None,\n",
       "             learning_rate=0.08, max_bin=None, max_cat_threshold=None,\n",
       "             max_cat_to_onehot=None, max_delta_step=None, max_depth=7,\n",
       "             max_leaves=None, min_child_weight=None, missing=nan,\n",
       "             monotone_constraints=None, multi_strategy=None, n_estimator=100,\n",
       "             n_estimators=None, n_jobs=None, num_parallel_tree=None, ...)"
      ]
     },
     "execution_count": 108,
     "metadata": {},
     "output_type": "execute_result"
    }
   ],
   "source": [
    "xg_model.fit(X_train_xgb,y_train_xgb)"
   ]
  },
  {
   "cell_type": "code",
   "execution_count": null,
   "id": "45e0c6c8",
   "metadata": {},
   "outputs": [
    {
     "name": "stdout",
     "output_type": "stream",
     "text": [
      "Mean Squared Error on Training Set: 82.70441079809896\n"
     ]
    }
   ],
   "source": [
    "#predicting on training set\n",
    "y_train_pred_xgb = xg_model.predict(X_train_xgb)\n",
    "\n",
    "# Calculating Mean Squared Error on training set\n",
    "mse_xgb_train = mean_squared_error(y_train_xgb, y_train_pred_xgb)\n",
    "print(\"Mean Squared Error on Training Set:\", mse_xgb_train)"
   ]
  },
  {
   "cell_type": "code",
   "execution_count": null,
   "id": "9524b3c4",
   "metadata": {},
   "outputs": [
    {
     "name": "stdout",
     "output_type": "stream",
     "text": [
      "Mean Squared Error on Testing Set: 83.27737365698395\n"
     ]
    }
   ],
   "source": [
    "#predicting on testing set\n",
    "y_test_pred_xgb = xg_model.predict(X_test_xgb)\n",
    "\n",
    "# Calculating Mean Squared Error on testing set\n",
    "mse_xgb_test = mean_squared_error(y_test_xgb, y_test_pred_xgb)\n",
    "print(\"Mean Squared Error on Testing Set:\", mse_xgb_test)"
   ]
  },
  {
   "cell_type": "markdown",
   "id": "b809f1f0",
   "metadata": {},
   "source": [
    "### ANN"
   ]
  },
  {
   "cell_type": "markdown",
   "id": "2ea9fb4f",
   "metadata": {},
   "source": [
    "Need to extract date features, perform scaling and reshaping"
   ]
  },
  {
   "cell_type": "code",
   "execution_count": null,
   "id": "60347a88",
   "metadata": {},
   "outputs": [],
   "source": [
    "X_ann = df_train.copy()"
   ]
  },
  {
   "cell_type": "code",
   "execution_count": null,
   "id": "bd2ee3a7",
   "metadata": {},
   "outputs": [],
   "source": [
    "# extract y\n",
    "y_ann = X_ann['sales']"
   ]
  },
  {
   "cell_type": "code",
   "execution_count": null,
   "id": "107b216d",
   "metadata": {},
   "outputs": [],
   "source": [
    "# scale and reshape y\n",
    "y_scaler_ann = MinMaxScaler()\n",
    "\n",
    "y_ann_scaled = y_scaler_ann.fit_transform(y_ann.values.reshape(-1,1))"
   ]
  },
  {
   "cell_type": "code",
   "execution_count": null,
   "id": "dc7214bd",
   "metadata": {},
   "outputs": [
    {
     "data": {
      "text/html": [
       "<div>\n",
       "<style scoped>\n",
       "    .dataframe tbody tr th:only-of-type {\n",
       "        vertical-align: middle;\n",
       "    }\n",
       "\n",
       "    .dataframe tbody tr th {\n",
       "        vertical-align: top;\n",
       "    }\n",
       "\n",
       "    .dataframe thead th {\n",
       "        text-align: right;\n",
       "    }\n",
       "</style>\n",
       "<table border=\"1\" class=\"dataframe\">\n",
       "  <thead>\n",
       "    <tr style=\"text-align: right;\">\n",
       "      <th></th>\n",
       "      <th>date</th>\n",
       "      <th>store</th>\n",
       "      <th>item</th>\n",
       "      <th>sales</th>\n",
       "      <th>year</th>\n",
       "      <th>month</th>\n",
       "      <th>day_of_week</th>\n",
       "      <th>day_of_year</th>\n",
       "      <th>week_of_year</th>\n",
       "    </tr>\n",
       "  </thead>\n",
       "  <tbody>\n",
       "    <tr>\n",
       "      <th>0</th>\n",
       "      <td>2013-01-01</td>\n",
       "      <td>1</td>\n",
       "      <td>1</td>\n",
       "      <td>13</td>\n",
       "      <td>2013</td>\n",
       "      <td>1</td>\n",
       "      <td>1</td>\n",
       "      <td>1</td>\n",
       "      <td>1</td>\n",
       "    </tr>\n",
       "    <tr>\n",
       "      <th>1</th>\n",
       "      <td>2013-01-01</td>\n",
       "      <td>1</td>\n",
       "      <td>2</td>\n",
       "      <td>33</td>\n",
       "      <td>2013</td>\n",
       "      <td>1</td>\n",
       "      <td>1</td>\n",
       "      <td>1</td>\n",
       "      <td>1</td>\n",
       "    </tr>\n",
       "    <tr>\n",
       "      <th>2</th>\n",
       "      <td>2013-01-01</td>\n",
       "      <td>1</td>\n",
       "      <td>3</td>\n",
       "      <td>15</td>\n",
       "      <td>2013</td>\n",
       "      <td>1</td>\n",
       "      <td>1</td>\n",
       "      <td>1</td>\n",
       "      <td>1</td>\n",
       "    </tr>\n",
       "    <tr>\n",
       "      <th>3</th>\n",
       "      <td>2013-01-01</td>\n",
       "      <td>1</td>\n",
       "      <td>4</td>\n",
       "      <td>10</td>\n",
       "      <td>2013</td>\n",
       "      <td>1</td>\n",
       "      <td>1</td>\n",
       "      <td>1</td>\n",
       "      <td>1</td>\n",
       "    </tr>\n",
       "    <tr>\n",
       "      <th>4</th>\n",
       "      <td>2013-01-01</td>\n",
       "      <td>1</td>\n",
       "      <td>5</td>\n",
       "      <td>11</td>\n",
       "      <td>2013</td>\n",
       "      <td>1</td>\n",
       "      <td>1</td>\n",
       "      <td>1</td>\n",
       "      <td>1</td>\n",
       "    </tr>\n",
       "  </tbody>\n",
       "</table>\n",
       "</div>"
      ],
      "text/plain": [
       "        date  store  item  sales  year  month  day_of_week  day_of_year  \\\n",
       "0 2013-01-01      1     1     13  2013      1            1            1   \n",
       "1 2013-01-01      1     2     33  2013      1            1            1   \n",
       "2 2013-01-01      1     3     15  2013      1            1            1   \n",
       "3 2013-01-01      1     4     10  2013      1            1            1   \n",
       "4 2013-01-01      1     5     11  2013      1            1            1   \n",
       "\n",
       "   week_of_year  \n",
       "0             1  \n",
       "1             1  \n",
       "2             1  \n",
       "3             1  \n",
       "4             1  "
      ]
     },
     "execution_count": 123,
     "metadata": {},
     "output_type": "execute_result"
    }
   ],
   "source": [
    "X_ann['year'] = X_ann['date'].dt.year\n",
    "X_ann['month'] = X_ann['date'].dt.month\n",
    "X_ann['day_of_week'] = X_ann['date'].dt.dayofweek  # Monday=0, Sunday=6\n",
    "X_ann['day_of_year'] = X_ann['date'].dt.dayofyear\n",
    "X_ann['week_of_year'] = X_ann['date'].dt.isocalendar().week\n",
    "\n",
    "X_ann.head()"
   ]
  },
  {
   "cell_type": "code",
   "execution_count": null,
   "id": "afff65a9",
   "metadata": {},
   "outputs": [],
   "source": [
    "X_ann = X_ann.drop(columns=['sales', 'date'])"
   ]
  },
  {
   "cell_type": "code",
   "execution_count": null,
   "id": "34be6fa0",
   "metadata": {},
   "outputs": [],
   "source": [
    "X_scaler_ann = MinMaxScaler()\n",
    "\n",
    "X_ann_scaled = pd.DataFrame(X_scaler_ann.fit_transform(X_ann), columns=X_ann.columns)"
   ]
  },
  {
   "cell_type": "code",
   "execution_count": null,
   "id": "77b39f33",
   "metadata": {},
   "outputs": [],
   "source": [
    "# Splitting the data into training and testing sets\n",
    "X_train_ann, X_test_ann, y_train_ann, y_test_ann = train_test_split(X_ann_scaled, y_ann_scaled, test_size=0.2, random_state=42)"
   ]
  },
  {
   "cell_type": "code",
   "execution_count": null,
   "id": "6512b562",
   "metadata": {},
   "outputs": [
    {
     "name": "stdout",
     "output_type": "stream",
     "text": [
      "WARNING:tensorflow:From c:\\Users\\patel\\anaconda3\\Lib\\site-packages\\keras\\src\\backend.py:873: The name tf.get_default_graph is deprecated. Please use tf.compat.v1.get_default_graph instead.\n",
      "\n"
     ]
    }
   ],
   "source": [
    "## ANN model architecture\n",
    "ann_model = Sequential([\n",
    "    Dense(128, activation='relu', input_shape=(X_train_ann.shape[1],)),\n",
    "    Dense(64, activation='relu'),\n",
    "    Dense(1)\n",
    "    ])"
   ]
  },
  {
   "cell_type": "code",
   "execution_count": null,
   "id": "e9298222",
   "metadata": {},
   "outputs": [],
   "source": [
    "# Compile ANN\n",
    "ann_model.compile(optimizer=Adam(), loss='mse')"
   ]
  },
  {
   "cell_type": "code",
   "execution_count": null,
   "id": "692b3fa6",
   "metadata": {},
   "outputs": [
    {
     "name": "stdout",
     "output_type": "stream",
     "text": [
      "Epoch 1/25\n",
      "WARNING:tensorflow:From c:\\Users\\patel\\anaconda3\\Lib\\site-packages\\keras\\src\\utils\\tf_utils.py:492: The name tf.ragged.RaggedTensorValue is deprecated. Please use tf.compat.v1.ragged.RaggedTensorValue instead.\n",
      "\n",
      "20543/20543 [==============================] - 23s 1ms/step - loss: 0.0093 - val_loss: 0.0080\n",
      "Epoch 2/25\n",
      "20543/20543 [==============================] - 22s 1ms/step - loss: 0.0078 - val_loss: 0.0077\n",
      "Epoch 3/25\n",
      "20543/20543 [==============================] - 22s 1ms/step - loss: 0.0069 - val_loss: 0.0063\n",
      "Epoch 4/25\n",
      "20543/20543 [==============================] - 22s 1ms/step - loss: 0.0064 - val_loss: 0.0064\n",
      "Epoch 5/25\n",
      "20543/20543 [==============================] - 23s 1ms/step - loss: 0.0063 - val_loss: 0.0063\n",
      "Epoch 6/25\n",
      "20543/20543 [==============================] - 23s 1ms/step - loss: 0.0061 - val_loss: 0.0057\n",
      "Epoch 7/25\n",
      "20543/20543 [==============================] - 23s 1ms/step - loss: 0.0058 - val_loss: 0.0057\n",
      "Epoch 8/25\n",
      "20543/20543 [==============================] - 21s 1ms/step - loss: 0.0057 - val_loss: 0.0059\n",
      "Epoch 9/25\n",
      "20543/20543 [==============================] - 21s 1ms/step - loss: 0.0057 - val_loss: 0.0058\n",
      "Epoch 10/25\n",
      "20543/20543 [==============================] - 21s 1ms/step - loss: 0.0058 - val_loss: 0.0058\n",
      "Epoch 11/25\n",
      "20543/20543 [==============================] - 22s 1ms/step - loss: 0.0057 - val_loss: 0.0055\n",
      "Epoch 12/25\n",
      "20543/20543 [==============================] - 22s 1ms/step - loss: 0.0056 - val_loss: 0.0055\n",
      "Epoch 13/25\n",
      "20543/20543 [==============================] - 22s 1ms/step - loss: 0.0055 - val_loss: 0.0053\n",
      "Epoch 14/25\n",
      "20543/20543 [==============================] - 22s 1ms/step - loss: 0.0055 - val_loss: 0.0058\n",
      "Epoch 15/25\n",
      "20543/20543 [==============================] - 22s 1ms/step - loss: 0.0054 - val_loss: 0.0053\n",
      "Epoch 16/25\n",
      "20543/20543 [==============================] - 22s 1ms/step - loss: 0.0054 - val_loss: 0.0055\n",
      "Epoch 17/25\n",
      "20543/20543 [==============================] - 22s 1ms/step - loss: 0.0053 - val_loss: 0.0054\n",
      "Epoch 18/25\n",
      "20543/20543 [==============================] - 22s 1ms/step - loss: 0.0053 - val_loss: 0.0054\n",
      "Epoch 19/25\n",
      "20543/20543 [==============================] - 22s 1ms/step - loss: 0.0053 - val_loss: 0.0053\n",
      "Epoch 20/25\n",
      "20543/20543 [==============================] - 22s 1ms/step - loss: 0.0053 - val_loss: 0.0051\n",
      "Epoch 21/25\n",
      "20543/20543 [==============================] - 22s 1ms/step - loss: 0.0052 - val_loss: 0.0051\n",
      "Epoch 22/25\n",
      "20543/20543 [==============================] - 22s 1ms/step - loss: 0.0052 - val_loss: 0.0051\n",
      "Epoch 23/25\n",
      "20543/20543 [==============================] - 22s 1ms/step - loss: 0.0051 - val_loss: 0.0049\n",
      "Epoch 24/25\n",
      "20543/20543 [==============================] - 22s 1ms/step - loss: 0.0051 - val_loss: 0.0050\n",
      "Epoch 25/25\n",
      "20543/20543 [==============================] - 22s 1ms/step - loss: 0.0051 - val_loss: 0.0051\n"
     ]
    }
   ],
   "source": [
    "# Train model\n",
    "history = ann_model.fit(X_train_ann, y_train_ann, epochs=25, batch_size=32, validation_split=0.1)"
   ]
  },
  {
   "cell_type": "code",
   "execution_count": null,
   "id": "2ccba240",
   "metadata": {},
   "outputs": [
    {
     "name": "stdout",
     "output_type": "stream",
     "text": [
      "22825/22825 [==============================] - 17s 759us/step\n",
      "Mean Squared Error on Training Set: 0.005070437416460671\n"
     ]
    }
   ],
   "source": [
    "# predicting on training set\n",
    "y_train_pred_ann = ann_model.predict(X_train_ann)\n",
    "\n",
    "# mse_ann_train = ann_model.evaluate(X_train_ann, y_train_ann)\n",
    "mse_ann_train = mean_squared_error(y_train_ann, y_train_pred_ann)\n",
    "\n",
    "print(\"Mean Squared Error on Training Set:\", mse_ann_train)"
   ]
  },
  {
   "cell_type": "code",
   "execution_count": null,
   "id": "0efcab9b",
   "metadata": {},
   "outputs": [],
   "source": [
    "y_train_pred_ann_unscaled = y_scaler_ann.inverse_transform(y_train_pred_ann)"
   ]
  },
  {
   "cell_type": "code",
   "execution_count": null,
   "id": "05445247",
   "metadata": {},
   "outputs": [
    {
     "name": "stdout",
     "output_type": "stream",
     "text": [
      "5707/5707 [==============================] - 4s 770us/step\n",
      "Mean Squared Error on Test Set: 0.005085580441138259\n"
     ]
    }
   ],
   "source": [
    "# predicting on test set\n",
    "y_test_pred_ann = ann_model.predict(X_test_ann)\n",
    "\n",
    "# mse_ann_train = ann_model.evaluate(X_train_ann, y_train_ann)\n",
    "mse_ann_test = mean_squared_error(y_test_ann, y_test_pred_ann)\n",
    "\n",
    "print(\"Mean Squared Error on Test Set:\", mse_ann_test)"
   ]
  },
  {
   "cell_type": "code",
   "execution_count": null,
   "id": "ede6b934",
   "metadata": {},
   "outputs": [],
   "source": [
    "y_test_pred_ann_unscaled = y_scaler_ann.inverse_transform(y_test_pred_ann)"
   ]
  },
  {
   "cell_type": "markdown",
   "id": "1c22071c",
   "metadata": {},
   "source": [
    "## Time Series Models"
   ]
  },
  {
   "cell_type": "markdown",
   "id": "1e8852ba",
   "metadata": {},
   "source": [
    "### LSTM"
   ]
  },
  {
   "cell_type": "code",
   "execution_count": 17,
   "id": "ef66c960",
   "metadata": {},
   "outputs": [],
   "source": [
    "X_lstm = df_train.copy()"
   ]
  },
  {
   "cell_type": "code",
   "execution_count": 18,
   "id": "7112436a",
   "metadata": {},
   "outputs": [],
   "source": [
    "# extract y\n",
    "y_lstm = X_lstm['sales']"
   ]
  },
  {
   "cell_type": "code",
   "execution_count": 19,
   "id": "42887307",
   "metadata": {},
   "outputs": [
    {
     "data": {
      "application/vnd.microsoft.datawrangler.viewer.v0+json": {
       "columns": [
        {
         "name": "index",
         "rawType": "int64",
         "type": "integer"
        },
        {
         "name": "date",
         "rawType": "int64",
         "type": "integer"
        },
        {
         "name": "store",
         "rawType": "int64",
         "type": "integer"
        },
        {
         "name": "item",
         "rawType": "int64",
         "type": "integer"
        },
        {
         "name": "sales",
         "rawType": "int64",
         "type": "integer"
        },
        {
         "name": "day",
         "rawType": "int32",
         "type": "integer"
        },
        {
         "name": "month",
         "rawType": "int32",
         "type": "integer"
        },
        {
         "name": "dayofweek",
         "rawType": "int32",
         "type": "integer"
        },
        {
         "name": "week",
         "rawType": "UInt32",
         "type": "integer"
        },
        {
         "name": "year",
         "rawType": "int32",
         "type": "integer"
        }
       ],
       "conversionMethod": "pd.DataFrame",
       "ref": "f122180a-e51b-409a-b510-03b0e9c235a8",
       "rows": [
        [
         "0",
         "734869",
         "1",
         "1",
         "13",
         "1",
         "1",
         "1",
         "1",
         "2013"
        ],
        [
         "1",
         "734869",
         "1",
         "2",
         "33",
         "1",
         "1",
         "1",
         "1",
         "2013"
        ],
        [
         "2",
         "734869",
         "1",
         "3",
         "15",
         "1",
         "1",
         "1",
         "1",
         "2013"
        ],
        [
         "3",
         "734869",
         "1",
         "4",
         "10",
         "1",
         "1",
         "1",
         "1",
         "2013"
        ],
        [
         "4",
         "734869",
         "1",
         "5",
         "11",
         "1",
         "1",
         "1",
         "1",
         "2013"
        ]
       ],
       "shape": {
        "columns": 9,
        "rows": 5
       }
      },
      "text/html": [
       "<div>\n",
       "<style scoped>\n",
       "    .dataframe tbody tr th:only-of-type {\n",
       "        vertical-align: middle;\n",
       "    }\n",
       "\n",
       "    .dataframe tbody tr th {\n",
       "        vertical-align: top;\n",
       "    }\n",
       "\n",
       "    .dataframe thead th {\n",
       "        text-align: right;\n",
       "    }\n",
       "</style>\n",
       "<table border=\"1\" class=\"dataframe\">\n",
       "  <thead>\n",
       "    <tr style=\"text-align: right;\">\n",
       "      <th></th>\n",
       "      <th>date</th>\n",
       "      <th>store</th>\n",
       "      <th>item</th>\n",
       "      <th>sales</th>\n",
       "      <th>day</th>\n",
       "      <th>month</th>\n",
       "      <th>dayofweek</th>\n",
       "      <th>week</th>\n",
       "      <th>year</th>\n",
       "    </tr>\n",
       "  </thead>\n",
       "  <tbody>\n",
       "    <tr>\n",
       "      <th>0</th>\n",
       "      <td>734869</td>\n",
       "      <td>1</td>\n",
       "      <td>1</td>\n",
       "      <td>13</td>\n",
       "      <td>1</td>\n",
       "      <td>1</td>\n",
       "      <td>1</td>\n",
       "      <td>1</td>\n",
       "      <td>2013</td>\n",
       "    </tr>\n",
       "    <tr>\n",
       "      <th>1</th>\n",
       "      <td>734869</td>\n",
       "      <td>1</td>\n",
       "      <td>2</td>\n",
       "      <td>33</td>\n",
       "      <td>1</td>\n",
       "      <td>1</td>\n",
       "      <td>1</td>\n",
       "      <td>1</td>\n",
       "      <td>2013</td>\n",
       "    </tr>\n",
       "    <tr>\n",
       "      <th>2</th>\n",
       "      <td>734869</td>\n",
       "      <td>1</td>\n",
       "      <td>3</td>\n",
       "      <td>15</td>\n",
       "      <td>1</td>\n",
       "      <td>1</td>\n",
       "      <td>1</td>\n",
       "      <td>1</td>\n",
       "      <td>2013</td>\n",
       "    </tr>\n",
       "    <tr>\n",
       "      <th>3</th>\n",
       "      <td>734869</td>\n",
       "      <td>1</td>\n",
       "      <td>4</td>\n",
       "      <td>10</td>\n",
       "      <td>1</td>\n",
       "      <td>1</td>\n",
       "      <td>1</td>\n",
       "      <td>1</td>\n",
       "      <td>2013</td>\n",
       "    </tr>\n",
       "    <tr>\n",
       "      <th>4</th>\n",
       "      <td>734869</td>\n",
       "      <td>1</td>\n",
       "      <td>5</td>\n",
       "      <td>11</td>\n",
       "      <td>1</td>\n",
       "      <td>1</td>\n",
       "      <td>1</td>\n",
       "      <td>1</td>\n",
       "      <td>2013</td>\n",
       "    </tr>\n",
       "  </tbody>\n",
       "</table>\n",
       "</div>"
      ],
      "text/plain": [
       "     date  store  item  sales  day  month  dayofweek  week  year\n",
       "0  734869      1     1     13    1      1          1     1  2013\n",
       "1  734869      1     2     33    1      1          1     1  2013\n",
       "2  734869      1     3     15    1      1          1     1  2013\n",
       "3  734869      1     4     10    1      1          1     1  2013\n",
       "4  734869      1     5     11    1      1          1     1  2013"
      ]
     },
     "execution_count": 19,
     "metadata": {},
     "output_type": "execute_result"
    }
   ],
   "source": [
    "X_lstm['day'] = X_lstm['date'].dt.day\n",
    "X_lstm['month'] = X_lstm['date'].dt.month\n",
    "X_lstm['dayofweek'] = X_lstm['date'].dt.dayofweek  # 0 = Monday\n",
    "X_lstm['week'] = X_lstm['date'].dt.isocalendar().week\n",
    "X_lstm['year'] = X_lstm['date'].dt.year\n",
    "\n",
    "X_lstm['date'] = X_lstm['date'].apply(lambda x: x.toordinal())\n",
    "\n",
    "X_lstm.head()"
   ]
  },
  {
   "cell_type": "code",
   "execution_count": 20,
   "id": "7a1dcee0",
   "metadata": {},
   "outputs": [],
   "source": [
    "X_lstm.drop(columns=['sales'], inplace=True)"
   ]
  },
  {
   "cell_type": "code",
   "execution_count": 21,
   "id": "20990b80",
   "metadata": {},
   "outputs": [],
   "source": [
    "# scale and reshape y\n",
    "y_scaler_lstm = MinMaxScaler()\n",
    "\n",
    "y_lstm_scaled = y_scaler_lstm.fit_transform(y_lstm.values.reshape(-1,1))"
   ]
  },
  {
   "cell_type": "code",
   "execution_count": 22,
   "id": "655e3a5a",
   "metadata": {},
   "outputs": [],
   "source": [
    "# scale and reshape X\n",
    "X_scaler_lstm = MinMaxScaler()\n",
    "\n",
    "X_lstm_scaled = X_scaler_lstm.fit_transform(X_lstm)"
   ]
  },
  {
   "cell_type": "code",
   "execution_count": 24,
   "id": "bd326d4c",
   "metadata": {},
   "outputs": [],
   "source": [
    "#  function for creating sequences for LSTM \n",
    "\n",
    "def create_sequences(X, y, time_steps=7):\n",
    "    Xs, ys = [], []\n",
    "    for i in range(time_steps, len(X)):\n",
    "        Xs.append(X[i - time_steps:i])\n",
    "        ys.append(y[i])\n",
    "    \n",
    "    Xs = np.array(Xs)\n",
    "\n",
    "    # If y is 2D (e.g., (n_samples, 1)), preserve its shape\n",
    "    ys = np.array(ys)\n",
    "    if len(ys.shape) == 1:\n",
    "        ys = ys.reshape(-1, 1)\n",
    "\n",
    "    return Xs, ys\n"
   ]
  },
  {
   "cell_type": "code",
   "execution_count": 25,
   "id": "fed9ebf3",
   "metadata": {},
   "outputs": [],
   "source": [
    "# Creating sequences for LSTM model\n",
    "X_lstm_seq, y_lstm_seq = create_sequences(X_lstm_scaled, y_lstm_scaled, time_steps=7)"
   ]
  },
  {
   "cell_type": "code",
   "execution_count": 26,
   "id": "dd853bda",
   "metadata": {},
   "outputs": [],
   "source": [
    "# Splitting in test train set\n",
    "X_train_lstm, X_test_lstm, y_train_lstm, y_test_lstm = train_test_split(X_lstm_seq, y_lstm_seq, test_size=0.2, random_state=42)"
   ]
  },
  {
   "cell_type": "code",
   "execution_count": 27,
   "id": "412ab781",
   "metadata": {},
   "outputs": [],
   "source": [
    "# Define model architecture\n",
    "lstm_model = Sequential([\n",
    "    LSTM(units=50, activation='relu', input_shape=(X_train_lstm.shape[1], X_train_lstm.shape[2])),\n",
    "    Dense(units=1)\n",
    "])"
   ]
  },
  {
   "cell_type": "code",
   "execution_count": null,
   "id": "919c9072",
   "metadata": {},
   "outputs": [],
   "source": [
    "# compile the LSTM model\n",
    "lstm_model.compile(optimizer='adam', loss='mse')"
   ]
  },
  {
   "cell_type": "code",
   "execution_count": null,
   "id": "f7c0592b",
   "metadata": {},
   "outputs": [
    {
     "name": "stdout",
     "output_type": "stream",
     "text": [
      "Epoch 1/25\n",
      "20543/20543 [==============================] - 52s 2ms/step - loss: 0.0091 - val_loss: 0.0081\n",
      "Epoch 2/25\n",
      "20543/20543 [==============================] - 50s 2ms/step - loss: 0.0082 - val_loss: 0.0077\n",
      "Epoch 3/25\n",
      "20543/20543 [==============================] - 53s 3ms/step - loss: 0.0073 - val_loss: 0.0064\n",
      "Epoch 4/25\n",
      "20543/20543 [==============================] - 60s 3ms/step - loss: 0.0060 - val_loss: 0.0048\n",
      "Epoch 5/25\n",
      "20543/20543 [==============================] - 64s 3ms/step - loss: 0.0044 - val_loss: 0.0035\n",
      "Epoch 6/25\n",
      "20543/20543 [==============================] - 62s 3ms/step - loss: 0.0028 - val_loss: 0.0023\n",
      "Epoch 7/25\n",
      "20543/20543 [==============================] - 62s 3ms/step - loss: 0.0022 - val_loss: 0.0018\n",
      "Epoch 8/25\n",
      "20543/20543 [==============================] - 71s 3ms/step - loss: 0.0021 - val_loss: 0.0020\n",
      "Epoch 9/25\n",
      "20543/20543 [==============================] - 64s 3ms/step - loss: 0.0028 - val_loss: 0.0025\n",
      "Epoch 10/25\n",
      "20543/20543 [==============================] - 64s 3ms/step - loss: 0.0024 - val_loss: 0.0019\n",
      "Epoch 11/25\n",
      "20543/20543 [==============================] - 64s 3ms/step - loss: 0.0016 - val_loss: 0.0013\n",
      "Epoch 12/25\n",
      "20543/20543 [==============================] - 66s 3ms/step - loss: 0.0014 - val_loss: 0.0013\n",
      "Epoch 13/25\n",
      "20543/20543 [==============================] - 65s 3ms/step - loss: 0.0013 - val_loss: 0.0011\n",
      "Epoch 14/25\n",
      "20543/20543 [==============================] - 65s 3ms/step - loss: 0.0016 - val_loss: 0.0014\n",
      "Epoch 15/25\n",
      "20543/20543 [==============================] - 65s 3ms/step - loss: 0.0015 - val_loss: 0.0015\n",
      "Epoch 16/25\n",
      "20543/20543 [==============================] - 66s 3ms/step - loss: 0.0012 - val_loss: 0.0011\n",
      "Epoch 17/25\n",
      "20543/20543 [==============================] - 69s 3ms/step - loss: 0.0013 - val_loss: 0.0015\n",
      "Epoch 18/25\n",
      "20543/20543 [==============================] - 66s 3ms/step - loss: 0.0013 - val_loss: 0.0050\n",
      "Epoch 19/25\n",
      "20543/20543 [==============================] - 66s 3ms/step - loss: 0.0013 - val_loss: 0.0011\n",
      "Epoch 20/25\n",
      "20543/20543 [==============================] - 67s 3ms/step - loss: 0.0012 - val_loss: 0.0011\n",
      "Epoch 21/25\n",
      "20543/20543 [==============================] - 66s 3ms/step - loss: 0.0012 - val_loss: 0.0011\n",
      "Epoch 22/25\n",
      "20543/20543 [==============================] - 67s 3ms/step - loss: 0.0014 - val_loss: 0.0012\n",
      "Epoch 23/25\n",
      "20543/20543 [==============================] - 59s 3ms/step - loss: 0.0014 - val_loss: 0.0012\n",
      "Epoch 24/25\n",
      "20543/20543 [==============================] - 57s 3ms/step - loss: 0.0013 - val_loss: 0.0012\n",
      "Epoch 25/25\n",
      "20543/20543 [==============================] - 56s 3ms/step - loss: 0.0013 - val_loss: 0.0012\n"
     ]
    },
    {
     "data": {
      "text/plain": [
       "<keras.src.callbacks.History at 0x1c4f5134090>"
      ]
     },
     "execution_count": 163,
     "metadata": {},
     "output_type": "execute_result"
    }
   ],
   "source": [
    "# Train the model\n",
    "lstm_model.fit(X_train_lstm, y_train_lstm, epochs=25, batch_size=32, validation_split=0.1)"
   ]
  },
  {
   "cell_type": "code",
   "execution_count": null,
   "id": "537e0baf",
   "metadata": {},
   "outputs": [
    {
     "name": "stdout",
     "output_type": "stream",
     "text": [
      "22825/22825 [==============================] - 37s 2ms/step\n",
      "Mean Squared Error on Training Set: 0.0011973068481988924\n"
     ]
    }
   ],
   "source": [
    "# predicting on training set\n",
    "y_train_pred_lstm = lstm_model.predict(X_train_lstm)\n",
    "\n",
    "# mse_ann_train = ann_model.evaluate(X_train_ann, y_train_ann)\n",
    "mse_lstm_train = mean_squared_error(y_train_lstm, y_train_pred_lstm)\n",
    "\n",
    "print(\"Mean Squared Error on Training Set:\", mse_lstm_train)"
   ]
  },
  {
   "cell_type": "code",
   "execution_count": null,
   "id": "5a69a9d5",
   "metadata": {},
   "outputs": [],
   "source": [
    "y_train_pred_lstm_unscaled = y_scaler_lstm.inverse_transform(y_train_pred_lstm)"
   ]
  },
  {
   "cell_type": "code",
   "execution_count": null,
   "id": "e5035f72",
   "metadata": {},
   "outputs": [
    {
     "name": "stdout",
     "output_type": "stream",
     "text": [
      "5707/5707 [==============================] - 8s 1ms/step\n",
      "Mean Squared Error on Test Set: 0.0012003123193549809\n"
     ]
    }
   ],
   "source": [
    "# predicting on testing set\n",
    "y_test_pred_lstm = lstm_model.predict(X_test_lstm)\n",
    "\n",
    "# mse_ann_train = ann_model.evaluate(X_train_ann, y_train_ann)\n",
    "mse_lstm_test = mean_squared_error(y_test_lstm, y_test_pred_lstm)\n",
    "\n",
    "print(\"Mean Squared Error on Test Set:\", mse_lstm_test)"
   ]
  },
  {
   "cell_type": "code",
   "execution_count": null,
   "id": "5931732c",
   "metadata": {},
   "outputs": [],
   "source": [
    "y_test_pred_lstm_unscaled = y_scaler_lstm.inverse_transform(y_test_pred_lstm)"
   ]
  },
  {
   "cell_type": "markdown",
   "id": "49c88376",
   "metadata": {},
   "source": [
    "### CNN"
   ]
  },
  {
   "cell_type": "markdown",
   "id": "7ce1f360",
   "metadata": {},
   "source": [
    "########## Best practice:\n",
    "\n",
    "Split raw data into train/test.\n",
    "\n",
    "Fit the scaler only on the training set.\n",
    "\n",
    "Apply the scaler to both train and test.\n",
    "\n",
    "Then sequence both sets separately."
   ]
  },
  {
   "cell_type": "markdown",
   "id": "af608168",
   "metadata": {},
   "source": [
    "##### Data - X, y"
   ]
  },
  {
   "cell_type": "code",
   "execution_count": null,
   "id": "c50471e6",
   "metadata": {},
   "outputs": [],
   "source": [
    "X_cnn = df_train.copy()"
   ]
  },
  {
   "cell_type": "code",
   "execution_count": null,
   "id": "c646f5c5",
   "metadata": {},
   "outputs": [],
   "source": [
    "# extract y\n",
    "y_cnn = X_cnn['sales']"
   ]
  },
  {
   "cell_type": "code",
   "execution_count": null,
   "id": "5740230f",
   "metadata": {},
   "outputs": [
    {
     "data": {
      "text/html": [
       "<div>\n",
       "<style scoped>\n",
       "    .dataframe tbody tr th:only-of-type {\n",
       "        vertical-align: middle;\n",
       "    }\n",
       "\n",
       "    .dataframe tbody tr th {\n",
       "        vertical-align: top;\n",
       "    }\n",
       "\n",
       "    .dataframe thead th {\n",
       "        text-align: right;\n",
       "    }\n",
       "</style>\n",
       "<table border=\"1\" class=\"dataframe\">\n",
       "  <thead>\n",
       "    <tr style=\"text-align: right;\">\n",
       "      <th></th>\n",
       "      <th>date</th>\n",
       "      <th>store</th>\n",
       "      <th>item</th>\n",
       "      <th>sales</th>\n",
       "      <th>day</th>\n",
       "      <th>month</th>\n",
       "      <th>dayofweek</th>\n",
       "      <th>week</th>\n",
       "      <th>year</th>\n",
       "    </tr>\n",
       "  </thead>\n",
       "  <tbody>\n",
       "    <tr>\n",
       "      <th>0</th>\n",
       "      <td>734869</td>\n",
       "      <td>1</td>\n",
       "      <td>1</td>\n",
       "      <td>13</td>\n",
       "      <td>1</td>\n",
       "      <td>1</td>\n",
       "      <td>1</td>\n",
       "      <td>1</td>\n",
       "      <td>2013</td>\n",
       "    </tr>\n",
       "    <tr>\n",
       "      <th>1</th>\n",
       "      <td>734869</td>\n",
       "      <td>1</td>\n",
       "      <td>2</td>\n",
       "      <td>33</td>\n",
       "      <td>1</td>\n",
       "      <td>1</td>\n",
       "      <td>1</td>\n",
       "      <td>1</td>\n",
       "      <td>2013</td>\n",
       "    </tr>\n",
       "    <tr>\n",
       "      <th>2</th>\n",
       "      <td>734869</td>\n",
       "      <td>1</td>\n",
       "      <td>3</td>\n",
       "      <td>15</td>\n",
       "      <td>1</td>\n",
       "      <td>1</td>\n",
       "      <td>1</td>\n",
       "      <td>1</td>\n",
       "      <td>2013</td>\n",
       "    </tr>\n",
       "    <tr>\n",
       "      <th>3</th>\n",
       "      <td>734869</td>\n",
       "      <td>1</td>\n",
       "      <td>4</td>\n",
       "      <td>10</td>\n",
       "      <td>1</td>\n",
       "      <td>1</td>\n",
       "      <td>1</td>\n",
       "      <td>1</td>\n",
       "      <td>2013</td>\n",
       "    </tr>\n",
       "    <tr>\n",
       "      <th>4</th>\n",
       "      <td>734869</td>\n",
       "      <td>1</td>\n",
       "      <td>5</td>\n",
       "      <td>11</td>\n",
       "      <td>1</td>\n",
       "      <td>1</td>\n",
       "      <td>1</td>\n",
       "      <td>1</td>\n",
       "      <td>2013</td>\n",
       "    </tr>\n",
       "  </tbody>\n",
       "</table>\n",
       "</div>"
      ],
      "text/plain": [
       "     date  store  item  sales  day  month  dayofweek  week  year\n",
       "0  734869      1     1     13    1      1          1     1  2013\n",
       "1  734869      1     2     33    1      1          1     1  2013\n",
       "2  734869      1     3     15    1      1          1     1  2013\n",
       "3  734869      1     4     10    1      1          1     1  2013\n",
       "4  734869      1     5     11    1      1          1     1  2013"
      ]
     },
     "execution_count": 192,
     "metadata": {},
     "output_type": "execute_result"
    }
   ],
   "source": [
    "X_cnn['day'] = X_cnn['date'].dt.day\n",
    "X_cnn['month'] = X_cnn['date'].dt.month\n",
    "X_cnn['dayofweek'] = X_cnn['date'].dt.dayofweek  # 0 = Monday\n",
    "X_cnn['week'] = X_cnn['date'].dt.isocalendar().week\n",
    "X_cnn['year'] = X_cnn['date'].dt.year\n",
    "\n",
    "X_cnn['date'] = X_cnn['date'].apply(lambda x: x.toordinal())\n",
    "\n",
    "X_cnn.head()"
   ]
  },
  {
   "cell_type": "code",
   "execution_count": null,
   "id": "0e409129",
   "metadata": {},
   "outputs": [],
   "source": [
    "X_cnn.drop(columns=['sales'], inplace=True)"
   ]
  },
  {
   "cell_type": "markdown",
   "id": "ace801bc",
   "metadata": {},
   "source": [
    "##### Splitting"
   ]
  },
  {
   "cell_type": "code",
   "execution_count": null,
   "id": "c6902c03",
   "metadata": {},
   "outputs": [],
   "source": [
    "# Splitting in test train set\n",
    "X_train_cnn, X_test_cnn, y_train_cnn, y_test_cnn = train_test_split(X_cnn, y_cnn, test_size=0.2, random_state=42)"
   ]
  },
  {
   "cell_type": "markdown",
   "id": "b8a87f35",
   "metadata": {},
   "source": [
    "##### Scaling"
   ]
  },
  {
   "cell_type": "code",
   "execution_count": null,
   "id": "79f73e68",
   "metadata": {},
   "outputs": [],
   "source": [
    "# Scaler for y\n",
    "y_scaler_cnn = MinMaxScaler()"
   ]
  },
  {
   "cell_type": "code",
   "execution_count": null,
   "id": "fcd07f2b",
   "metadata": {},
   "outputs": [],
   "source": [
    "# Fit Scaler on y train and reshape y train\n",
    "y_train_cnn_scaled = y_scaler_cnn.fit_transform(y_train_cnn.values.reshape(-1,1))"
   ]
  },
  {
   "cell_type": "code",
   "execution_count": null,
   "id": "0cf6ef8b",
   "metadata": {},
   "outputs": [],
   "source": [
    "# scale and reshape y test\n",
    "y_test_cnn_scaled = y_scaler_cnn.transform(y_test_cnn.values.reshape(-1,1))"
   ]
  },
  {
   "cell_type": "code",
   "execution_count": null,
   "id": "7312093b",
   "metadata": {},
   "outputs": [],
   "source": [
    "# Scaler for X\n",
    "X_scaler_cnn = MinMaxScaler()"
   ]
  },
  {
   "cell_type": "code",
   "execution_count": null,
   "id": "b6ea9248",
   "metadata": {},
   "outputs": [],
   "source": [
    "# Fit Scaler on X train\n",
    "X_train_cnn_scaled = X_scaler_cnn.fit_transform(X_train_cnn)"
   ]
  },
  {
   "cell_type": "code",
   "execution_count": null,
   "id": "2e58bc04",
   "metadata": {},
   "outputs": [],
   "source": [
    "# scale X test \n",
    "X_test_cnn_scaled = X_scaler_cnn.transform(X_test_cnn)"
   ]
  },
  {
   "cell_type": "markdown",
   "id": "b3177213",
   "metadata": {},
   "source": [
    "##### Sequencing (reshaping) X"
   ]
  },
  {
   "cell_type": "code",
   "execution_count": null,
   "id": "0452b80e",
   "metadata": {},
   "outputs": [],
   "source": [
    "X_train_cnn_scaled_seq, y_train_cnn_scaled_seq = create_sequences(X_train_cnn_scaled, y_train_cnn_scaled, time_steps=7)\n",
    "X_test_cnn_scaled_seq, y_test_cnn_scaled_seq = create_sequences(X_test_cnn_scaled, y_test_cnn_scaled, time_steps=7)"
   ]
  },
  {
   "cell_type": "markdown",
   "id": "abdfc901",
   "metadata": {},
   "source": [
    "##### Model"
   ]
  },
  {
   "cell_type": "code",
   "execution_count": null,
   "id": "e68695cb",
   "metadata": {},
   "outputs": [
    {
     "name": "stdout",
     "output_type": "stream",
     "text": [
      "WARNING:tensorflow:From c:\\Users\\patel\\anaconda3\\Lib\\site-packages\\keras\\src\\backend.py:6642: The name tf.nn.max_pool is deprecated. Please use tf.nn.max_pool2d instead.\n",
      "\n"
     ]
    }
   ],
   "source": [
    "cnn_model = Sequential([\n",
    "    Conv1D(filters=64, kernel_size=2, activation='relu', input_shape=(X_train_cnn_scaled_seq.shape[1], X_train_cnn_scaled_seq.shape[2])),\n",
    "    MaxPooling1D(pool_size=2),\n",
    "    Flatten(),\n",
    "    Dense(64, activation='relu'),\n",
    "    Dense(1)\n",
    "])"
   ]
  },
  {
   "cell_type": "code",
   "execution_count": null,
   "id": "6dac2103",
   "metadata": {},
   "outputs": [],
   "source": [
    "cnn_model.compile(optimizer='adam', loss='mse')"
   ]
  },
  {
   "cell_type": "code",
   "execution_count": null,
   "id": "4f5b989b",
   "metadata": {},
   "outputs": [
    {
     "name": "stdout",
     "output_type": "stream",
     "text": [
      "Epoch 1/25\n",
      "20543/20543 [==============================] - 40s 2ms/step - loss: 0.0190 - val_loss: 0.0190\n",
      "Epoch 2/25\n",
      "20543/20543 [==============================] - 39s 2ms/step - loss: 0.0188 - val_loss: 0.0190\n",
      "Epoch 3/25\n",
      "20543/20543 [==============================] - 39s 2ms/step - loss: 0.0188 - val_loss: 0.0191\n",
      "Epoch 4/25\n",
      "20543/20543 [==============================] - 40s 2ms/step - loss: 0.0188 - val_loss: 0.0190\n",
      "Epoch 5/25\n",
      "20543/20543 [==============================] - 41s 2ms/step - loss: 0.0188 - val_loss: 0.0190\n",
      "Epoch 6/25\n",
      "20543/20543 [==============================] - 40s 2ms/step - loss: 0.0188 - val_loss: 0.0190\n",
      "Epoch 7/25\n",
      "20543/20543 [==============================] - 41s 2ms/step - loss: 0.0188 - val_loss: 0.0190\n",
      "Epoch 8/25\n",
      "20543/20543 [==============================] - 41s 2ms/step - loss: 0.0188 - val_loss: 0.0190\n",
      "Epoch 9/25\n",
      "20543/20543 [==============================] - 41s 2ms/step - loss: 0.0188 - val_loss: 0.0191\n",
      "Epoch 10/25\n",
      "20543/20543 [==============================] - 43s 2ms/step - loss: 0.0188 - val_loss: 0.0190\n",
      "Epoch 11/25\n",
      "20543/20543 [==============================] - 42s 2ms/step - loss: 0.0188 - val_loss: 0.0190\n",
      "Epoch 12/25\n",
      "20543/20543 [==============================] - 43s 2ms/step - loss: 0.0188 - val_loss: 0.0190\n",
      "Epoch 13/25\n",
      "20543/20543 [==============================] - 43s 2ms/step - loss: 0.0188 - val_loss: 0.0190\n",
      "Epoch 14/25\n",
      "20543/20543 [==============================] - 43s 2ms/step - loss: 0.0188 - val_loss: 0.0191\n",
      "Epoch 15/25\n",
      "20543/20543 [==============================] - 44s 2ms/step - loss: 0.0188 - val_loss: 0.0190\n",
      "Epoch 16/25\n",
      "20543/20543 [==============================] - 43s 2ms/step - loss: 0.0188 - val_loss: 0.0190\n",
      "Epoch 17/25\n",
      "20543/20543 [==============================] - 44s 2ms/step - loss: 0.0188 - val_loss: 0.0190\n",
      "Epoch 18/25\n",
      "20543/20543 [==============================] - 44s 2ms/step - loss: 0.0188 - val_loss: 0.0190\n",
      "Epoch 19/25\n",
      "20543/20543 [==============================] - 44s 2ms/step - loss: 0.0188 - val_loss: 0.0190\n",
      "Epoch 20/25\n",
      "20543/20543 [==============================] - 44s 2ms/step - loss: 0.0188 - val_loss: 0.0190\n",
      "Epoch 21/25\n",
      "20543/20543 [==============================] - 47s 2ms/step - loss: 0.0188 - val_loss: 0.0190\n",
      "Epoch 22/25\n",
      "20543/20543 [==============================] - 44s 2ms/step - loss: 0.0188 - val_loss: 0.0190\n",
      "Epoch 23/25\n",
      "20543/20543 [==============================] - 46s 2ms/step - loss: 0.0188 - val_loss: 0.0191\n",
      "Epoch 24/25\n",
      "20543/20543 [==============================] - 46s 2ms/step - loss: 0.0188 - val_loss: 0.0190\n",
      "Epoch 25/25\n",
      "20543/20543 [==============================] - 52s 3ms/step - loss: 0.0188 - val_loss: 0.0190\n"
     ]
    },
    {
     "data": {
      "text/plain": [
       "<keras.src.callbacks.History at 0x1c503326510>"
      ]
     },
     "execution_count": 208,
     "metadata": {},
     "output_type": "execute_result"
    }
   ],
   "source": [
    "cnn_model.fit(X_train_cnn_scaled_seq, y_train_cnn_scaled_seq, epochs=25, batch_size=32, validation_split=0.1)\n"
   ]
  },
  {
   "cell_type": "code",
   "execution_count": null,
   "id": "f23047be",
   "metadata": {},
   "outputs": [
    {
     "name": "stdout",
     "output_type": "stream",
     "text": [
      "5707/5707 [==============================] - 7s 1ms/step - loss: 0.0188\n",
      "Test Loss: 0.018825510516762733\n"
     ]
    }
   ],
   "source": [
    "loss_cnn_test = cnn_model.evaluate(X_test_cnn_scaled_seq, y_test_cnn_scaled_seq)\n",
    "\n",
    "print(f\"Test Loss: {loss_cnn_test}\")\n"
   ]
  },
  {
   "cell_type": "code",
   "execution_count": null,
   "id": "7c5af5eb",
   "metadata": {},
   "outputs": [
    {
     "name": "stdout",
     "output_type": "stream",
     "text": [
      "5707/5707 [==============================] - 8s 1ms/step\n",
      "5707/5707 [==============================] - 6s 981us/step - loss: 0.0188\n",
      "Mean Squared Error on Training Set: 0.018825510516762733\n"
     ]
    }
   ],
   "source": [
    "# predicting on training set\n",
    "y_test_pred_cnn = lstm_model.predict(X_test_cnn_scaled_seq)\n",
    "\n",
    "# mse_ann_train = ann_model.evaluate(X_train_ann, y_train_ann)\n",
    "mse_cnn_test = cnn_model.evaluate(X_test_cnn_scaled_seq, y_test_cnn_scaled_seq)\n",
    "\n",
    "print(\"Mean Squared Error on Training Set:\", mse_cnn_test)"
   ]
  },
  {
   "cell_type": "markdown",
   "id": "003c6200",
   "metadata": {},
   "source": [
    "### BI-LSTM"
   ]
  },
  {
   "cell_type": "markdown",
   "id": "e4c656e1",
   "metadata": {},
   "source": [
    "We are going to use same components that we created for LSTM"
   ]
  },
  {
   "cell_type": "code",
   "execution_count": 28,
   "id": "c000890f",
   "metadata": {},
   "outputs": [
    {
     "name": "stdout",
     "output_type": "stream",
     "text": [
      "WARNING:tensorflow:From c:\\Users\\patel\\anaconda3\\Lib\\site-packages\\keras\\src\\optimizers\\__init__.py:309: The name tf.train.Optimizer is deprecated. Please use tf.compat.v1.train.Optimizer instead.\n",
      "\n"
     ]
    }
   ],
   "source": [
    "bilstm_model = Sequential([\n",
    "    Bidirectional(LSTM(units=50, activation='relu'), input_shape=(X_train_lstm.shape[1], X_train_lstm.shape[2])),\n",
    "    Dense(units=1)\n",
    "])\n",
    "bilstm_model.compile(optimizer='adam', loss='mse')"
   ]
  },
  {
   "cell_type": "code",
   "execution_count": 29,
   "id": "5f616bb8",
   "metadata": {},
   "outputs": [],
   "source": [
    "# compile the LSTM model\n",
    "bilstm_model.compile(optimizer='adam', loss='mse')"
   ]
  },
  {
   "cell_type": "code",
   "execution_count": 30,
   "id": "1253b215",
   "metadata": {},
   "outputs": [
    {
     "name": "stdout",
     "output_type": "stream",
     "text": [
      "Epoch 1/25\n",
      "WARNING:tensorflow:From c:\\Users\\patel\\anaconda3\\Lib\\site-packages\\keras\\src\\utils\\tf_utils.py:492: The name tf.ragged.RaggedTensorValue is deprecated. Please use tf.compat.v1.ragged.RaggedTensorValue instead.\n",
      "\n",
      "20543/20543 [==============================] - 81s 4ms/step - loss: 0.0090 - val_loss: 0.0085\n",
      "Epoch 2/25\n",
      "20543/20543 [==============================] - 81s 4ms/step - loss: 0.0077 - val_loss: 0.0066\n",
      "Epoch 3/25\n",
      "20543/20543 [==============================] - 81s 4ms/step - loss: 0.0057 - val_loss: 0.0044\n",
      "Epoch 4/25\n",
      "20543/20543 [==============================] - 95s 5ms/step - loss: 0.0042 - val_loss: 0.0042\n",
      "Epoch 5/25\n",
      "20543/20543 [==============================] - 86s 4ms/step - loss: 0.0038 - val_loss: 0.0034\n",
      "Epoch 6/25\n",
      "20543/20543 [==============================] - 87s 4ms/step - loss: 0.0037 - val_loss: 0.0033\n",
      "Epoch 7/25\n",
      "20543/20543 [==============================] - 84s 4ms/step - loss: 0.0031 - val_loss: 0.0024\n",
      "Epoch 8/25\n",
      "20543/20543 [==============================] - 85s 4ms/step - loss: 0.0022 - val_loss: 0.0014\n",
      "Epoch 9/25\n",
      "20543/20543 [==============================] - 101s 5ms/step - loss: 0.0014 - val_loss: 0.0015\n",
      "Epoch 10/25\n",
      "20543/20543 [==============================] - 97s 5ms/step - loss: 0.0014 - val_loss: 0.0013\n",
      "Epoch 11/25\n",
      "20543/20543 [==============================] - 90s 4ms/step - loss: 0.0014 - val_loss: 0.0013\n",
      "Epoch 12/25\n",
      "20543/20543 [==============================] - 89s 4ms/step - loss: 0.0013 - val_loss: 0.0012\n",
      "Epoch 13/25\n",
      "20543/20543 [==============================] - 105s 5ms/step - loss: 0.0013 - val_loss: 0.0012\n",
      "Epoch 14/25\n",
      "20543/20543 [==============================] - 110s 5ms/step - loss: 0.0014 - val_loss: 0.0012\n",
      "Epoch 15/25\n",
      "20543/20543 [==============================] - 102s 5ms/step - loss: 0.0012 - val_loss: 0.0012\n",
      "Epoch 16/25\n",
      "20543/20543 [==============================] - 95s 5ms/step - loss: 0.0012 - val_loss: 0.0011\n",
      "Epoch 17/25\n",
      "20543/20543 [==============================] - 87s 4ms/step - loss: 0.0012 - val_loss: 0.0011\n",
      "Epoch 18/25\n",
      "20543/20543 [==============================] - 93s 5ms/step - loss: 0.0013 - val_loss: 0.0011\n",
      "Epoch 19/25\n",
      "20543/20543 [==============================] - 101s 5ms/step - loss: 0.0013 - val_loss: 0.0012\n",
      "Epoch 20/25\n",
      "20543/20543 [==============================] - 91s 4ms/step - loss: 0.0012 - val_loss: 0.0011\n",
      "Epoch 21/25\n",
      "20543/20543 [==============================] - 84s 4ms/step - loss: 0.0012 - val_loss: 0.0012\n",
      "Epoch 22/25\n",
      "20543/20543 [==============================] - 85s 4ms/step - loss: 0.0012 - val_loss: 0.0017\n",
      "Epoch 23/25\n",
      "20543/20543 [==============================] - 83s 4ms/step - loss: 0.0014 - val_loss: 0.0011\n",
      "Epoch 24/25\n",
      "20543/20543 [==============================] - 72s 4ms/step - loss: 0.0012 - val_loss: 0.0012\n",
      "Epoch 25/25\n",
      "20543/20543 [==============================] - 96s 5ms/step - loss: 0.0013 - val_loss: 0.0012\n"
     ]
    },
    {
     "data": {
      "text/plain": [
       "<keras.src.callbacks.History at 0x1c069aac250>"
      ]
     },
     "execution_count": 30,
     "metadata": {},
     "output_type": "execute_result"
    }
   ],
   "source": [
    "# Train the model\n",
    "bilstm_model.fit(X_train_lstm, y_train_lstm, epochs=25, batch_size=32, validation_split=0.1)"
   ]
  },
  {
   "cell_type": "markdown",
   "id": "4037de3e",
   "metadata": {},
   "source": [
    "### ARIMA"
   ]
  },
  {
   "cell_type": "code",
   "execution_count": 38,
   "id": "30410a64",
   "metadata": {},
   "outputs": [],
   "source": [
    "X_arima = df_train.copy()"
   ]
  },
  {
   "cell_type": "markdown",
   "id": "81c8f401",
   "metadata": {},
   "source": [
    "Check the skew and see if the data requires adjustment"
   ]
  },
  {
   "cell_type": "code",
   "execution_count": 42,
   "id": "600db482",
   "metadata": {},
   "outputs": [
    {
     "name": "stdout",
     "output_type": "stream",
     "text": [
      "Pre-skew: 0.867\n",
      "Pre-kurt: 0.509\n"
     ]
    }
   ],
   "source": [
    "pre_skew = X_arima['sales'].skew()\n",
    "pre_kurt = X_arima['sales'].kurt()\n",
    "\n",
    "print(f'Pre-skew: {pre_skew:.3f}')\n",
    "print(f'Pre-kurt: {pre_kurt:.3f}')"
   ]
  },
  {
   "cell_type": "markdown",
   "id": "3bb66ae6",
   "metadata": {},
   "source": [
    "Pre-skew = 0.867: This indicates a moderate right (positive) skew, meaning the distribution has a longer tail on the right side - Apply transformation\n",
    "\n",
    "Pre-kurt = 0.509 < 3: Not many outliers - doesn't need any special handling\n"
   ]
  },
  {
   "cell_type": "code",
   "execution_count": 43,
   "id": "f10df198",
   "metadata": {},
   "outputs": [],
   "source": [
    "#log transformation\n",
    "X_arima['sales'] = np.log1p(X_arima['sales'])\n"
   ]
  },
  {
   "cell_type": "code",
   "execution_count": 44,
   "id": "ad6b5bb4",
   "metadata": {},
   "outputs": [
    {
     "name": "stdout",
     "output_type": "stream",
     "text": [
      "Post-skew: -0.376\n",
      "Post-kurt: -0.239\n"
     ]
    }
   ],
   "source": [
    "post_skew = X_arima['sales'].skew()\n",
    "post_kurt = X_arima['sales'].kurt()\n",
    "\n",
    "print(f'Post-skew: {post_skew:.3f}')\n",
    "print(f'Post-kurt: {post_kurt:.3f}')"
   ]
  },
  {
   "cell_type": "code",
   "execution_count": 48,
   "id": "dca2e6b9",
   "metadata": {},
   "outputs": [],
   "source": [
    "y = X_arima['sales']"
   ]
  },
  {
   "cell_type": "code",
   "execution_count": 54,
   "id": "cf10d936",
   "metadata": {},
   "outputs": [],
   "source": [
    "def test_stationarity_for_all(df, freq='D'):\n",
    "    df['date'] = pd.to_datetime(df['date'])\n",
    "    \n",
    "    # Set 'date' as the index\n",
    "    df.set_index('date', inplace=True)\n",
    "    \n",
    "    # Initialize a list to store results\n",
    "    results = []\n",
    "    \n",
    "    # Iterate over all unique store-item combinations\n",
    "    for (store, item), group in df.groupby(['store', 'item']):\n",
    "        # Resample sales by the specified frequency (sum or mean depending on your data)\n",
    "        resampled_sales = group.resample(freq).sum()\n",
    "\n",
    "        # Apply the ADF test to the resampled sales data\n",
    "        result = adfuller(resampled_sales['sales'])\n",
    "\n",
    "        # Store the results\n",
    "        results.append({\n",
    "            'store': store,\n",
    "            'item': item,\n",
    "            'ADF Test Statistic': result[0],\n",
    "            'p-value': result[1],\n",
    "            'Critical Value (1%)': result[4]['1%'],\n",
    "            'Critical Value (5%)': result[4]['5%'],\n",
    "            'Critical Value (10%)': result[4]['10%'],\n",
    "            'Stationary': 'Yes' if result[1] < 0.05 else 'No'\n",
    "        })\n",
    "    \n",
    "    # Convert results into a DataFrame\n",
    "    results_df = pd.DataFrame(results)\n",
    "    return results_df\n",
    "\n",
    "result_stat_arima = test_stationarity_for_all(X_arima)\n"
   ]
  },
  {
   "cell_type": "markdown",
   "id": "f1aba91e",
   "metadata": {},
   "source": [
    "Most combo are stationary so we will consider overall its stationary"
   ]
  },
  {
   "cell_type": "code",
   "execution_count": 64,
   "id": "93e7bea2",
   "metadata": {},
   "outputs": [],
   "source": [
    "X_arima_combo = X_arima.groupby(['date','store', 'item'])['sales'].sum().reset_index()"
   ]
  },
  {
   "cell_type": "code",
   "execution_count": 66,
   "id": "498220a7",
   "metadata": {},
   "outputs": [],
   "source": [
    "# ARIMA evaluation functions\n",
    "def evaluate_arima_model(X, arima_order):\n",
    "    train_size = int(len(X) * 0.8)\n",
    "    train, test = X[:train_size], X[train_size:]\n",
    "    history = list(train)\n",
    "    predictions = []\n",
    "    for t in range(len(test)):\n",
    "        model = ARIMA(history, order=arima_order)\n",
    "        model_fit = model.fit()\n",
    "        yhat = model_fit.forecast(steps=1)[0]\n",
    "        predictions.append(yhat)\n",
    "        history.append(test[t])\n",
    "    error = mean_squared_error(test, predictions)\n",
    "    return error\n",
    "\n",
    "def evaluate_models(dataset, p_values, d_values, q_values):\n",
    "    dataset = dataset.astype('float32')\n",
    "    best_score, best_cfg = float(\"inf\"), None\n",
    "    for p in p_values:\n",
    "        for d in d_values:\n",
    "            for q in q_values:\n",
    "                order = (p, d, q)\n",
    "                try:\n",
    "                    mse = evaluate_arima_model(dataset, order)\n",
    "                    if mse < best_score:\n",
    "                        best_score, best_cfg = mse, order\n",
    "                    print(f'ARIMA{order} MSE={mse:.3f}')\n",
    "                except:\n",
    "                    continue\n",
    "    return best_cfg, best_score"
   ]
  },
  {
   "cell_type": "code",
   "execution_count": null,
   "id": "6d29194a",
   "metadata": {},
   "outputs": [],
   "source": [
    "store_item_combos = X_arima[['store', 'item']].drop_duplicates()"
   ]
  },
  {
   "cell_type": "code",
   "execution_count": 69,
   "id": "3becc8af",
   "metadata": {},
   "outputs": [
    {
     "name": "stdout",
     "output_type": "stream",
     "text": [
      "\n",
      "Evaluating ARIMA for Store: 1, Item: 1\n"
     ]
    },
    {
     "name": "stderr",
     "output_type": "stream",
     "text": [
      "c:\\Users\\patel\\anaconda3\\Lib\\site-packages\\statsmodels\\base\\model.py:607: ConvergenceWarning: Maximum Likelihood optimization failed to converge. Check mle_retvals\n",
      "  warnings.warn(\"Maximum Likelihood optimization failed to \"\n",
      "c:\\Users\\patel\\anaconda3\\Lib\\site-packages\\statsmodels\\base\\model.py:607: ConvergenceWarning: Maximum Likelihood optimization failed to converge. Check mle_retvals\n",
      "  warnings.warn(\"Maximum Likelihood optimization failed to \"\n",
      "c:\\Users\\patel\\anaconda3\\Lib\\site-packages\\statsmodels\\base\\model.py:607: ConvergenceWarning: Maximum Likelihood optimization failed to converge. Check mle_retvals\n",
      "  warnings.warn(\"Maximum Likelihood optimization failed to \"\n",
      "c:\\Users\\patel\\anaconda3\\Lib\\site-packages\\statsmodels\\base\\model.py:607: ConvergenceWarning: Maximum Likelihood optimization failed to converge. Check mle_retvals\n",
      "  warnings.warn(\"Maximum Likelihood optimization failed to \"\n",
      "c:\\Users\\patel\\anaconda3\\Lib\\site-packages\\statsmodels\\base\\model.py:607: ConvergenceWarning: Maximum Likelihood optimization failed to converge. Check mle_retvals\n",
      "  warnings.warn(\"Maximum Likelihood optimization failed to \"\n",
      "c:\\Users\\patel\\anaconda3\\Lib\\site-packages\\statsmodels\\base\\model.py:607: ConvergenceWarning: Maximum Likelihood optimization failed to converge. Check mle_retvals\n",
      "  warnings.warn(\"Maximum Likelihood optimization failed to \"\n",
      "c:\\Users\\patel\\anaconda3\\Lib\\site-packages\\statsmodels\\base\\model.py:607: ConvergenceWarning: Maximum Likelihood optimization failed to converge. Check mle_retvals\n",
      "  warnings.warn(\"Maximum Likelihood optimization failed to \"\n",
      "c:\\Users\\patel\\anaconda3\\Lib\\site-packages\\statsmodels\\base\\model.py:607: ConvergenceWarning: Maximum Likelihood optimization failed to converge. Check mle_retvals\n",
      "  warnings.warn(\"Maximum Likelihood optimization failed to \"\n"
     ]
    },
    {
     "ename": "",
     "evalue": "",
     "output_type": "error",
     "traceback": [
      "\u001b[1;31mCannot execute code, session has been disposed. Please try restarting the Kernel."
     ]
    },
    {
     "ename": "",
     "evalue": "",
     "output_type": "error",
     "traceback": [
      "\u001b[1;31mCannot execute code, session has been disposed. Please try restarting the Kernel. \n",
      "\u001b[1;31mView Jupyter <a href='command:jupyter.viewOutput'>log</a> for further details."
     ]
    }
   ],
   "source": [
    "# ARIMA hyperparameters to try\n",
    "p_values = [1, 2, 3, 4, 5]\n",
    "d_values = [0, 1]\n",
    "q_values = [0, 1]\n",
    "\n",
    "# Store results\n",
    "results = []\n",
    "\n",
    "# Loop over each store-item combination\n",
    "for _, row in store_item_combos.iterrows():\n",
    "    store = row['store']\n",
    "    item = row['item']\n",
    "    \n",
    "    # Filter and aggregate sales by date\n",
    "    sub_df = X_arima[(X_arima['store'] == store) & (X_arima['item'] == item)]\n",
    "    sales_series = sub_df.groupby('date')['sales'].sum().sort_index()\n",
    "\n",
    "    # Only fit if there's enough data\n",
    "    if len(sales_series) < 30:\n",
    "        print(f\"Skipping {store}-{item} due to insufficient data ({len(sales_series)} records)\")\n",
    "        continue\n",
    "\n",
    "    print(f\"\\nEvaluating ARIMA for Store: {store}, Item: {item}\")\n",
    "    best_order, best_mse = evaluate_models(sales_series.values, p_values, d_values, q_values)\n",
    "    \n",
    "    results.append({\n",
    "        'store': store,\n",
    "        'item': item,\n",
    "        'best_order': best_order,\n",
    "        'mse': best_mse\n",
    "    })\n"
   ]
  }
 ],
 "metadata": {
  "kernelspec": {
   "display_name": "base",
   "language": "python",
   "name": "python3"
  },
  "language_info": {
   "codemirror_mode": {
    "name": "ipython",
    "version": 3
   },
   "file_extension": ".py",
   "mimetype": "text/x-python",
   "name": "python",
   "nbconvert_exporter": "python",
   "pygments_lexer": "ipython3",
   "version": "3.11.4"
  }
 },
 "nbformat": 4,
 "nbformat_minor": 5
}
